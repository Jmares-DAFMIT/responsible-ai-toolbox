{
 "cells": [
  {
   "cell_type": "code",
   "execution_count": null,
   "id": "f26f41f1",
   "metadata": {},
   "outputs": [],
   "source": [
    "# Copyright (c) 2022 Massachusetts Institute of Technology\n",
    "# SPDX-License-Identifier: MIT"
   ]
  },
  {
   "cell_type": "markdown",
   "id": "144a34dc-073d-4af6-9471-3d6914baa1d8",
   "metadata": {},
   "source": [
    "\n",
    "\n",
    "# Evalulate Robustness of Adversarial Training\n",
    "\n",
    "Adversarial Training is about solving for model parameters by evaluating against the worst-case loss:\n",
    "\n",
    "$$\n",
    "\\hat{\\theta} = \\min_\\theta \\mathbb{E}_{(x,y) \\sim D} \\left[ \\max\\limits_{\\|\\delta\\|_p<\\epsilon} \\mathcal{L}\\left(f_\\theta(x+\\delta), y\\right) \\right]\n",
    "$$\n",
    "\n",
    "The code using `rAI-toolbox` boils down to simply running the following training loop:\n",
    "\n",
    "```python\n",
    "perturb_data = # define function to perturb the data\n",
    "model = # load model\n",
    "opt = Optim(model.parameters(), ...) # define optimizer\n",
    "for epochs in range(num_epochs):\n",
    "    for data, target in train_dataloader:\n",
    "        perturbed_data = perturb_data(model, data, target, criterion)\n",
    "\n",
    "        output = model(perturbed_data)\n",
    "        loss = criterion(output, target)\n",
    "\n",
    "        # Update model parameters\n",
    "        opt.zero_grad()\n",
    "        loss.backward()\n",
    "        opt.step()\n",
    "\n",
    "```\n",
    "\n",
    "## Implementation\n",
    "\n",
    "The code is organized as follows:\n",
    "\n",
    "```\n",
    "adversarial_training\n",
    "├── configs.py :  hydra-zen configurations\n",
    "├── solver.py  :  The LightningModule\n",
    "└── train.py   :  Main function to train\n",
    "```\n",
    "\n",
    "### Training\n",
    "\n",
    "Here we train a ResNet-50 on CIFAR-10 with $p=2$ and $\\epsilon=1$. This should reproduce the same model available from [MadryLab](https://github.com/MadryLab/robustness).  To train simply execute `train.py`:\n",
    "\n",
    "```bash\n",
    ">> python train.py\n",
    "```\n"
   ]
  },
  {
   "cell_type": "markdown",
   "id": "b7879cb8-52bb-4f3b-9cf1-1a58e68f5caa",
   "metadata": {},
   "source": [
    "### Results"
   ]
  },
  {
   "cell_type": "code",
   "execution_count": 1,
   "id": "065d602b-eff6-4116-9391-1febee590740",
   "metadata": {},
   "outputs": [],
   "source": [
    "%matplotlib inline\n",
    "import os\n",
    "from pathlib import Path\n",
    "\n",
    "import matplotlib.pyplot as plt\n",
    "import numpy as np\n",
    "import torch\n",
    "\n",
    "# Needed for `launch`\n",
    "os.environ[\"PYTHONPATH\"] = os.getcwd()"
   ]
  },
  {
   "cell_type": "code",
   "execution_count": 23,
   "id": "c928e9e6-4717-4728-924a-184de15fcb3e",
   "metadata": {},
   "outputs": [],
   "source": [
    "import configs\n",
    "import pytorch_lightning as pl\n",
    "from hydra_zen import builds, instantiate, launch, make_config\n",
    "from rai_toolbox.mushin import load_experiment\n",
    "from rai_toolbox.mushin._tasks import RobustnessCurve"
   ]
  },
  {
   "cell_type": "markdown",
   "id": "38e33dcb-7bf2-4613-a524-047bb028e681",
   "metadata": {},
   "source": [
    "#### Load Accuracy Metrics"
   ]
  },
  {
   "cell_type": "code",
   "execution_count": 3,
   "id": "b9b842ac-bd00-4545-8419-f276138d1352",
   "metadata": {},
   "outputs": [
    {
     "data": {
      "text/plain": [
       "Text(0, 0.5, 'accuracy')"
      ]
     },
     "execution_count": 3,
     "metadata": {},
     "output_type": "execute_result"
    },
    {
     "data": {
      "image/png": "[encoded data removed]",
      "text/plain": [
       "<Figure size 432x288 with 1 Axes>"
      ]
     },
     "metadata": {
      "needs_background": "light"
     },
     "output_type": "display_data"
    }
   ],
   "source": [
    "working_dir = \"outputs/epsilon_1.0/2022-01-04/\"\n",
    "exps = load_experiment(working_dir)\n",
    "\n",
    "metrics = exps.metrics[\"fit_metrics\"]\n",
    "plt.plot(metrics[\"epoch\"], metrics[\"Train/Accuracy\"], label=\"train\")\n",
    "plt.plot(metrics[\"epoch\"], metrics[\"Val/Accuracy\"], label=\"test\")\n",
    "plt.legend()\n",
    "plt.xlabel(\"epochs\")\n",
    "plt.ylabel(\"accuracy\")"
   ]
  },
  {
   "cell_type": "markdown",
   "id": "e85d4a05-6ff8-4ee9-87ef-7db1cf3959f1",
   "metadata": {},
   "source": [
    "#### Define Checkpoint\n",
    "\n",
    "Given the accuracy over time, the best checkpoint happpens around epoch of 50 instead of the last checkpoint."
   ]
  },
  {
   "cell_type": "code",
   "execution_count": 4,
   "id": "b68905a3-e562-4017-bf74-4509b08abb46",
   "metadata": {},
   "outputs": [
    {
     "data": {
      "text/plain": [
       "['/home/justin_goodwin/projects/raiden/responsible_ai/experiments/adversarial_training/outputs/epsilon_1.0/2022-01-04/14-16-45/lightning_logs/version_0/checkpoints/epoch_52.ckpt',\n",
       " '/home/justin_goodwin/projects/raiden/responsible_ai/experiments/adversarial_training/outputs/epsilon_1.0/2022-01-04/14-16-45/lightning_logs/version_0/checkpoints/last.ckpt']"
      ]
     },
     "execution_count": 4,
     "metadata": {},
     "output_type": "execute_result"
    }
   ],
   "source": [
    "exps.ckpts"
   ]
  },
  {
   "cell_type": "code",
   "execution_count": 5,
   "id": "3acdac13-5596-42db-94b8-61a3eda160c7",
   "metadata": {},
   "outputs": [],
   "source": [
    "best_ckpt = exps.ckpts[0]"
   ]
  },
  {
   "cell_type": "markdown",
   "id": "34f1c70a-2bc0-4127-b6b8-fbe51e3d22cf",
   "metadata": {},
   "source": [
    "#### Define Testing Configuration"
   ]
  },
  {
   "cell_type": "code",
   "execution_count": 6,
   "id": "b8a96363-a265-4305-a3f7-e1fd950fe9d5",
   "metadata": {},
   "outputs": [],
   "source": [
    "DatasetCfg = make_config(\n",
    "    batch_size=128,\n",
    "    num_workers=8,\n",
    "    dataset=None,\n",
    "    val_dataset=None,\n",
    "    test_dataset=builds(\n",
    "        torch.utils.data.DataLoader,\n",
    "        configs.TestCIFAR10,\n",
    "        batch_size=\"${batch_size}\",\n",
    "        num_workers=\"${num_workers}\",\n",
    "        pin_memory=True,\n",
    "    ),\n",
    ")\n",
    "\n",
    "TestConfig = make_config(\n",
    "    random_seed=938390,\n",
    "    ckpt=best_ckpt,\n",
    "    bases=(DatasetCfg, configs.ModelCfg, configs.SolverCfg, configs.TrainerCfg),\n",
    ")"
   ]
  },
  {
   "cell_type": "markdown",
   "id": "e06093ab-4c44-4526-a92c-df7d565874f0",
   "metadata": {},
   "source": [
    "#### Test Against a Defined Perturbation Strength"
   ]
  },
  {
   "cell_type": "code",
   "execution_count": 7,
   "id": "3bf3c681-94db-4041-9c39-bb526bf83f6a",
   "metadata": {},
   "outputs": [],
   "source": [
    "def test(cfg):\n",
    "    pl.seed_everything(cfg.random_seed)\n",
    "    obj = instantiate(cfg)\n",
    "    obj.trainer.test(obj.module)"
   ]
  },
  {
   "cell_type": "code",
   "execution_count": 8,
   "id": "882545c9-f45f-4249-8670-80c8cd3c2a3b",
   "metadata": {},
   "outputs": [
    {
     "name": "stderr",
     "output_type": "stream",
     "text": [
      "Global seed set to 938390\n",
      "GPU available: True, used: True\n",
      "TPU available: False, using: 0 TPU cores\n",
      "IPU available: False, using: 0 IPUs\n"
     ]
    },
    {
     "name": "stdout",
     "output_type": "stream",
     "text": [
      "Files already downloaded and verified\n",
      "[2022-03-10 22:22:16,176][rai_toolbox.mushin._utils][INFO] - Loading model checkpoint from /home/justin_goodwin/projects/raiden/responsible_ai/experiments/adversarial_training/outputs/epsilon_1.0/2022-01-04/14-16-45/lightning_logs/version_0/checkpoints/epoch_52.ckpt\n",
      "[2022-03-10 22:22:16,642][rai_toolbox.mushin._utils][INFO] - Loading model checkpoint from /home/justin_goodwin/projects/raiden/responsible_ai/experiments/adversarial_training/outputs/epsilon_1.0/2022-01-04/14-16-45/lightning_logs/version_0/checkpoints/epoch_52.ckpt\n",
      "Files already downloaded and verified\n",
      "Files already downloaded and verified\n",
      "[2022-03-10 22:22:20,776][rai_toolbox.mushin._utils][INFO] - Loading model checkpoint from /home/justin_goodwin/projects/raiden/responsible_ai/experiments/adversarial_training/outputs/epsilon_1.0/2022-01-04/14-16-45/lightning_logs/version_0/checkpoints/epoch_52.ckpt\n"
     ]
    },
    {
     "name": "stderr",
     "output_type": "stream",
     "text": [
      "Global seed set to 938390\n",
      "initializing distributed: GLOBAL_RANK: 1, MEMBER: 2/2\n",
      "Global seed set to 938390\n",
      "initializing distributed: GLOBAL_RANK: 0, MEMBER: 1/2\n"
     ]
    },
    {
     "name": "stdout",
     "output_type": "stream",
     "text": [
      "[2022-03-10 22:22:23,069][torch.distributed.distributed_c10d][INFO] - Added key: store_based_barrier_key:1 to store for rank: 1\n",
      "[2022-03-10 22:22:23,074][torch.distributed.distributed_c10d][INFO] - Added key: store_based_barrier_key:1 to store for rank: 0\n",
      "[2022-03-10 22:22:23,075][torch.distributed.distributed_c10d][INFO] - Rank 0: Completed store-based barrier for key:store_based_barrier_key:1 with 2 nodes.\n"
     ]
    },
    {
     "name": "stderr",
     "output_type": "stream",
     "text": [
      "----------------------------------------------------------------------------------------------------\n",
      "distributed_backend=nccl\n",
      "All distributed processes registered. Starting with 2 processes\n",
      "----------------------------------------------------------------------------------------------------\n",
      "\n"
     ]
    },
    {
     "name": "stdout",
     "output_type": "stream",
     "text": [
      "[2022-03-10 22:22:23,080][torch.distributed.distributed_c10d][INFO] - Rank 1: Completed store-based barrier for key:store_based_barrier_key:1 with 2 nodes.\n"
     ]
    },
    {
     "name": "stderr",
     "output_type": "stream",
     "text": [
      "LOCAL_RANK: 0 - CUDA_VISIBLE_DEVICES: [0,1]\n",
      "LOCAL_RANK: 1 - CUDA_VISIBLE_DEVICES: [0,1]\n",
      "Missing logger folder: /home/justin_goodwin/projects/raiden/responsible_ai/experiments/adversarial_training/outputs/2022-03-10/22-22-15/lightning_logs\n",
      "Missing logger folder: /home/justin_goodwin/projects/raiden/responsible_ai/experiments/adversarial_training/outputs/2022-03-10/22-22-15/lightning_logs\n"
     ]
    },
    {
     "data": {
      "application/vnd.jupyter.widget-view+json": {
       "model_id": "9981918cfd2643f7b1cb8873cf8f3782",
       "version_major": 2,
       "version_minor": 0
      },
      "text/plain": [
       "Testing: 0it [00:00, ?it/s]"
      ]
     },
     "metadata": {},
     "output_type": "display_data"
    },
    {
     "name": "stdout",
     "output_type": "stream",
     "text": [
      "--------------------------------------------------------------------------------\n",
      "DATALOADER:0 TEST RESULTS\n",
      "{'Test/Accuracy': 0.5144000053405762, 'Test/Loss': 1.2715364694595337}\n",
      "--------------------------------------------------------------------------------\n"
     ]
    }
   ],
   "source": [
    "job = launch(TestConfig, test, overrides=[\"epsilon=1.0\"])"
   ]
  },
  {
   "cell_type": "code",
   "execution_count": 9,
   "id": "68691144-5ed0-4f2c-a754-49df76077b35",
   "metadata": {},
   "outputs": [
    {
     "name": "stdout",
     "output_type": "stream",
     "text": [
      "Test Accuracy for ϵ=1 is: 51.44%\n"
     ]
    }
   ],
   "source": [
    "print(\n",
    "    f\"Test Accuracy for ϵ=1 is: {torch.load(Path(job.working_dir) / 'test_metrics.pt')['Test/Accuracy'][0] * 100:.2f}%\"\n",
    ")"
   ]
  },
  {
   "cell_type": "markdown",
   "id": "b6bcd01a-c342-44e5-890f-5db1c042df73",
   "metadata": {},
   "source": [
    "As shown in the \"CIFAR10 L2-robust accuracy\" table in the [README.md](https://github.com/MadryLab/robustness), we expect a test accuracy for $\\epsilon = 1$ close to $52$%, exactly what we see above."
   ]
  },
  {
   "cell_type": "markdown",
   "id": "c8170df5-0195-4408-8944-dc3bf99f1421",
   "metadata": {},
   "source": [
    "#### Robustness Curve\n",
    "\n",
    "Launch a `RobustnessCurve` task to evaluate accuracy for different $\\epsilon$ values."
   ]
  },
  {
   "cell_type": "code",
   "execution_count": 14,
   "id": "2f63ce45-124e-4663-952b-59987de841ec",
   "metadata": {},
   "outputs": [],
   "source": [
    "class RobustnessCurveTask(RobustnessCurve):\n",
    "    @staticmethod\n",
    "    def evaluation_task(random_seed: int, trainer: pl.Trainer, module):\n",
    "        trainer.test(module)\n",
    "        assert Path(\"test_metrics.pt\").exists()\n",
    "        metrics = torch.load(\"test_metrics.pt\")\n",
    "        return metrics[\"Test/Accuracy\"][-1]\n",
    "\n",
    "\n",
    "def curve_task_fn(cfg):\n",
    "    task = RobustnessCurveTask(cfg)\n",
    "    launcher = None if \"launcher\" not in cfg else cfg.launcher\n",
    "    task.run(job_epsilons=cfg.job_epsilon, launcher=launcher)\n",
    "    print(\"Finished Job\")\n",
    "    print(\"\")\n",
    "    return task.to_xarray()"
   ]
  },
  {
   "cell_type": "code",
   "execution_count": 16,
   "id": "0d945d2f-c7c1-4aea-bad6-9072742107bf",
   "metadata": {},
   "outputs": [
    {
     "name": "stdout",
     "output_type": "stream",
     "text": [
      "[2022-03-10 22:26:04,032][HYDRA] Launching 4 jobs locally\n",
      "[2022-03-10 22:26:04,032][HYDRA] \t#0 : epsilon=0.0\n"
     ]
    },
    {
     "name": "stderr",
     "output_type": "stream",
     "text": [
      "GPU available: True, used: True\n",
      "TPU available: False, using: 0 TPU cores\n",
      "IPU available: False, using: 0 IPUs\n"
     ]
    },
    {
     "name": "stdout",
     "output_type": "stream",
     "text": [
      "Files already downloaded and verified\n",
      "[2022-03-10 22:26:05,172][rai_toolbox.mushin._utils][INFO] - Loading model checkpoint from /home/justin_goodwin/projects/raiden/responsible_ai/experiments/adversarial_training/outputs/epsilon_1.0/2022-01-04/14-16-45/lightning_logs/version_0/checkpoints/epoch_52.ckpt\n",
      "Files already downloaded and verified\n",
      "[2022-03-10 22:26:09,533][rai_toolbox.mushin._utils][INFO] - Loading model checkpoint from /home/justin_goodwin/projects/raiden/responsible_ai/experiments/adversarial_training/outputs/epsilon_1.0/2022-01-04/14-16-45/lightning_logs/version_0/checkpoints/epoch_52.ckpt\n"
     ]
    },
    {
     "name": "stderr",
     "output_type": "stream",
     "text": [
      "Global seed set to 938390\n",
      "initializing distributed: GLOBAL_RANK: 1, MEMBER: 2/2\n",
      "Global seed set to 938390\n",
      "initializing distributed: GLOBAL_RANK: 0, MEMBER: 1/2\n"
     ]
    },
    {
     "name": "stdout",
     "output_type": "stream",
     "text": [
      "[2022-03-10 22:26:10,828][torch.distributed.distributed_c10d][INFO] - Added key: store_based_barrier_key:1 to store for rank: 1\n",
      "[2022-03-10 22:26:10,829][torch.distributed.distributed_c10d][INFO] - Added key: store_based_barrier_key:1 to store for rank: 0\n",
      "[2022-03-10 22:26:10,830][torch.distributed.distributed_c10d][INFO] - Rank 0: Completed store-based barrier for key:store_based_barrier_key:1 with 2 nodes.\n"
     ]
    },
    {
     "name": "stderr",
     "output_type": "stream",
     "text": [
      "----------------------------------------------------------------------------------------------------\n",
      "distributed_backend=nccl\n",
      "All distributed processes registered. Starting with 2 processes\n",
      "----------------------------------------------------------------------------------------------------\n",
      "\n"
     ]
    },
    {
     "name": "stdout",
     "output_type": "stream",
     "text": [
      "[2022-03-10 22:26:10,838][torch.distributed.distributed_c10d][INFO] - Rank 1: Completed store-based barrier for key:store_based_barrier_key:1 with 2 nodes.\n"
     ]
    },
    {
     "name": "stderr",
     "output_type": "stream",
     "text": [
      "LOCAL_RANK: 0 - CUDA_VISIBLE_DEVICES: [0,1]\n",
      "LOCAL_RANK: 1 - CUDA_VISIBLE_DEVICES: [0,1]\n",
      "Missing logger folder: /home/justin_goodwin/projects/raiden/responsible_ai/experiments/adversarial_training/outputs/2022-03-10/22-26-03/0/lightning_logs\n",
      "Missing logger folder: /home/justin_goodwin/projects/raiden/responsible_ai/experiments/adversarial_training/outputs/2022-03-10/22-26-03/0/lightning_logs\n"
     ]
    },
    {
     "data": {
      "application/vnd.jupyter.widget-view+json": {
       "model_id": "2a0c1e4c410c49e69e0597c04e854d1b",
       "version_major": 2,
       "version_minor": 0
      },
      "text/plain": [
       "Testing: 0it [00:00, ?it/s]"
      ]
     },
     "metadata": {},
     "output_type": "display_data"
    },
    {
     "name": "stdout",
     "output_type": "stream",
     "text": [
      "--------------------------------------------------------------------------------\n",
      "DATALOADER:0 TEST RESULTS\n",
      "{'Test/Accuracy': 0.7986999750137329, 'Test/Loss': 0.6478748917579651}\n",
      "--------------------------------------------------------------------------------\n",
      "[2022-03-10 22:26:40,314][HYDRA] \t#1 : epsilon=0.25\n"
     ]
    },
    {
     "name": "stderr",
     "output_type": "stream",
     "text": [
      "GPU available: True, used: True\n",
      "TPU available: False, using: 0 TPU cores\n",
      "IPU available: False, using: 0 IPUs\n"
     ]
    },
    {
     "name": "stdout",
     "output_type": "stream",
     "text": [
      "Files already downloaded and verified\n",
      "[2022-03-10 22:26:41,454][rai_toolbox.mushin._utils][INFO] - Loading model checkpoint from /home/justin_goodwin/projects/raiden/responsible_ai/experiments/adversarial_training/outputs/epsilon_1.0/2022-01-04/14-16-45/lightning_logs/version_0/checkpoints/epoch_52.ckpt\n",
      "Files already downloaded and verified\n",
      "[2022-03-10 22:26:45,113][rai_toolbox.mushin._utils][INFO] - Loading model checkpoint from /home/justin_goodwin/projects/raiden/responsible_ai/experiments/adversarial_training/outputs/epsilon_1.0/2022-01-04/14-16-45/lightning_logs/version_0/checkpoints/epoch_52.ckpt\n"
     ]
    },
    {
     "name": "stderr",
     "output_type": "stream",
     "text": [
      "Global seed set to 938390\n",
      "initializing distributed: GLOBAL_RANK: 1, MEMBER: 2/2\n",
      "Global seed set to 938390\n",
      "initializing distributed: GLOBAL_RANK: 0, MEMBER: 1/2\n"
     ]
    },
    {
     "name": "stdout",
     "output_type": "stream",
     "text": [
      "[2022-03-10 22:26:47,403][torch.distributed.distributed_c10d][INFO] - Added key: store_based_barrier_key:1 to store for rank: 1\n",
      "[2022-03-10 22:26:47,407][torch.distributed.distributed_c10d][INFO] - Added key: store_based_barrier_key:1 to store for rank: 0\n",
      "[2022-03-10 22:26:47,408][torch.distributed.distributed_c10d][INFO] - Rank 0: Completed store-based barrier for key:store_based_barrier_key:1 with 2 nodes.\n"
     ]
    },
    {
     "name": "stderr",
     "output_type": "stream",
     "text": [
      "----------------------------------------------------------------------------------------------------\n",
      "distributed_backend=nccl\n",
      "All distributed processes registered. Starting with 2 processes\n",
      "----------------------------------------------------------------------------------------------------\n",
      "\n"
     ]
    },
    {
     "name": "stdout",
     "output_type": "stream",
     "text": [
      "[2022-03-10 22:26:47,413][torch.distributed.distributed_c10d][INFO] - Rank 1: Completed store-based barrier for key:store_based_barrier_key:1 with 2 nodes.\n"
     ]
    },
    {
     "name": "stderr",
     "output_type": "stream",
     "text": [
      "LOCAL_RANK: 0 - CUDA_VISIBLE_DEVICES: [0,1]\n",
      "LOCAL_RANK: 1 - CUDA_VISIBLE_DEVICES: [0,1]\n",
      "Missing logger folder: /home/justin_goodwin/projects/raiden/responsible_ai/experiments/adversarial_training/outputs/2022-03-10/22-26-03/1/lightning_logs\n",
      "Missing logger folder: /home/justin_goodwin/projects/raiden/responsible_ai/experiments/adversarial_training/outputs/2022-03-10/22-26-03/1/lightning_logs\n"
     ]
    },
    {
     "data": {
      "application/vnd.jupyter.widget-view+json": {
       "model_id": "eae14a8bbbb54974b03d38c454a414a2",
       "version_major": 2,
       "version_minor": 0
      },
      "text/plain": [
       "Testing: 0it [00:00, ?it/s]"
      ]
     },
     "metadata": {},
     "output_type": "display_data"
    },
    {
     "name": "stdout",
     "output_type": "stream",
     "text": [
      "--------------------------------------------------------------------------------\n",
      "DATALOADER:0 TEST RESULTS\n",
      "{'Test/Accuracy': 0.7353000044822693, 'Test/Loss': 0.7643936276435852}\n",
      "--------------------------------------------------------------------------------\n",
      "[2022-03-10 22:27:17,410][HYDRA] \t#2 : epsilon=1.0\n"
     ]
    },
    {
     "name": "stderr",
     "output_type": "stream",
     "text": [
      "GPU available: True, used: True\n",
      "TPU available: False, using: 0 TPU cores\n",
      "IPU available: False, using: 0 IPUs\n"
     ]
    },
    {
     "name": "stdout",
     "output_type": "stream",
     "text": [
      "Files already downloaded and verified\n",
      "[2022-03-10 22:27:18,674][rai_toolbox.mushin._utils][INFO] - Loading model checkpoint from /home/justin_goodwin/projects/raiden/responsible_ai/experiments/adversarial_training/outputs/epsilon_1.0/2022-01-04/14-16-45/lightning_logs/version_0/checkpoints/epoch_52.ckpt\n",
      "Files already downloaded and verified\n",
      "[2022-03-10 22:27:23,036][rai_toolbox.mushin._utils][INFO] - Loading model checkpoint from /home/justin_goodwin/projects/raiden/responsible_ai/experiments/adversarial_training/outputs/epsilon_1.0/2022-01-04/14-16-45/lightning_logs/version_0/checkpoints/epoch_52.ckpt\n"
     ]
    },
    {
     "name": "stderr",
     "output_type": "stream",
     "text": [
      "Global seed set to 938390\n",
      "initializing distributed: GLOBAL_RANK: 1, MEMBER: 2/2\n",
      "Global seed set to 938390\n",
      "initializing distributed: GLOBAL_RANK: 0, MEMBER: 1/2\n"
     ]
    },
    {
     "name": "stdout",
     "output_type": "stream",
     "text": [
      "[2022-03-10 22:27:24,352][torch.distributed.distributed_c10d][INFO] - Added key: store_based_barrier_key:1 to store for rank: 1\n",
      "[2022-03-10 22:27:24,355][torch.distributed.distributed_c10d][INFO] - Added key: store_based_barrier_key:1 to store for rank: 0\n",
      "[2022-03-10 22:27:24,355][torch.distributed.distributed_c10d][INFO] - Rank 0: Completed store-based barrier for key:store_based_barrier_key:1 with 2 nodes.\n"
     ]
    },
    {
     "name": "stderr",
     "output_type": "stream",
     "text": [
      "----------------------------------------------------------------------------------------------------\n",
      "distributed_backend=nccl\n",
      "All distributed processes registered. Starting with 2 processes\n",
      "----------------------------------------------------------------------------------------------------\n",
      "\n"
     ]
    },
    {
     "name": "stdout",
     "output_type": "stream",
     "text": [
      "[2022-03-10 22:27:24,362][torch.distributed.distributed_c10d][INFO] - Rank 1: Completed store-based barrier for key:store_based_barrier_key:1 with 2 nodes.\n"
     ]
    },
    {
     "name": "stderr",
     "output_type": "stream",
     "text": [
      "LOCAL_RANK: 0 - CUDA_VISIBLE_DEVICES: [0,1]\n",
      "LOCAL_RANK: 1 - CUDA_VISIBLE_DEVICES: [0,1]\n",
      "Missing logger folder: /home/justin_goodwin/projects/raiden/responsible_ai/experiments/adversarial_training/outputs/2022-03-10/22-26-03/2/lightning_logs\n",
      "Missing logger folder: /home/justin_goodwin/projects/raiden/responsible_ai/experiments/adversarial_training/outputs/2022-03-10/22-26-03/2/lightning_logs\n"
     ]
    },
    {
     "data": {
      "application/vnd.jupyter.widget-view+json": {
       "model_id": "93c2393350444fbaab461e5d25d1247b",
       "version_major": 2,
       "version_minor": 0
      },
      "text/plain": [
       "Testing: 0it [00:00, ?it/s]"
      ]
     },
     "metadata": {},
     "output_type": "display_data"
    },
    {
     "name": "stdout",
     "output_type": "stream",
     "text": [
      "--------------------------------------------------------------------------------\n",
      "DATALOADER:0 TEST RESULTS\n",
      "{'Test/Accuracy': 0.5144000053405762, 'Test/Loss': 1.271536946296692}\n",
      "--------------------------------------------------------------------------------\n",
      "[2022-03-10 22:27:53,976][HYDRA] \t#3 : epsilon=2.0\n"
     ]
    },
    {
     "name": "stderr",
     "output_type": "stream",
     "text": [
      "GPU available: True, used: True\n",
      "TPU available: False, using: 0 TPU cores\n",
      "IPU available: False, using: 0 IPUs\n"
     ]
    },
    {
     "name": "stdout",
     "output_type": "stream",
     "text": [
      "Files already downloaded and verified\n",
      "[2022-03-10 22:27:55,198][rai_toolbox.mushin._utils][INFO] - Loading model checkpoint from /home/justin_goodwin/projects/raiden/responsible_ai/experiments/adversarial_training/outputs/epsilon_1.0/2022-01-04/14-16-45/lightning_logs/version_0/checkpoints/epoch_52.ckpt\n",
      "Files already downloaded and verified\n",
      "[2022-03-10 22:27:58,598][rai_toolbox.mushin._utils][INFO] - Loading model checkpoint from /home/justin_goodwin/projects/raiden/responsible_ai/experiments/adversarial_training/outputs/epsilon_1.0/2022-01-04/14-16-45/lightning_logs/version_0/checkpoints/epoch_52.ckpt\n"
     ]
    },
    {
     "name": "stderr",
     "output_type": "stream",
     "text": [
      "Global seed set to 938390\n",
      "initializing distributed: GLOBAL_RANK: 1, MEMBER: 2/2\n",
      "Global seed set to 938390\n",
      "initializing distributed: GLOBAL_RANK: 0, MEMBER: 1/2\n"
     ]
    },
    {
     "name": "stdout",
     "output_type": "stream",
     "text": [
      "[2022-03-10 22:28:00,816][torch.distributed.distributed_c10d][INFO] - Added key: store_based_barrier_key:1 to store for rank: 1\n",
      "[2022-03-10 22:28:00,827][torch.distributed.distributed_c10d][INFO] - Added key: store_based_barrier_key:1 to store for rank: 0\n",
      "[2022-03-10 22:28:00,827][torch.distributed.distributed_c10d][INFO] - Rank 0: Completed store-based barrier for key:store_based_barrier_key:1 with 2 nodes.\n"
     ]
    },
    {
     "name": "stderr",
     "output_type": "stream",
     "text": [
      "----------------------------------------------------------------------------------------------------\n",
      "distributed_backend=nccl\n",
      "All distributed processes registered. Starting with 2 processes\n",
      "----------------------------------------------------------------------------------------------------\n",
      "\n"
     ]
    },
    {
     "name": "stdout",
     "output_type": "stream",
     "text": [
      "[2022-03-10 22:28:00,837][torch.distributed.distributed_c10d][INFO] - Rank 1: Completed store-based barrier for key:store_based_barrier_key:1 with 2 nodes.\n"
     ]
    },
    {
     "name": "stderr",
     "output_type": "stream",
     "text": [
      "LOCAL_RANK: 0 - CUDA_VISIBLE_DEVICES: [0,1]\n",
      "LOCAL_RANK: 1 - CUDA_VISIBLE_DEVICES: [0,1]\n",
      "Missing logger folder: /home/justin_goodwin/projects/raiden/responsible_ai/experiments/adversarial_training/outputs/2022-03-10/22-26-03/3/lightning_logs\n",
      "Missing logger folder: /home/justin_goodwin/projects/raiden/responsible_ai/experiments/adversarial_training/outputs/2022-03-10/22-26-03/3/lightning_logs\n"
     ]
    },
    {
     "data": {
      "application/vnd.jupyter.widget-view+json": {
       "model_id": "8f52e64150d8488d960b31c8b6314bcc",
       "version_major": 2,
       "version_minor": 0
      },
      "text/plain": [
       "Testing: 0it [00:00, ?it/s]"
      ]
     },
     "metadata": {},
     "output_type": "display_data"
    },
    {
     "name": "stdout",
     "output_type": "stream",
     "text": [
      "--------------------------------------------------------------------------------\n",
      "DATALOADER:0 TEST RESULTS\n",
      "{'Test/Accuracy': 0.19949999451637268, 'Test/Loss': 2.5366663932800293}\n",
      "--------------------------------------------------------------------------------\n",
      "Finished Job\n",
      "\n"
     ]
    }
   ],
   "source": [
    "jobs = launch(TestConfig, curve_task_fn, overrides=[\"+job_epsilon=[0.0,0.25,1.0,2.0]\"])"
   ]
  },
  {
   "cell_type": "code",
   "execution_count": 20,
   "id": "1e078436-0f26-4ad6-8746-7cf58dd28794",
   "metadata": {},
   "outputs": [
    {
     "data": {
      "text/html": [
       "<div>\n",
       "<style scoped>\n",
       "    .dataframe tbody tr th:only-of-type {\n",
       "        vertical-align: middle;\n",
       "    }\n",
       "\n",
       "    .dataframe tbody tr th {\n",
       "        vertical-align: top;\n",
       "    }\n",
       "\n",
       "    .dataframe thead th {\n",
       "        text-align: right;\n",
       "    }\n",
       "</style>\n",
       "<table border=\"1\" class=\"dataframe\">\n",
       "  <thead>\n",
       "    <tr style=\"text-align: right;\">\n",
       "      <th></th>\n",
       "      <th>accuracy</th>\n",
       "    </tr>\n",
       "    <tr>\n",
       "      <th>epsilon</th>\n",
       "      <th></th>\n",
       "    </tr>\n",
       "  </thead>\n",
       "  <tbody>\n",
       "    <tr>\n",
       "      <th>0.00</th>\n",
       "      <td>0.7987</td>\n",
       "    </tr>\n",
       "    <tr>\n",
       "      <th>0.25</th>\n",
       "      <td>0.7353</td>\n",
       "    </tr>\n",
       "    <tr>\n",
       "      <th>1.00</th>\n",
       "      <td>0.5144</td>\n",
       "    </tr>\n",
       "    <tr>\n",
       "      <th>2.00</th>\n",
       "      <td>0.1995</td>\n",
       "    </tr>\n",
       "  </tbody>\n",
       "</table>\n",
       "</div>"
      ],
      "text/plain": [
       "         accuracy\n",
       "epsilon          \n",
       "0.00       0.7987\n",
       "0.25       0.7353\n",
       "1.00       0.5144\n",
       "2.00       0.1995"
      ]
     },
     "execution_count": 20,
     "metadata": {},
     "output_type": "execute_result"
    }
   ],
   "source": [
    "xdata = jobs.return_value\n",
    "xdata.to_dataframe()"
   ]
  },
  {
   "cell_type": "code",
   "execution_count": 22,
   "id": "c34252f2-7b80-4f02-8735-fcdd12645168",
   "metadata": {},
   "outputs": [
    {
     "data": {
      "text/plain": [
       "(0.0, 1.0)"
      ]
     },
     "execution_count": 22,
     "metadata": {},
     "output_type": "execute_result"
    },
    {
     "data": {
      "image/png": "[encoded data removed]",
      "text/plain": [
       "<Figure size 432x288 with 1 Axes>"
      ]
     },
     "metadata": {
      "needs_background": "light"
     },
     "output_type": "display_data"
    }
   ],
   "source": [
    "xdata.plot()\n",
    "plt.xlabel(\"Perturbation Magnitude (ϵ)\")\n",
    "plt.ylabel(\"Adversarial Accuracy\")\n",
    "plt.ylim(0, 1)"
   ]
  }
 ],
 "metadata": {
  "kernelspec": {
   "display_name": "Python [conda env:.conda-raiden]",
   "language": "python",
   "name": "conda-env-.conda-raiden-py"
  },
  "language_info": {
   "codemirror_mode": {
    "name": "ipython",
    "version": 3
   },
   "file_extension": ".py",
   "mimetype": "text/x-python",
   "name": "python",
   "nbconvert_exporter": "python",
   "pygments_lexer": "ipython3",
   "version": "3.8.12"
  }
 },
 "nbformat": 4,
 "nbformat_minor": 5
}
