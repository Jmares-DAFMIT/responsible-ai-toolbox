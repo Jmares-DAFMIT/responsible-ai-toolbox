{
 "cells": [
  {
   "cell_type": "code",
   "execution_count": 1,
   "id": "d9353840",
   "metadata": {},
   "outputs": [],
   "source": [
    "# Copyright (c) 2022 Massachusetts Institute of Technology\n",
    "# SPDX-License-Identifier: MIT"
   ]
  },
  {
   "cell_type": "markdown",
   "id": "11db641d-a515-48fe-846a-a853cf288687",
   "metadata": {},
   "source": [
    "# Evaluation Within a Notebook"
   ]
  },
  {
   "cell_type": "code",
   "execution_count": 2,
   "id": "f368496b-a978-489f-8e5f-d729a915a216",
   "metadata": {},
   "outputs": [],
   "source": [
    "import logging\n",
    "import os\n",
    "import sys\n",
    "from pathlib import Path\n",
    "\n",
    "import configs\n",
    "import hydra\n",
    "import pytorch_lightning as pl\n",
    "import torch as tr\n",
    "from rai_toolbox.mushin.workflows import RobustnessCurve\n",
    "\n",
    "# Need add current working directory to the python path\n",
    "os.environ[\"PYTHONPATH\"] = f\"{os.getcwd()}:{os.getenv('PYTHONPATH')}\"\n",
    "logging.disable(sys.maxsize)"
   ]
  },
  {
   "cell_type": "markdown",
   "id": "eedf760a-6c3d-40d5-abe3-e9e2e2106311",
   "metadata": {},
   "source": [
    "## Define the Robustness Curve Workflow"
   ]
  },
  {
   "cell_type": "code",
   "execution_count": 3,
   "id": "9a9b2c7d-df5e-4a45-a74f-b8d1066fcc22",
   "metadata": {},
   "outputs": [],
   "source": [
    "# Implement the evaluation task for RobustnessCurv\n",
    "class MadryLabRobustness(RobustnessCurve):\n",
    "    @staticmethod\n",
    "    def evaluation_task(\n",
    "        seed: int, trainer: pl.Trainer, module: pl.LightningModule\n",
    "    ) -> None:\n",
    "        pl.seed_everything(seed)\n",
    "        trainer.test(module)\n",
    "        return tr.load(\"test_metrics.pt\")"
   ]
  },
  {
   "cell_type": "markdown",
   "id": "e8e790b7-5340-4d71-8110-d418e898459e",
   "metadata": {},
   "source": [
    "## Run the Experiment"
   ]
  },
  {
   "cell_type": "code",
   "execution_count": 4,
   "id": "09bf777d-adc5-4982-bc20-ee836ccb1a82",
   "metadata": {},
   "outputs": [
    {
     "name": "stderr",
     "output_type": "stream",
     "text": [
      "/home/justin_goodwin/.conda/envs/raiden/lib/python3.8/site-packages/pytorch_lightning/loops/utilities.py:91: PossibleUserWarning: `max_epochs` was not set. Setting it to 1000 epochs. To train without an epoch limit, set `max_epochs=-1`.\n",
      "  rank_zero_warn(\n"
     ]
    },
    {
     "name": "stdout",
     "output_type": "stream",
     "text": [
      "Files already downloaded and verified\n",
      "Files already downloaded and verified\n",
      "[2022-04-28 14:34:47,313][rai_toolbox.mushin._utils][INFO] - Loading model checkpoint from /home/justin_goodwin/.torch/models/mitll_cifar_nat.pt\n",
      "[2022-04-28 14:34:47,460][__main__][INFO] - Rank 1: Launched subprocess using Training.test\n",
      "[2022-04-28 14:34:47,467][torch.distributed.distributed_c10d][INFO] - Added key: store_based_barrier_key:1 to store for rank: 1\n",
      "[2022-04-28 14:34:47,477][torch.distributed.distributed_c10d][INFO] - Rank 1: Completed store-based barrier for key:store_based_barrier_key:1 with 2 nodes.\n"
     ]
    },
    {
     "name": "stderr",
     "output_type": "stream",
     "text": [
      "Global seed set to 12219\n",
      "Initializing distributed: GLOBAL_RANK: 1, MEMBER: 2/2\n",
      "Missing logger folder: /home/justin_goodwin/projects/raiden/rai_toolbox/experiments/madry/multirun/2022-04-28/14-34-40/0/lightning_logs\n",
      "LOCAL_RANK: 1 - CUDA_VISIBLE_DEVICES: [0,1]\n",
      "/home/justin_goodwin/.conda/envs/raiden/lib/python3.8/site-packages/pytorch_lightning/trainer/connectors/data_connector.py:330: PossibleUserWarning: Using `DistributedSampler` with the dataloaders. During `trainer.test()`, it is recommended to use `Trainer(devices=1)` to ensure each sample/batch gets evaluated exactly once. Otherwise, multi-device settings use `DistributedSampler` that replicates some samples to make sure all devices have same batch size in case of uneven inputs.\n",
      "  rank_zero_warn(\n"
     ]
    },
    {
     "data": {
      "application/vnd.jupyter.widget-view+json": {
       "model_id": "4639b424015c48e2ac031982ff6b5f51",
       "version_major": 2,
       "version_minor": 0
      },
      "text/plain": [
       "Testing: 0it [00:00, ?it/s]"
      ]
     },
     "metadata": {},
     "output_type": "display_data"
    },
    {
     "name": "stdout",
     "output_type": "stream",
     "text": [
      "────────────────────────────────────────────────────────────────────────────────────────────────────────────────────────\n",
      "       Test metric             DataLoader 0\n",
      "────────────────────────────────────────────────────────────────────────────────────────────────────────────────────────\n",
      "      Test/Accuracy         0.9524999856948853\n",
      "        Test/Loss           0.19557517766952515\n",
      "────────────────────────────────────────────────────────────────────────────────────────────────────────────────────────\n",
      "Files already downloaded and verified\n",
      "Files already downloaded and verified\n",
      "[2022-04-28 14:36:05,358][rai_toolbox.mushin._utils][INFO] - Loading model checkpoint from /home/justin_goodwin/.torch/models/mitll_cifar_l2_1_0.pt\n",
      "[2022-04-28 14:36:05,516][__main__][INFO] - Rank 1: Launched subprocess using Training.test\n",
      "[2022-04-28 14:36:05,523][torch.distributed.distributed_c10d][INFO] - Added key: store_based_barrier_key:1 to store for rank: 1\n",
      "[2022-04-28 14:36:05,534][torch.distributed.distributed_c10d][INFO] - Rank 1: Completed store-based barrier for key:store_based_barrier_key:1 with 2 nodes.\n"
     ]
    },
    {
     "name": "stderr",
     "output_type": "stream",
     "text": [
      "Global seed set to 12219\n",
      "Initializing distributed: GLOBAL_RANK: 1, MEMBER: 2/2\n",
      "Missing logger folder: /home/justin_goodwin/projects/raiden/rai_toolbox/experiments/madry/multirun/2022-04-28/14-34-40/1/lightning_logs\n",
      "LOCAL_RANK: 1 - CUDA_VISIBLE_DEVICES: [0,1]\n"
     ]
    },
    {
     "data": {
      "application/vnd.jupyter.widget-view+json": {
       "model_id": "b90893dce84341daa697d3ea41febcfc",
       "version_major": 2,
       "version_minor": 0
      },
      "text/plain": [
       "Testing: 0it [00:00, ?it/s]"
      ]
     },
     "metadata": {},
     "output_type": "display_data"
    },
    {
     "name": "stdout",
     "output_type": "stream",
     "text": [
      "────────────────────────────────────────────────────────────────────────────────────────────────────────────────────────\n",
      "       Test metric             DataLoader 0\n",
      "────────────────────────────────────────────────────────────────────────────────────────────────────────────────────────\n",
      "      Test/Accuracy         0.8162000179290771\n",
      "        Test/Loss            0.582642674446106\n",
      "────────────────────────────────────────────────────────────────────────────────────────────────────────────────────────\n",
      "Files already downloaded and verified\n"
     ]
    },
    {
     "name": "stderr",
     "output_type": "stream",
     "text": [
      "Global seed set to 12219\n",
      "Initializing distributed: GLOBAL_RANK: 1, MEMBER: 2/2\n",
      "Missing logger folder: /home/justin_goodwin/projects/raiden/rai_toolbox/experiments/madry/multirun/2022-04-28/14-34-40/2/lightning_logs\n"
     ]
    },
    {
     "name": "stdout",
     "output_type": "stream",
     "text": [
      "Files already downloaded and verified\n",
      "[2022-04-28 14:37:23,166][rai_toolbox.mushin._utils][INFO] - Loading model checkpoint from /home/justin_goodwin/.torch/models/mitll_cifar_nat.pt\n",
      "[2022-04-28 14:37:23,319][__main__][INFO] - Rank 1: Launched subprocess using Training.test\n",
      "[2022-04-28 14:37:23,326][torch.distributed.distributed_c10d][INFO] - Added key: store_based_barrier_key:1 to store for rank: 1\n",
      "[2022-04-28 14:37:23,336][torch.distributed.distributed_c10d][INFO] - Rank 1: Completed store-based barrier for key:store_based_barrier_key:1 with 2 nodes.\n"
     ]
    },
    {
     "name": "stderr",
     "output_type": "stream",
     "text": [
      "LOCAL_RANK: 1 - CUDA_VISIBLE_DEVICES: [0,1]\n"
     ]
    },
    {
     "data": {
      "application/vnd.jupyter.widget-view+json": {
       "model_id": "cdcba4445eff49549216122bb955d551",
       "version_major": 2,
       "version_minor": 0
      },
      "text/plain": [
       "Testing: 0it [00:00, ?it/s]"
      ]
     },
     "metadata": {},
     "output_type": "display_data"
    },
    {
     "name": "stdout",
     "output_type": "stream",
     "text": [
      "────────────────────────────────────────────────────────────────────────────────────────────────────────────────────────\n",
      "       Test metric             DataLoader 0\n",
      "────────────────────────────────────────────────────────────────────────────────────────────────────────────────────────\n",
      "      Test/Accuracy         0.1347000002861023\n",
      "        Test/Loss            9.855376243591309\n",
      "────────────────────────────────────────────────────────────────────────────────────────────────────────────────────────\n",
      "Files already downloaded and verified\n"
     ]
    },
    {
     "name": "stderr",
     "output_type": "stream",
     "text": [
      "Global seed set to 12219\n",
      "Initializing distributed: GLOBAL_RANK: 1, MEMBER: 2/2\n",
      "Missing logger folder: /home/justin_goodwin/projects/raiden/rai_toolbox/experiments/madry/multirun/2022-04-28/14-34-40/3/lightning_logs\n"
     ]
    },
    {
     "name": "stdout",
     "output_type": "stream",
     "text": [
      "Files already downloaded and verified\n",
      "[2022-04-28 14:38:40,773][rai_toolbox.mushin._utils][INFO] - Loading model checkpoint from /home/justin_goodwin/.torch/models/mitll_cifar_l2_1_0.pt\n",
      "[2022-04-28 14:38:40,929][__main__][INFO] - Rank 1: Launched subprocess using Training.test\n",
      "[2022-04-28 14:38:40,936][torch.distributed.distributed_c10d][INFO] - Added key: store_based_barrier_key:1 to store for rank: 1\n",
      "[2022-04-28 14:38:40,947][torch.distributed.distributed_c10d][INFO] - Rank 1: Completed store-based barrier for key:store_based_barrier_key:1 with 2 nodes.\n"
     ]
    },
    {
     "name": "stderr",
     "output_type": "stream",
     "text": [
      "LOCAL_RANK: 1 - CUDA_VISIBLE_DEVICES: [0,1]\n"
     ]
    },
    {
     "data": {
      "application/vnd.jupyter.widget-view+json": {
       "model_id": "b0466aba54d64e6c816615c8969eb928",
       "version_major": 2,
       "version_minor": 0
      },
      "text/plain": [
       "Testing: 0it [00:00, ?it/s]"
      ]
     },
     "metadata": {},
     "output_type": "display_data"
    },
    {
     "name": "stdout",
     "output_type": "stream",
     "text": [
      "────────────────────────────────────────────────────────────────────────────────────────────────────────────────────────\n",
      "       Test metric             DataLoader 0\n",
      "────────────────────────────────────────────────────────────────────────────────────────────────────────────────────────\n",
      "      Test/Accuracy         0.7572000026702881\n",
      "        Test/Loss           0.6963142156600952\n",
      "────────────────────────────────────────────────────────────────────────────────────────────────────────────────────────\n",
      "Files already downloaded and verified\n",
      "Files already downloaded and verified\n",
      "[2022-04-28 14:39:58,358][rai_toolbox.mushin._utils][INFO] - Loading model checkpoint from /home/justin_goodwin/.torch/models/mitll_cifar_nat.pt\n",
      "[2022-04-28 14:39:58,513][__main__][INFO] - Rank 1: Launched subprocess using Training.test\n",
      "[2022-04-28 14:39:58,531][torch.distributed.distributed_c10d][INFO] - Added key: store_based_barrier_key:1 to store for rank: 1\n",
      "[2022-04-28 14:39:58,541][torch.distributed.distributed_c10d][INFO] - Rank 1: Completed store-based barrier for key:store_based_barrier_key:1 with 2 nodes.\n"
     ]
    },
    {
     "name": "stderr",
     "output_type": "stream",
     "text": [
      "Global seed set to 12219\n",
      "Initializing distributed: GLOBAL_RANK: 1, MEMBER: 2/2\n",
      "Missing logger folder: /home/justin_goodwin/projects/raiden/rai_toolbox/experiments/madry/multirun/2022-04-28/14-34-40/4/lightning_logs\n",
      "LOCAL_RANK: 1 - CUDA_VISIBLE_DEVICES: [0,1]\n"
     ]
    },
    {
     "data": {
      "application/vnd.jupyter.widget-view+json": {
       "model_id": "c37d7d50da854104b5fd4cdc5c355652",
       "version_major": 2,
       "version_minor": 0
      },
      "text/plain": [
       "Testing: 0it [00:00, ?it/s]"
      ]
     },
     "metadata": {},
     "output_type": "display_data"
    },
    {
     "name": "stdout",
     "output_type": "stream",
     "text": [
      "────────────────────────────────────────────────────────────────────────────────────────────────────────────────────────\n",
      "       Test metric             DataLoader 0\n",
      "────────────────────────────────────────────────────────────────────────────────────────────────────────────────────────\n",
      "      Test/Accuracy        0.008700000122189522\n",
      "        Test/Loss            16.71694564819336\n",
      "────────────────────────────────────────────────────────────────────────────────────────────────────────────────────────\n",
      "Files already downloaded and verified\n",
      "Files already downloaded and verified\n",
      "[2022-04-28 14:41:15,918][rai_toolbox.mushin._utils][INFO] - Loading model checkpoint from /home/justin_goodwin/.torch/models/mitll_cifar_l2_1_0.pt\n",
      "[2022-04-28 14:41:16,078][__main__][INFO] - Rank 1: Launched subprocess using Training.test\n",
      "[2022-04-28 14:41:16,087][torch.distributed.distributed_c10d][INFO] - Added key: store_based_barrier_key:1 to store for rank: 1\n",
      "[2022-04-28 14:41:16,097][torch.distributed.distributed_c10d][INFO] - Rank 1: Completed store-based barrier for key:store_based_barrier_key:1 with 2 nodes.\n"
     ]
    },
    {
     "name": "stderr",
     "output_type": "stream",
     "text": [
      "Global seed set to 12219\n",
      "Initializing distributed: GLOBAL_RANK: 1, MEMBER: 2/2\n",
      "Missing logger folder: /home/justin_goodwin/projects/raiden/rai_toolbox/experiments/madry/multirun/2022-04-28/14-34-40/5/lightning_logs\n",
      "LOCAL_RANK: 1 - CUDA_VISIBLE_DEVICES: [0,1]\n"
     ]
    },
    {
     "data": {
      "application/vnd.jupyter.widget-view+json": {
       "model_id": "5c52282d1be6400ca30b234b39b1942e",
       "version_major": 2,
       "version_minor": 0
      },
      "text/plain": [
       "Testing: 0it [00:00, ?it/s]"
      ]
     },
     "metadata": {},
     "output_type": "display_data"
    },
    {
     "name": "stdout",
     "output_type": "stream",
     "text": [
      "────────────────────────────────────────────────────────────────────────────────────────────────────────────────────────\n",
      "       Test metric             DataLoader 0\n",
      "────────────────────────────────────────────────────────────────────────────────────────────────────────────────────────\n",
      "      Test/Accuracy          0.690500020980835\n",
      "        Test/Loss           0.8335583806037903\n",
      "────────────────────────────────────────────────────────────────────────────────────────────────────────────────────────\n",
      "Files already downloaded and verified\n",
      "Files already downloaded and verified\n",
      "[2022-04-28 14:42:33,550][rai_toolbox.mushin._utils][INFO] - Loading model checkpoint from /home/justin_goodwin/.torch/models/mitll_cifar_nat.pt\n",
      "[2022-04-28 14:42:33,695][__main__][INFO] - Rank 1: Launched subprocess using Training.test\n",
      "[2022-04-28 14:42:33,702][torch.distributed.distributed_c10d][INFO] - Added key: store_based_barrier_key:1 to store for rank: 1\n",
      "[2022-04-28 14:42:33,712][torch.distributed.distributed_c10d][INFO] - Rank 1: Completed store-based barrier for key:store_based_barrier_key:1 with 2 nodes.\n"
     ]
    },
    {
     "name": "stderr",
     "output_type": "stream",
     "text": [
      "Global seed set to 12219\n",
      "Initializing distributed: GLOBAL_RANK: 1, MEMBER: 2/2\n",
      "Missing logger folder: /home/justin_goodwin/projects/raiden/rai_toolbox/experiments/madry/multirun/2022-04-28/14-34-40/6/lightning_logs\n",
      "LOCAL_RANK: 1 - CUDA_VISIBLE_DEVICES: [0,1]\n"
     ]
    },
    {
     "data": {
      "application/vnd.jupyter.widget-view+json": {
       "model_id": "91cafb2972144420b8544dbf5c1adb46",
       "version_major": 2,
       "version_minor": 0
      },
      "text/plain": [
       "Testing: 0it [00:00, ?it/s]"
      ]
     },
     "metadata": {},
     "output_type": "display_data"
    },
    {
     "name": "stdout",
     "output_type": "stream",
     "text": [
      "────────────────────────────────────────────────────────────────────────────────────────────────────────────────────────\n",
      "       Test metric             DataLoader 0\n",
      "────────────────────────────────────────────────────────────────────────────────────────────────────────────────────────\n",
      "      Test/Accuracy        9.999999747378752e-05\n",
      "        Test/Loss            21.85608673095703\n",
      "────────────────────────────────────────────────────────────────────────────────────────────────────────────────────────\n",
      "Files already downloaded and verified\n",
      "Files already downloaded and verified\n",
      "[2022-04-28 14:43:51,326][rai_toolbox.mushin._utils][INFO] - Loading model checkpoint from /home/justin_goodwin/.torch/models/mitll_cifar_l2_1_0.pt\n",
      "[2022-04-28 14:43:51,507][__main__][INFO] - Rank 1: Launched subprocess using Training.test\n",
      "[2022-04-28 14:43:51,515][torch.distributed.distributed_c10d][INFO] - Added key: store_based_barrier_key:1 to store for rank: 1\n",
      "[2022-04-28 14:43:51,526][torch.distributed.distributed_c10d][INFO] - Rank 1: Completed store-based barrier for key:store_based_barrier_key:1 with 2 nodes.\n"
     ]
    },
    {
     "name": "stderr",
     "output_type": "stream",
     "text": [
      "Global seed set to 12219\n",
      "Initializing distributed: GLOBAL_RANK: 1, MEMBER: 2/2\n",
      "Missing logger folder: /home/justin_goodwin/projects/raiden/rai_toolbox/experiments/madry/multirun/2022-04-28/14-34-40/7/lightning_logs\n",
      "LOCAL_RANK: 1 - CUDA_VISIBLE_DEVICES: [0,1]\n"
     ]
    },
    {
     "data": {
      "application/vnd.jupyter.widget-view+json": {
       "model_id": "0f2cb39d18d944848456ce94f3ae10a7",
       "version_major": 2,
       "version_minor": 0
      },
      "text/plain": [
       "Testing: 0it [00:00, ?it/s]"
      ]
     },
     "metadata": {},
     "output_type": "display_data"
    },
    {
     "name": "stdout",
     "output_type": "stream",
     "text": [
      "────────────────────────────────────────────────────────────────────────────────────────────────────────────────────────\n",
      "       Test metric             DataLoader 0\n",
      "────────────────────────────────────────────────────────────────────────────────────────────────────────────────────────\n",
      "      Test/Accuracy         0.5396999716758728\n",
      "        Test/Loss           1.2052090167999268\n",
      "────────────────────────────────────────────────────────────────────────────────────────────────────────────────────────\n",
      "Files already downloaded and verified\n"
     ]
    },
    {
     "name": "stderr",
     "output_type": "stream",
     "text": [
      "Global seed set to 12219\n",
      "Initializing distributed: GLOBAL_RANK: 1, MEMBER: 2/2\n",
      "Missing logger folder: /home/justin_goodwin/projects/raiden/rai_toolbox/experiments/madry/multirun/2022-04-28/14-34-40/8/lightning_logs\n"
     ]
    },
    {
     "name": "stdout",
     "output_type": "stream",
     "text": [
      "Files already downloaded and verified\n",
      "[2022-04-28 14:45:10,287][rai_toolbox.mushin._utils][INFO] - Loading model checkpoint from /home/justin_goodwin/.torch/models/mitll_cifar_nat.pt\n",
      "[2022-04-28 14:45:10,468][__main__][INFO] - Rank 1: Launched subprocess using Training.test\n",
      "[2022-04-28 14:45:10,495][torch.distributed.distributed_c10d][INFO] - Added key: store_based_barrier_key:1 to store for rank: 1\n",
      "[2022-04-28 14:45:10,515][torch.distributed.distributed_c10d][INFO] - Rank 1: Completed store-based barrier for key:store_based_barrier_key:1 with 2 nodes.\n"
     ]
    },
    {
     "name": "stderr",
     "output_type": "stream",
     "text": [
      "LOCAL_RANK: 1 - CUDA_VISIBLE_DEVICES: [0,1]\n"
     ]
    },
    {
     "data": {
      "application/vnd.jupyter.widget-view+json": {
       "model_id": "775017a99d164012affb9a0204366841",
       "version_major": 2,
       "version_minor": 0
      },
      "text/plain": [
       "Testing: 0it [00:00, ?it/s]"
      ]
     },
     "metadata": {},
     "output_type": "display_data"
    },
    {
     "name": "stdout",
     "output_type": "stream",
     "text": [
      "────────────────────────────────────────────────────────────────────────────────────────────────────────────────────────\n",
      "       Test metric             DataLoader 0\n",
      "────────────────────────────────────────────────────────────────────────────────────────────────────────────────────────\n",
      "      Test/Accuracy                 0.0\n",
      "        Test/Loss            24.6280460357666\n",
      "────────────────────────────────────────────────────────────────────────────────────────────────────────────────────────\n",
      "Files already downloaded and verified\n",
      "Files already downloaded and verified\n",
      "[2022-04-28 14:46:27,944][rai_toolbox.mushin._utils][INFO] - Loading model checkpoint from /home/justin_goodwin/.torch/models/mitll_cifar_l2_1_0.pt\n",
      "[2022-04-28 14:46:28,103][__main__][INFO] - Rank 1: Launched subprocess using Training.test\n",
      "[2022-04-28 14:46:28,111][torch.distributed.distributed_c10d][INFO] - Added key: store_based_barrier_key:1 to store for rank: 1\n",
      "[2022-04-28 14:46:28,121][torch.distributed.distributed_c10d][INFO] - Rank 1: Completed store-based barrier for key:store_based_barrier_key:1 with 2 nodes.\n"
     ]
    },
    {
     "name": "stderr",
     "output_type": "stream",
     "text": [
      "Global seed set to 12219\n",
      "Initializing distributed: GLOBAL_RANK: 1, MEMBER: 2/2\n",
      "Missing logger folder: /home/justin_goodwin/projects/raiden/rai_toolbox/experiments/madry/multirun/2022-04-28/14-34-40/9/lightning_logs\n",
      "LOCAL_RANK: 1 - CUDA_VISIBLE_DEVICES: [0,1]\n"
     ]
    },
    {
     "data": {
      "application/vnd.jupyter.widget-view+json": {
       "model_id": "8e5f0399d0f54d11822174fd96913f48",
       "version_major": 2,
       "version_minor": 0
      },
      "text/plain": [
       "Testing: 0it [00:00, ?it/s]"
      ]
     },
     "metadata": {},
     "output_type": "display_data"
    },
    {
     "name": "stdout",
     "output_type": "stream",
     "text": [
      "────────────────────────────────────────────────────────────────────────────────────────────────────────────────────────\n",
      "       Test metric             DataLoader 0\n",
      "────────────────────────────────────────────────────────────────────────────────────────────────────────────────────────\n",
      "      Test/Accuracy         0.22220000624656677\n",
      "        Test/Loss           2.5071699619293213\n",
      "────────────────────────────────────────────────────────────────────────────────────────────────────────────────────────\n"
     ]
    }
   ],
   "source": [
    "robustness_job = MadryLabRobustness(configs.Config)\n",
    "robustness_job.run(\n",
    "    epsilon=[0, 0.25, 0.5, 1.0, 2.0], ckpt=\"mitll_cifar_nat.pt, mitll_cifar_l2_1_0.pt\"\n",
    ")"
   ]
  },
  {
   "cell_type": "markdown",
   "id": "268a7b3c-571e-4a45-a93e-8ed43cac3eb9",
   "metadata": {},
   "source": [
    "## Plot the Results"
   ]
  },
  {
   "cell_type": "code",
   "execution_count": 5,
   "id": "5c167818-da80-4f10-b796-7afebafc2e8a",
   "metadata": {},
   "outputs": [
    {
     "data": {
      "text/plain": [
       "[[<matplotlib.lines.Line2D at 0x7fd3c7147af0>],\n",
       " [<matplotlib.lines.Line2D at 0x7fd3c711c130>]]"
      ]
     },
     "execution_count": 5,
     "metadata": {},
     "output_type": "execute_result"
    },
    {
     "data": {
      "image/png": "[encoded data removed]",
      "text/plain": [
       "<Figure size 432x288 with 1 Axes>"
      ]
     },
     "metadata": {
      "needs_background": "light"
     },
     "output_type": "display_data"
    }
   ],
   "source": [
    "robustness_job.plot(\"Test/Accuracy\", group=\"ckpt\")"
   ]
  },
  {
   "cell_type": "markdown",
   "id": "d657f769-1664-4a2b-8f1b-546d3c5fe8cf",
   "metadata": {},
   "source": [
    "## Load an Experiment"
   ]
  },
  {
   "cell_type": "code",
   "execution_count": null,
   "id": "dcb93737-7583-409f-8849-a18aa0ac6faa",
   "metadata": {},
   "outputs": [],
   "source": []
  },
  {
   "cell_type": "code",
   "execution_count": 8,
   "id": "e40e8941-6617-4998-95d5-fe7f8f2c783e",
   "metadata": {},
   "outputs": [
    {
     "data": {
      "text/plain": [
       "[[<matplotlib.lines.Line2D at 0x7fd3bf477d60>],\n",
       " [<matplotlib.lines.Line2D at 0x7fd3d8f6f460>]]"
      ]
     },
     "execution_count": 8,
     "metadata": {},
     "output_type": "execute_result"
    },
    {
     "data": {
      "image/png": "[encoded data removed]",
      "text/plain": [
       "<Figure size 432x288 with 1 Axes>"
      ]
     },
     "metadata": {
      "needs_background": "light"
     },
     "output_type": "display_data"
    }
   ],
   "source": [
    "robustness_job_no_run = MadryLabRobustness(configs.Config)\n",
    "\n",
    "# Provide the experiment directory of a recent RobustnessCurve run\n",
    "exp_dir = robustness_job.working_dir  # you can provide any directory here\n",
    "robustness_job_no_run.load_from_dir(exp_dir, workflow_params=[\"epsilon\", \"ckpt\"])\n",
    "robustness_job_no_run.plot(\"Test/Accuracy\", group=\"ckpt\")"
   ]
  },
  {
   "cell_type": "markdown",
   "id": "d4751cfa-e644-4dca-8416-b1525e2bb960",
   "metadata": {},
   "source": [
    "## Other Outputs"
   ]
  },
  {
   "cell_type": "markdown",
   "id": "f57d88f2-760d-4ee8-8adb-b754b68608cb",
   "metadata": {},
   "source": [
    "### If you have Pandas"
   ]
  },
  {
   "cell_type": "code",
   "execution_count": 9,
   "id": "bce4ce6a-d64f-49bc-91e6-3a0d23953e75",
   "metadata": {},
   "outputs": [
    {
     "data": {
      "text/html": [
       "<div>\n",
       "<style scoped>\n",
       "    .dataframe tbody tr th:only-of-type {\n",
       "        vertical-align: middle;\n",
       "    }\n",
       "\n",
       "    .dataframe tbody tr th {\n",
       "        vertical-align: top;\n",
       "    }\n",
       "\n",
       "    .dataframe thead th {\n",
       "        text-align: right;\n",
       "    }\n",
       "</style>\n",
       "<table border=\"1\" class=\"dataframe\">\n",
       "  <thead>\n",
       "    <tr style=\"text-align: right;\">\n",
       "      <th></th>\n",
       "      <th>Test/Loss</th>\n",
       "      <th>Test/Accuracy</th>\n",
       "      <th>epsilon</th>\n",
       "      <th>ckpt</th>\n",
       "    </tr>\n",
       "  </thead>\n",
       "  <tbody>\n",
       "    <tr>\n",
       "      <th>0</th>\n",
       "      <td>0.195575</td>\n",
       "      <td>0.9525</td>\n",
       "      <td>0.00</td>\n",
       "      <td>mitll_cifar_nat.pt</td>\n",
       "    </tr>\n",
       "    <tr>\n",
       "      <th>1</th>\n",
       "      <td>0.582643</td>\n",
       "      <td>0.8162</td>\n",
       "      <td>0.00</td>\n",
       "      <td>mitll_cifar_l2_1_0.pt</td>\n",
       "    </tr>\n",
       "    <tr>\n",
       "      <th>2</th>\n",
       "      <td>9.855376</td>\n",
       "      <td>0.1347</td>\n",
       "      <td>0.25</td>\n",
       "      <td>mitll_cifar_nat.pt</td>\n",
       "    </tr>\n",
       "    <tr>\n",
       "      <th>3</th>\n",
       "      <td>0.696314</td>\n",
       "      <td>0.7572</td>\n",
       "      <td>0.25</td>\n",
       "      <td>mitll_cifar_l2_1_0.pt</td>\n",
       "    </tr>\n",
       "    <tr>\n",
       "      <th>4</th>\n",
       "      <td>16.716946</td>\n",
       "      <td>0.0087</td>\n",
       "      <td>0.50</td>\n",
       "      <td>mitll_cifar_nat.pt</td>\n",
       "    </tr>\n",
       "    <tr>\n",
       "      <th>5</th>\n",
       "      <td>0.833558</td>\n",
       "      <td>0.6905</td>\n",
       "      <td>0.50</td>\n",
       "      <td>mitll_cifar_l2_1_0.pt</td>\n",
       "    </tr>\n",
       "    <tr>\n",
       "      <th>6</th>\n",
       "      <td>21.856087</td>\n",
       "      <td>0.0001</td>\n",
       "      <td>1.00</td>\n",
       "      <td>mitll_cifar_nat.pt</td>\n",
       "    </tr>\n",
       "    <tr>\n",
       "      <th>7</th>\n",
       "      <td>1.205209</td>\n",
       "      <td>0.5397</td>\n",
       "      <td>1.00</td>\n",
       "      <td>mitll_cifar_l2_1_0.pt</td>\n",
       "    </tr>\n",
       "    <tr>\n",
       "      <th>8</th>\n",
       "      <td>24.628046</td>\n",
       "      <td>0.0000</td>\n",
       "      <td>2.00</td>\n",
       "      <td>mitll_cifar_nat.pt</td>\n",
       "    </tr>\n",
       "    <tr>\n",
       "      <th>9</th>\n",
       "      <td>2.507170</td>\n",
       "      <td>0.2222</td>\n",
       "      <td>2.00</td>\n",
       "      <td>mitll_cifar_l2_1_0.pt</td>\n",
       "    </tr>\n",
       "  </tbody>\n",
       "</table>\n",
       "</div>"
      ],
      "text/plain": [
       "   Test/Loss  Test/Accuracy  epsilon                   ckpt\n",
       "0   0.195575         0.9525     0.00     mitll_cifar_nat.pt\n",
       "1   0.582643         0.8162     0.00  mitll_cifar_l2_1_0.pt\n",
       "2   9.855376         0.1347     0.25     mitll_cifar_nat.pt\n",
       "3   0.696314         0.7572     0.25  mitll_cifar_l2_1_0.pt\n",
       "4  16.716946         0.0087     0.50     mitll_cifar_nat.pt\n",
       "5   0.833558         0.6905     0.50  mitll_cifar_l2_1_0.pt\n",
       "6  21.856087         0.0001     1.00     mitll_cifar_nat.pt\n",
       "7   1.205209         0.5397     1.00  mitll_cifar_l2_1_0.pt\n",
       "8  24.628046         0.0000     2.00     mitll_cifar_nat.pt\n",
       "9   2.507170         0.2222     2.00  mitll_cifar_l2_1_0.pt"
      ]
     },
     "execution_count": 9,
     "metadata": {},
     "output_type": "execute_result"
    }
   ],
   "source": [
    "robustness_job.to_dataframe()"
   ]
  },
  {
   "cell_type": "markdown",
   "id": "4efd3bce-e50e-4343-8df4-6dcae6643c3c",
   "metadata": {},
   "source": [
    "### If you have xarray"
   ]
  },
  {
   "cell_type": "code",
   "execution_count": 10,
   "id": "fcaad01b-12ad-45cd-a461-d1b2bccabaab",
   "metadata": {},
   "outputs": [
    {
     "data": {
      "text/html": [
       "<div><svg style=\"position: absolute; width: 0; height: 0; overflow: hidden\">\n",
       "<defs>\n",
       "<symbol id=\"icon-database\" viewBox=\"0 0 32 32\">\n",
       "<path d=\"M16 0c-8.837 0-16 2.239-16 5v4c0 2.761 7.163 5 16 5s16-2.239 16-5v-4c0-2.761-7.163-5-16-5z\"></path>\n",
       "<path d=\"M16 17c-8.837 0-16-2.239-16-5v6c0 2.761 7.163 5 16 5s16-2.239 16-5v-6c0 2.761-7.163 5-16 5z\"></path>\n",
       "<path d=\"M16 26c-8.837 0-16-2.239-16-5v6c0 2.761 7.163 5 16 5s16-2.239 16-5v-6c0 2.761-7.163 5-16 5z\"></path>\n",
       "</symbol>\n",
       "<symbol id=\"icon-file-text2\" viewBox=\"0 0 32 32\">\n",
       "<path d=\"M28.681 7.159c-0.694-0.947-1.662-2.053-2.724-3.116s-2.169-2.030-3.116-2.724c-1.612-1.182-2.393-1.319-2.841-1.319h-15.5c-1.378 0-2.5 1.121-2.5 2.5v27c0 1.378 1.122 2.5 2.5 2.5h23c1.378 0 2.5-1.122 2.5-2.5v-19.5c0-0.448-0.137-1.23-1.319-2.841zM24.543 5.457c0.959 0.959 1.712 1.825 2.268 2.543h-4.811v-4.811c0.718 0.556 1.584 1.309 2.543 2.268zM28 29.5c0 0.271-0.229 0.5-0.5 0.5h-23c-0.271 0-0.5-0.229-0.5-0.5v-27c0-0.271 0.229-0.5 0.5-0.5 0 0 15.499-0 15.5 0v7c0 0.552 0.448 1 1 1h7v19.5z\"></path>\n",
       "<path d=\"M23 26h-14c-0.552 0-1-0.448-1-1s0.448-1 1-1h14c0.552 0 1 0.448 1 1s-0.448 1-1 1z\"></path>\n",
       "<path d=\"M23 22h-14c-0.552 0-1-0.448-1-1s0.448-1 1-1h14c0.552 0 1 0.448 1 1s-0.448 1-1 1z\"></path>\n",
       "<path d=\"M23 18h-14c-0.552 0-1-0.448-1-1s0.448-1 1-1h14c0.552 0 1 0.448 1 1s-0.448 1-1 1z\"></path>\n",
       "</symbol>\n",
       "</defs>\n",
       "</svg>\n",
       "<style>/* CSS stylesheet for displaying xarray objects in jupyterlab.\n",
       " *\n",
       " */\n",
       "\n",
       ":root {\n",
       "  --xr-font-color0: var(--jp-content-font-color0, rgba(0, 0, 0, 1));\n",
       "  --xr-font-color2: var(--jp-content-font-color2, rgba(0, 0, 0, 0.54));\n",
       "  --xr-font-color3: var(--jp-content-font-color3, rgba(0, 0, 0, 0.38));\n",
       "  --xr-border-color: var(--jp-border-color2, #e0e0e0);\n",
       "  --xr-disabled-color: var(--jp-layout-color3, #bdbdbd);\n",
       "  --xr-background-color: var(--jp-layout-color0, white);\n",
       "  --xr-background-color-row-even: var(--jp-layout-color1, white);\n",
       "  --xr-background-color-row-odd: var(--jp-layout-color2, #eeeeee);\n",
       "}\n",
       "\n",
       "html[theme=dark],\n",
       "body.vscode-dark {\n",
       "  --xr-font-color0: rgba(255, 255, 255, 1);\n",
       "  --xr-font-color2: rgba(255, 255, 255, 0.54);\n",
       "  --xr-font-color3: rgba(255, 255, 255, 0.38);\n",
       "  --xr-border-color: #1F1F1F;\n",
       "  --xr-disabled-color: #515151;\n",
       "  --xr-background-color: #111111;\n",
       "  --xr-background-color-row-even: #111111;\n",
       "  --xr-background-color-row-odd: #313131;\n",
       "}\n",
       "\n",
       ".xr-wrap {\n",
       "  display: block !important;\n",
       "  min-width: 300px;\n",
       "  max-width: 700px;\n",
       "}\n",
       "\n",
       ".xr-text-repr-fallback {\n",
       "  /* fallback to plain text repr when CSS is not injected (untrusted notebook) */\n",
       "  display: none;\n",
       "}\n",
       "\n",
       ".xr-header {\n",
       "  padding-top: 6px;\n",
       "  padding-bottom: 6px;\n",
       "  margin-bottom: 4px;\n",
       "  border-bottom: solid 1px var(--xr-border-color);\n",
       "}\n",
       "\n",
       ".xr-header > div,\n",
       ".xr-header > ul {\n",
       "  display: inline;\n",
       "  margin-top: 0;\n",
       "  margin-bottom: 0;\n",
       "}\n",
       "\n",
       ".xr-obj-type,\n",
       ".xr-array-name {\n",
       "  margin-left: 2px;\n",
       "  margin-right: 10px;\n",
       "}\n",
       "\n",
       ".xr-obj-type {\n",
       "  color: var(--xr-font-color2);\n",
       "}\n",
       "\n",
       ".xr-sections {\n",
       "  padding-left: 0 !important;\n",
       "  display: grid;\n",
       "  grid-template-columns: 150px auto auto 1fr 20px 20px;\n",
       "}\n",
       "\n",
       ".xr-section-item {\n",
       "  display: contents;\n",
       "}\n",
       "\n",
       ".xr-section-item input {\n",
       "  display: none;\n",
       "}\n",
       "\n",
       ".xr-section-item input + label {\n",
       "  color: var(--xr-disabled-color);\n",
       "}\n",
       "\n",
       ".xr-section-item input:enabled + label {\n",
       "  cursor: pointer;\n",
       "  color: var(--xr-font-color2);\n",
       "}\n",
       "\n",
       ".xr-section-item input:enabled + label:hover {\n",
       "  color: var(--xr-font-color0);\n",
       "}\n",
       "\n",
       ".xr-section-summary {\n",
       "  grid-column: 1;\n",
       "  color: var(--xr-font-color2);\n",
       "  font-weight: 500;\n",
       "}\n",
       "\n",
       ".xr-section-summary > span {\n",
       "  display: inline-block;\n",
       "  padding-left: 0.5em;\n",
       "}\n",
       "\n",
       ".xr-section-summary-in:disabled + label {\n",
       "  color: var(--xr-font-color2);\n",
       "}\n",
       "\n",
       ".xr-section-summary-in + label:before {\n",
       "  display: inline-block;\n",
       "  content: '►';\n",
       "  font-size: 11px;\n",
       "  width: 15px;\n",
       "  text-align: center;\n",
       "}\n",
       "\n",
       ".xr-section-summary-in:disabled + label:before {\n",
       "  color: var(--xr-disabled-color);\n",
       "}\n",
       "\n",
       ".xr-section-summary-in:checked + label:before {\n",
       "  content: '▼';\n",
       "}\n",
       "\n",
       ".xr-section-summary-in:checked + label > span {\n",
       "  display: none;\n",
       "}\n",
       "\n",
       ".xr-section-summary,\n",
       ".xr-section-inline-details {\n",
       "  padding-top: 4px;\n",
       "  padding-bottom: 4px;\n",
       "}\n",
       "\n",
       ".xr-section-inline-details {\n",
       "  grid-column: 2 / -1;\n",
       "}\n",
       "\n",
       ".xr-section-details {\n",
       "  display: none;\n",
       "  grid-column: 1 / -1;\n",
       "  margin-bottom: 5px;\n",
       "}\n",
       "\n",
       ".xr-section-summary-in:checked ~ .xr-section-details {\n",
       "  display: contents;\n",
       "}\n",
       "\n",
       ".xr-array-wrap {\n",
       "  grid-column: 1 / -1;\n",
       "  display: grid;\n",
       "  grid-template-columns: 20px auto;\n",
       "}\n",
       "\n",
       ".xr-array-wrap > label {\n",
       "  grid-column: 1;\n",
       "  vertical-align: top;\n",
       "}\n",
       "\n",
       ".xr-preview {\n",
       "  color: var(--xr-font-color3);\n",
       "}\n",
       "\n",
       ".xr-array-preview,\n",
       ".xr-array-data {\n",
       "  padding: 0 5px !important;\n",
       "  grid-column: 2;\n",
       "}\n",
       "\n",
       ".xr-array-data,\n",
       ".xr-array-in:checked ~ .xr-array-preview {\n",
       "  display: none;\n",
       "}\n",
       "\n",
       ".xr-array-in:checked ~ .xr-array-data,\n",
       ".xr-array-preview {\n",
       "  display: inline-block;\n",
       "}\n",
       "\n",
       ".xr-dim-list {\n",
       "  display: inline-block !important;\n",
       "  list-style: none;\n",
       "  padding: 0 !important;\n",
       "  margin: 0;\n",
       "}\n",
       "\n",
       ".xr-dim-list li {\n",
       "  display: inline-block;\n",
       "  padding: 0;\n",
       "  margin: 0;\n",
       "}\n",
       "\n",
       ".xr-dim-list:before {\n",
       "  content: '(';\n",
       "}\n",
       "\n",
       ".xr-dim-list:after {\n",
       "  content: ')';\n",
       "}\n",
       "\n",
       ".xr-dim-list li:not(:last-child):after {\n",
       "  content: ',';\n",
       "  padding-right: 5px;\n",
       "}\n",
       "\n",
       ".xr-has-index {\n",
       "  font-weight: bold;\n",
       "}\n",
       "\n",
       ".xr-var-list,\n",
       ".xr-var-item {\n",
       "  display: contents;\n",
       "}\n",
       "\n",
       ".xr-var-item > div,\n",
       ".xr-var-item label,\n",
       ".xr-var-item > .xr-var-name span {\n",
       "  background-color: var(--xr-background-color-row-even);\n",
       "  margin-bottom: 0;\n",
       "}\n",
       "\n",
       ".xr-var-item > .xr-var-name:hover span {\n",
       "  padding-right: 5px;\n",
       "}\n",
       "\n",
       ".xr-var-list > li:nth-child(odd) > div,\n",
       ".xr-var-list > li:nth-child(odd) > label,\n",
       ".xr-var-list > li:nth-child(odd) > .xr-var-name span {\n",
       "  background-color: var(--xr-background-color-row-odd);\n",
       "}\n",
       "\n",
       ".xr-var-name {\n",
       "  grid-column: 1;\n",
       "}\n",
       "\n",
       ".xr-var-dims {\n",
       "  grid-column: 2;\n",
       "}\n",
       "\n",
       ".xr-var-dtype {\n",
       "  grid-column: 3;\n",
       "  text-align: right;\n",
       "  color: var(--xr-font-color2);\n",
       "}\n",
       "\n",
       ".xr-var-preview {\n",
       "  grid-column: 4;\n",
       "}\n",
       "\n",
       ".xr-var-name,\n",
       ".xr-var-dims,\n",
       ".xr-var-dtype,\n",
       ".xr-preview,\n",
       ".xr-attrs dt {\n",
       "  white-space: nowrap;\n",
       "  overflow: hidden;\n",
       "  text-overflow: ellipsis;\n",
       "  padding-right: 10px;\n",
       "}\n",
       "\n",
       ".xr-var-name:hover,\n",
       ".xr-var-dims:hover,\n",
       ".xr-var-dtype:hover,\n",
       ".xr-attrs dt:hover {\n",
       "  overflow: visible;\n",
       "  width: auto;\n",
       "  z-index: 1;\n",
       "}\n",
       "\n",
       ".xr-var-attrs,\n",
       ".xr-var-data {\n",
       "  display: none;\n",
       "  background-color: var(--xr-background-color) !important;\n",
       "  padding-bottom: 5px !important;\n",
       "}\n",
       "\n",
       ".xr-var-attrs-in:checked ~ .xr-var-attrs,\n",
       ".xr-var-data-in:checked ~ .xr-var-data {\n",
       "  display: block;\n",
       "}\n",
       "\n",
       ".xr-var-data > table {\n",
       "  float: right;\n",
       "}\n",
       "\n",
       ".xr-var-name span,\n",
       ".xr-var-data,\n",
       ".xr-attrs {\n",
       "  padding-left: 25px !important;\n",
       "}\n",
       "\n",
       ".xr-attrs,\n",
       ".xr-var-attrs,\n",
       ".xr-var-data {\n",
       "  grid-column: 1 / -1;\n",
       "}\n",
       "\n",
       "dl.xr-attrs {\n",
       "  padding: 0;\n",
       "  margin: 0;\n",
       "  display: grid;\n",
       "  grid-template-columns: 125px auto;\n",
       "}\n",
       "\n",
       ".xr-attrs dt,\n",
       ".xr-attrs dd {\n",
       "  padding: 0;\n",
       "  margin: 0;\n",
       "  float: left;\n",
       "  padding-right: 10px;\n",
       "  width: auto;\n",
       "}\n",
       "\n",
       ".xr-attrs dt {\n",
       "  font-weight: normal;\n",
       "  grid-column: 1;\n",
       "}\n",
       "\n",
       ".xr-attrs dt:hover span {\n",
       "  display: inline-block;\n",
       "  background: var(--xr-background-color);\n",
       "  padding-right: 10px;\n",
       "}\n",
       "\n",
       ".xr-attrs dd {\n",
       "  grid-column: 2;\n",
       "  white-space: pre-wrap;\n",
       "  word-break: break-all;\n",
       "}\n",
       "\n",
       ".xr-icon-database,\n",
       ".xr-icon-file-text2 {\n",
       "  display: inline-block;\n",
       "  vertical-align: middle;\n",
       "  width: 1em;\n",
       "  height: 1.5em !important;\n",
       "  stroke-width: 0;\n",
       "  stroke: currentColor;\n",
       "  fill: currentColor;\n",
       "}\n",
       "</style><pre class='xr-text-repr-fallback'>&lt;xarray.Dataset&gt;\n",
       "Dimensions:        (x: 10)\n",
       "Coordinates:\n",
       "    epsilon        (x) float64 0.0 0.0 0.25 0.25 0.5 0.5 1.0 1.0 2.0 2.0\n",
       "    ckpt           (x) &lt;U21 &#x27;mitll_cifar_nat.pt&#x27; ... &#x27;mitll_cifar_l2_1_0.pt&#x27;\n",
       "Dimensions without coordinates: x\n",
       "Data variables:\n",
       "    Test/Loss      (x) float64 0.1956 0.5826 9.855 0.6963 ... 1.205 24.63 2.507\n",
       "    Test/Accuracy  (x) float64 0.9525 0.8162 0.1347 0.7572 ... 0.5397 0.0 0.2222</pre><div class='xr-wrap' style='display:none'><div class='xr-header'><div class='xr-obj-type'>xarray.Dataset</div></div><ul class='xr-sections'><li class='xr-section-item'><input id='section-11a0764a-7c67-4762-a4f0-f89a6757c175' class='xr-section-summary-in' type='checkbox' disabled ><label for='section-11a0764a-7c67-4762-a4f0-f89a6757c175' class='xr-section-summary'  title='Expand/collapse section'>Dimensions:</label><div class='xr-section-inline-details'><ul class='xr-dim-list'><li><span>x</span>: 10</li></ul></div><div class='xr-section-details'></div></li><li class='xr-section-item'><input id='section-1c9101cc-1122-4f42-a77a-25d3a6ce6f5a' class='xr-section-summary-in' type='checkbox'  checked><label for='section-1c9101cc-1122-4f42-a77a-25d3a6ce6f5a' class='xr-section-summary' >Coordinates: <span>(2)</span></label><div class='xr-section-inline-details'></div><div class='xr-section-details'><ul class='xr-var-list'><li class='xr-var-item'><div class='xr-var-name'><span>epsilon</span></div><div class='xr-var-dims'>(x)</div><div class='xr-var-dtype'>float64</div><div class='xr-var-preview xr-preview'>0.0 0.0 0.25 0.25 ... 1.0 2.0 2.0</div><input id='attrs-f6b54cfd-67e2-418f-8799-7661d6d0cce3' class='xr-var-attrs-in' type='checkbox' disabled><label for='attrs-f6b54cfd-67e2-418f-8799-7661d6d0cce3' title='Show/Hide attributes'><svg class='icon xr-icon-file-text2'><use xlink:href='#icon-file-text2'></use></svg></label><input id='data-e9f1fb29-33e3-40ec-a2e0-52b44559f8a2' class='xr-var-data-in' type='checkbox'><label for='data-e9f1fb29-33e3-40ec-a2e0-52b44559f8a2' title='Show/Hide data repr'><svg class='icon xr-icon-database'><use xlink:href='#icon-database'></use></svg></label><div class='xr-var-attrs'><dl class='xr-attrs'></dl></div><div class='xr-var-data'><pre>array([0.  , 0.  , 0.25, 0.25, 0.5 , 0.5 , 1.  , 1.  , 2.  , 2.  ])</pre></div></li><li class='xr-var-item'><div class='xr-var-name'><span>ckpt</span></div><div class='xr-var-dims'>(x)</div><div class='xr-var-dtype'>&lt;U21</div><div class='xr-var-preview xr-preview'>&#x27;mitll_cifar_nat.pt&#x27; ... &#x27;mitll_...</div><input id='attrs-f1f0a416-56c8-478f-85d6-66b35a615145' class='xr-var-attrs-in' type='checkbox' disabled><label for='attrs-f1f0a416-56c8-478f-85d6-66b35a615145' title='Show/Hide attributes'><svg class='icon xr-icon-file-text2'><use xlink:href='#icon-file-text2'></use></svg></label><input id='data-15feceb0-90a4-46e6-871e-34b862ace1d7' class='xr-var-data-in' type='checkbox'><label for='data-15feceb0-90a4-46e6-871e-34b862ace1d7' title='Show/Hide data repr'><svg class='icon xr-icon-database'><use xlink:href='#icon-database'></use></svg></label><div class='xr-var-attrs'><dl class='xr-attrs'></dl></div><div class='xr-var-data'><pre>array([&#x27;mitll_cifar_nat.pt&#x27;, &#x27;mitll_cifar_l2_1_0.pt&#x27;,\n",
       "       &#x27;mitll_cifar_nat.pt&#x27;, &#x27;mitll_cifar_l2_1_0.pt&#x27;,\n",
       "       &#x27;mitll_cifar_nat.pt&#x27;, &#x27;mitll_cifar_l2_1_0.pt&#x27;,\n",
       "       &#x27;mitll_cifar_nat.pt&#x27;, &#x27;mitll_cifar_l2_1_0.pt&#x27;,\n",
       "       &#x27;mitll_cifar_nat.pt&#x27;, &#x27;mitll_cifar_l2_1_0.pt&#x27;], dtype=&#x27;&lt;U21&#x27;)</pre></div></li></ul></div></li><li class='xr-section-item'><input id='section-9a860381-16d5-43c1-8711-a4a8012eb265' class='xr-section-summary-in' type='checkbox'  checked><label for='section-9a860381-16d5-43c1-8711-a4a8012eb265' class='xr-section-summary' >Data variables: <span>(2)</span></label><div class='xr-section-inline-details'></div><div class='xr-section-details'><ul class='xr-var-list'><li class='xr-var-item'><div class='xr-var-name'><span>Test/Loss</span></div><div class='xr-var-dims'>(x)</div><div class='xr-var-dtype'>float64</div><div class='xr-var-preview xr-preview'>0.1956 0.5826 9.855 ... 24.63 2.507</div><input id='attrs-7c3b60fc-065d-4f5f-92f4-b4a2226a28ac' class='xr-var-attrs-in' type='checkbox' disabled><label for='attrs-7c3b60fc-065d-4f5f-92f4-b4a2226a28ac' title='Show/Hide attributes'><svg class='icon xr-icon-file-text2'><use xlink:href='#icon-file-text2'></use></svg></label><input id='data-eb0199fd-d3b4-4fe9-81b6-84bebb6306b6' class='xr-var-data-in' type='checkbox'><label for='data-eb0199fd-d3b4-4fe9-81b6-84bebb6306b6' title='Show/Hide data repr'><svg class='icon xr-icon-database'><use xlink:href='#icon-database'></use></svg></label><div class='xr-var-attrs'><dl class='xr-attrs'></dl></div><div class='xr-var-data'><pre>array([ 0.19557518,  0.58264267,  9.85537624,  0.69631422, 16.71694565,\n",
       "        0.83355838, 21.85608673,  1.20520902, 24.62804604,  2.50716996])</pre></div></li><li class='xr-var-item'><div class='xr-var-name'><span>Test/Accuracy</span></div><div class='xr-var-dims'>(x)</div><div class='xr-var-dtype'>float64</div><div class='xr-var-preview xr-preview'>0.9525 0.8162 0.1347 ... 0.0 0.2222</div><input id='attrs-107530f2-8b10-46e1-a605-e13182841db9' class='xr-var-attrs-in' type='checkbox' disabled><label for='attrs-107530f2-8b10-46e1-a605-e13182841db9' title='Show/Hide attributes'><svg class='icon xr-icon-file-text2'><use xlink:href='#icon-file-text2'></use></svg></label><input id='data-eb77dbd9-038e-4724-a802-d3e37da51307' class='xr-var-data-in' type='checkbox'><label for='data-eb77dbd9-038e-4724-a802-d3e37da51307' title='Show/Hide data repr'><svg class='icon xr-icon-database'><use xlink:href='#icon-database'></use></svg></label><div class='xr-var-attrs'><dl class='xr-attrs'></dl></div><div class='xr-var-data'><pre>array([9.52499986e-01, 8.16200018e-01, 1.34700000e-01, 7.57200003e-01,\n",
       "       8.70000012e-03, 6.90500021e-01, 9.99999975e-05, 5.39699972e-01,\n",
       "       0.00000000e+00, 2.22200006e-01])</pre></div></li></ul></div></li><li class='xr-section-item'><input id='section-f8ee28e7-91dc-4d0f-a409-922ffeace935' class='xr-section-summary-in' type='checkbox' disabled ><label for='section-f8ee28e7-91dc-4d0f-a409-922ffeace935' class='xr-section-summary'  title='Expand/collapse section'>Attributes: <span>(0)</span></label><div class='xr-section-inline-details'></div><div class='xr-section-details'><dl class='xr-attrs'></dl></div></li></ul></div></div>"
      ],
      "text/plain": [
       "<xarray.Dataset>\n",
       "Dimensions:        (x: 10)\n",
       "Coordinates:\n",
       "    epsilon        (x) float64 0.0 0.0 0.25 0.25 0.5 0.5 1.0 1.0 2.0 2.0\n",
       "    ckpt           (x) <U21 'mitll_cifar_nat.pt' ... 'mitll_cifar_l2_1_0.pt'\n",
       "Dimensions without coordinates: x\n",
       "Data variables:\n",
       "    Test/Loss      (x) float64 0.1956 0.5826 9.855 0.6963 ... 1.205 24.63 2.507\n",
       "    Test/Accuracy  (x) float64 0.9525 0.8162 0.1347 0.7572 ... 0.5397 0.0 0.2222"
      ]
     },
     "execution_count": 10,
     "metadata": {},
     "output_type": "execute_result"
    }
   ],
   "source": [
    "robustness_job.to_xarray()"
   ]
  },
  {
   "cell_type": "code",
   "execution_count": 11,
   "id": "0c4c534c-b736-43a3-bf39-7bdcb90a1f07",
   "metadata": {},
   "outputs": [],
   "source": [
    "xdata = robustness_job.to_xarray()"
   ]
  },
  {
   "cell_type": "code",
   "execution_count": 12,
   "id": "27d0c33e-efb3-4dda-b7ca-2e9066db1d4a",
   "metadata": {},
   "outputs": [
    {
     "data": {
      "text/plain": [
       "<matplotlib.legend.Legend at 0x7fd3bec73d60>"
      ]
     },
     "execution_count": 12,
     "metadata": {},
     "output_type": "execute_result"
    },
    {
     "data": {
      "image/png": "[encoded data removed]",
      "text/plain": [
       "<Figure size 432x288 with 1 Axes>"
      ]
     },
     "metadata": {
      "needs_background": "light"
     },
     "output_type": "display_data"
    }
   ],
   "source": [
    "import matplotlib.pyplot as plt\n",
    "\n",
    "xdata = robustness_job.to_xarray()\n",
    "fig, ax = plt.subplots()\n",
    "for name, g in xdata.groupby(\"ckpt\"):\n",
    "    g[\"Test/Accuracy\"].plot.line(x=\"epsilon\", ax=ax, label=name)\n",
    "plt.legend()"
   ]
  },
  {
   "cell_type": "code",
   "execution_count": 13,
   "id": "71d2e340-164a-4340-8606-6171fffabfdb",
   "metadata": {},
   "outputs": [
    {
     "data": {
      "text/plain": [
       "[<matplotlib.lines.Line2D at 0x7fd3bebfb8b0>]"
      ]
     },
     "execution_count": 13,
     "metadata": {},
     "output_type": "execute_result"
    },
    {
     "data": {
      "image/png": "[encoded data removed]",
      "text/plain": [
       "<Figure size 432x288 with 1 Axes>"
      ]
     },
     "metadata": {
      "needs_background": "light"
     },
     "output_type": "display_data"
    }
   ],
   "source": [
    "xdata[\"Test/Accuracy\"].plot.line(x=\"epsilon\")"
   ]
  },
  {
   "cell_type": "code",
   "execution_count": null,
   "id": "b317dea2-9335-43ac-a2ec-5dc5e958ec64",
   "metadata": {},
   "outputs": [],
   "source": []
  }
 ],
 "metadata": {
  "kernelspec": {
   "display_name": "Python [conda env:.conda-raiden]",
   "language": "python",
   "name": "conda-env-.conda-raiden-py"
  },
  "language_info": {
   "codemirror_mode": {
    "name": "ipython",
    "version": 3
   },
   "file_extension": ".py",
   "mimetype": "text/x-python",
   "name": "python",
   "nbconvert_exporter": "python",
   "pygments_lexer": "ipython3",
   "version": "3.8.12"
  }
 },
 "nbformat": 4,
 "nbformat_minor": 5
}
