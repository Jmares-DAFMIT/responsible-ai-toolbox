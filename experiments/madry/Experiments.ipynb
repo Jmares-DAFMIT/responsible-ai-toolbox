{
 "cells": [
  {
   "cell_type": "code",
   "execution_count": null,
   "id": "d9353840",
   "metadata": {},
   "outputs": [],
   "source": [
    "# Copyright (c) 2022 Massachusetts Institute of Technology\n",
    "# SPDX-License-Identifier: MIT"
   ]
  },
  {
   "cell_type": "markdown",
   "id": "11db641d-a515-48fe-846a-a853cf288687",
   "metadata": {},
   "source": [
    "# Evaluation Within a Notebook"
   ]
  },
  {
   "cell_type": "code",
   "execution_count": 1,
   "id": "45037776-c307-4e78-8610-541b00ca7d54",
   "metadata": {},
   "outputs": [],
   "source": [
    "from pathlib import Path\n",
    "\n",
    "import configs\n",
    "import torch\n",
    "from hydra_zen import builds, instantiate, launch, make_config\n",
    "from pytorch_lightning import seed_everything"
   ]
  },
  {
   "cell_type": "markdown",
   "id": "172f66c7-38bf-4183-b4a1-b072a8d76e76",
   "metadata": {},
   "source": [
    "**TODO: Run multirun, load experiment data, and generate table**"
   ]
  },
  {
   "cell_type": "markdown",
   "id": "f73e168f-b349-48ba-8f7d-2fdba3cb7ce6",
   "metadata": {},
   "source": [
    "## Test CIFAR-10"
   ]
  },
  {
   "cell_type": "code",
   "execution_count": 3,
   "id": "2bcafa52-ea10-4655-a2f4-3055077b1058",
   "metadata": {},
   "outputs": [
    {
     "name": "stderr",
     "output_type": "stream",
     "text": [
      "Global seed set to 12219\n"
     ]
    },
    {
     "name": "stdout",
     "output_type": "stream",
     "text": [
      "Files already downloaded and verified\n"
     ]
    },
    {
     "name": "stderr",
     "output_type": "stream",
     "text": [
      "GPU available: True, used: True\n",
      "TPU available: False, using: 0 TPU cores\n",
      "IPU available: False, using: 0 IPUs\n",
      "LOCAL_RANK: 0 - CUDA_VISIBLE_DEVICES: [0]\n"
     ]
    },
    {
     "name": "stdout",
     "output_type": "stream",
     "text": [
      "Testing: 100%|█████████████████████████████████████████████████████████████████████████| 79/79 [03:51<00:00,  2.23s/it]--------------------------------------------------------------------------------\n",
      "DATALOADER:0 TEST RESULTS\n",
      "{'Test/Accuracy': 0.5376999974250793, 'Test/Loss': 1.2111378908157349}\n",
      "--------------------------------------------------------------------------------\n",
      "Testing: 100%|█████████████████████████████████████████████████████████████████████████| 79/79 [03:51<00:00,  2.93s/it]\n"
     ]
    }
   ],
   "source": [
    "jobs = launch(\n",
    "    configs.Config,\n",
    "    configs.task_fn,\n",
    "    [\n",
    "        \"ckpt=mitll_cifar_l2_1_0.pt\",\n",
    "        \"mushin/dataset=cifar10\",\n",
    "        \"mushin/model=cifar10_resnet50\",\n",
    "        \"mushin.perturbation.steps=10\",\n",
    "        \"mushin.perturbation.epsilon=1.0\",\n",
    "    ],\n",
    ")"
   ]
  },
  {
   "cell_type": "code",
   "execution_count": 3,
   "id": "c878af49-72df-4d1a-ac2d-88cd6fb060e1",
   "metadata": {},
   "outputs": [
    {
     "name": "stdout",
     "output_type": "stream",
     "text": [
      "CIFAR-10 Accuracy (epsilon=1.0): 52.83%\n"
     ]
    }
   ],
   "source": [
    "test_metrics_file = list(Path(jobs.working_dir).glob(\"**/test_metrics.pt\"))[0]\n",
    "print(\n",
    "    f\"CIFAR-10 Accuracy (epsilon={jobs.cfg.mushin.perturbation.epsilon}): {torch.load(test_metrics_file)['Test/Accuracy'][0]*100:.2f}%\"\n",
    ")"
   ]
  },
  {
   "cell_type": "markdown",
   "id": "f0baabf9-9238-426b-a0b0-986dd7d7b1bb",
   "metadata": {},
   "source": [
    "## Test Restricted ImageNet"
   ]
  },
  {
   "cell_type": "code",
   "execution_count": 4,
   "id": "fb36450d-c1ec-48d6-9382-8ab77b5c728c",
   "metadata": {},
   "outputs": [
    {
     "name": "stderr",
     "output_type": "stream",
     "text": [
      "Global seed set to 12219\n",
      "GPU available: True, used: True\n",
      "TPU available: False, using: 0 TPU cores\n",
      "IPU available: False, using: 0 IPUs\n",
      "LOCAL_RANK: 0 - CUDA_VISIBLE_DEVICES: [0]\n"
     ]
    },
    {
     "name": "stdout",
     "output_type": "stream",
     "text": [
      "Testing: 100%|███████████████████████████████████████████████████████████████████████████| 2/2 [00:15<00:00,  7.38s/it]--------------------------------------------------------------------------------\n",
      "DATALOADER:0 TEST RESULTS\n",
      "{'Test/Accuracy': 0.807881772518158, 'Test/Loss': 0.47935768961906433}\n",
      "--------------------------------------------------------------------------------\n",
      "Testing: 100%|███████████████████████████████████████████████████████████████████████████| 2/2 [00:15<00:00,  7.91s/it]\n"
     ]
    }
   ],
   "source": [
    "data_dir = Path().home() / \".torch\" / \"data\" / \"imagenet\" / \"normal\" / \"val\"\n",
    "jobs = launch(\n",
    "    configs.Config,\n",
    "    configs.task_fn,\n",
    "    [\n",
    "        \"ckpt=mitll_restricted_imagenet_l2_3_0.pt\",\n",
    "        f\"data_path={data_dir}\",\n",
    "        \"mushin/dataset=restricted_imagenet\",\n",
    "        \"mushin/model=resnet50\",\n",
    "        \"mushin.perturbation.steps=10\",\n",
    "        \"mushin.perturbation.epsilon=3\",\n",
    "    ],\n",
    ")"
   ]
  },
  {
   "cell_type": "code",
   "execution_count": 5,
   "id": "cf8e3c9d-0dd7-4b7c-b3bf-e6853863a4d4",
   "metadata": {},
   "outputs": [
    {
     "name": "stdout",
     "output_type": "stream",
     "text": [
      "Restricted ImageNet Accuracy (epsilon=3): 80.79%\n"
     ]
    }
   ],
   "source": [
    "test_metrics_file = list(Path(jobs.working_dir).glob(\"**/test_metrics.pt\"))[0]\n",
    "print(\n",
    "    f\"Restricted ImageNet Accuracy (epsilon={jobs.cfg.mushin.perturbation.epsilon}): {torch.load(test_metrics_file)['Test/Accuracy'][0]*100:.2f}%\"\n",
    ")"
   ]
  },
  {
   "cell_type": "code",
   "execution_count": null,
   "id": "4b707a6f-222e-403c-bf9c-f31b696c7a8a",
   "metadata": {},
   "outputs": [],
   "source": []
  }
 ],
 "metadata": {
  "kernelspec": {
   "display_name": "Python (raiden)",
   "language": "python",
   "name": "raiden"
  },
  "language_info": {
   "codemirror_mode": {
    "name": "ipython",
    "version": 3
   },
   "file_extension": ".py",
   "mimetype": "text/x-python",
   "name": "python",
   "nbconvert_exporter": "python",
   "pygments_lexer": "ipython3",
   "version": "3.8.12"
  }
 },
 "nbformat": 4,
 "nbformat_minor": 5
}
