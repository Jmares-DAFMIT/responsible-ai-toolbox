{
 "cells": [
  {
   "cell_type": "code",
   "execution_count": 1,
   "id": "d9353840",
   "metadata": {},
   "outputs": [],
   "source": [
    "# Copyright (c) 2022 Massachusetts Institute of Technology\n",
    "# SPDX-License-Identifier: MIT"
   ]
  },
  {
   "cell_type": "markdown",
   "id": "11db641d-a515-48fe-846a-a853cf288687",
   "metadata": {},
   "source": [
    "# Evaluation Within a Notebook"
   ]
  },
  {
   "cell_type": "code",
   "execution_count": 2,
   "id": "f368496b-a978-489f-8e5f-d729a915a216",
   "metadata": {},
   "outputs": [],
   "source": [
    "import logging\n",
    "import os\n",
    "import sys\n",
    "from pathlib import Path\n",
    "\n",
    "import configs\n",
    "import hydra\n",
    "import pytorch_lightning as pl\n",
    "import torch\n",
    "from rai_toolbox.mushin.workflows import RobustnessCurve\n",
    "\n",
    "# Need add current working directory to the python path\n",
    "os.environ[\"PYTHONPATH\"] = f\"{os.getcwd()}:{os.getenv('PYTHONPATH')}\"\n",
    "logging.disable(sys.maxsize)"
   ]
  },
  {
   "cell_type": "markdown",
   "id": "eedf760a-6c3d-40d5-abe3-e9e2e2106311",
   "metadata": {},
   "source": [
    "## Define the Robustness Curve Workflow"
   ]
  },
  {
   "cell_type": "code",
   "execution_count": 3,
   "id": "9a9b2c7d-df5e-4a45-a74f-b8d1066fcc22",
   "metadata": {},
   "outputs": [],
   "source": [
    "# Implement the evaluation task for RobustnessCurv\n",
    "class MadryLabRobustness(RobustnessCurve):\n",
    "    @staticmethod\n",
    "    def evaluation_task(\n",
    "        seed: int, trainer: pl.Trainer, module: pl.LightningModule\n",
    "    ) -> None:\n",
    "        pl.seed_everything(seed)\n",
    "        trainer.test(module)"
   ]
  },
  {
   "cell_type": "markdown",
   "id": "e8e790b7-5340-4d71-8110-d418e898459e",
   "metadata": {},
   "source": [
    "## Run the Experiment"
   ]
  },
  {
   "cell_type": "code",
   "execution_count": 4,
   "id": "09bf777d-adc5-4982-bc20-ee836ccb1a82",
   "metadata": {},
   "outputs": [
    {
     "name": "stderr",
     "output_type": "stream",
     "text": [
      "/home/justin_goodwin/.conda/envs/raiden/lib/python3.8/site-packages/pytorch_lightning/loops/utilities.py:91: PossibleUserWarning: `max_epochs` was not set. Setting it to 1000 epochs. To train without an epoch limit, set `max_epochs=-1`.\n",
      "  rank_zero_warn(\n"
     ]
    },
    {
     "name": "stdout",
     "output_type": "stream",
     "text": [
      "Files already downloaded and verified\n"
     ]
    },
    {
     "name": "stderr",
     "output_type": "stream",
     "text": [
      "Global seed set to 12219\n",
      "Initializing distributed: GLOBAL_RANK: 1, MEMBER: 2/2\n",
      "Missing logger folder: /home/justin_goodwin/projects/raiden/rai_toolbox/experiments/madry/multirun/2022-04-27/23-02-45/0/lightning_logs\n"
     ]
    },
    {
     "name": "stdout",
     "output_type": "stream",
     "text": [
      "Files already downloaded and verified\n",
      "[2022-04-27 23:02:52,772][rai_toolbox.mushin._utils][INFO] - Loading model checkpoint from /home/justin_goodwin/.torch/models/mitll_cifar_nat.pt\n",
      "[2022-04-27 23:02:52,930][__main__][INFO] - Rank 1: Launched subprocess using Training.test\n",
      "[2022-04-27 23:02:52,936][torch.distributed.distributed_c10d][INFO] - Added key: store_based_barrier_key:1 to store for rank: 1\n",
      "[2022-04-27 23:02:52,946][torch.distributed.distributed_c10d][INFO] - Rank 1: Completed store-based barrier for key:store_based_barrier_key:1 with 2 nodes.\n"
     ]
    },
    {
     "name": "stderr",
     "output_type": "stream",
     "text": [
      "LOCAL_RANK: 1 - CUDA_VISIBLE_DEVICES: [0,1]\n",
      "/home/justin_goodwin/.conda/envs/raiden/lib/python3.8/site-packages/pytorch_lightning/trainer/connectors/data_connector.py:330: PossibleUserWarning: Using `DistributedSampler` with the dataloaders. During `trainer.test()`, it is recommended to use `Trainer(devices=1)` to ensure each sample/batch gets evaluated exactly once. Otherwise, multi-device settings use `DistributedSampler` that replicates some samples to make sure all devices have same batch size in case of uneven inputs.\n",
      "  rank_zero_warn(\n"
     ]
    },
    {
     "data": {
      "application/vnd.jupyter.widget-view+json": {
       "model_id": "4ed47af8245146c79d154151b443cd65",
       "version_major": 2,
       "version_minor": 0
      },
      "text/plain": [
       "Testing: 0it [00:00, ?it/s]"
      ]
     },
     "metadata": {},
     "output_type": "display_data"
    },
    {
     "name": "stdout",
     "output_type": "stream",
     "text": [
      "────────────────────────────────────────────────────────────────────────────────────────────────────────────────────────\n",
      "       Test metric             DataLoader 0\n",
      "────────────────────────────────────────────────────────────────────────────────────────────────────────────────────────\n",
      "      Test/Accuracy         0.9524999856948853\n",
      "        Test/Loss           0.19557517766952515\n",
      "────────────────────────────────────────────────────────────────────────────────────────────────────────────────────────\n",
      "Files already downloaded and verified\n"
     ]
    },
    {
     "name": "stderr",
     "output_type": "stream",
     "text": [
      "Global seed set to 12219\n",
      "Initializing distributed: GLOBAL_RANK: 1, MEMBER: 2/2\n",
      "Missing logger folder: /home/justin_goodwin/projects/raiden/rai_toolbox/experiments/madry/multirun/2022-04-27/23-02-45/1/lightning_logs\n"
     ]
    },
    {
     "name": "stdout",
     "output_type": "stream",
     "text": [
      "Files already downloaded and verified\n",
      "[2022-04-27 23:03:28,698][rai_toolbox.mushin._utils][INFO] - Loading model checkpoint from /home/justin_goodwin/.torch/models/mitll_cifar_l2_1_0.pt\n",
      "[2022-04-27 23:03:28,846][__main__][INFO] - Rank 1: Launched subprocess using Training.test\n",
      "[2022-04-27 23:03:28,853][torch.distributed.distributed_c10d][INFO] - Added key: store_based_barrier_key:1 to store for rank: 1\n",
      "[2022-04-27 23:03:28,863][torch.distributed.distributed_c10d][INFO] - Rank 1: Completed store-based barrier for key:store_based_barrier_key:1 with 2 nodes.\n"
     ]
    },
    {
     "name": "stderr",
     "output_type": "stream",
     "text": [
      "LOCAL_RANK: 1 - CUDA_VISIBLE_DEVICES: [0,1]\n"
     ]
    },
    {
     "data": {
      "application/vnd.jupyter.widget-view+json": {
       "model_id": "21412716bfe6474980057c06388b258f",
       "version_major": 2,
       "version_minor": 0
      },
      "text/plain": [
       "Testing: 0it [00:00, ?it/s]"
      ]
     },
     "metadata": {},
     "output_type": "display_data"
    },
    {
     "name": "stdout",
     "output_type": "stream",
     "text": [
      "────────────────────────────────────────────────────────────────────────────────────────────────────────────────────────\n",
      "       Test metric             DataLoader 0\n",
      "────────────────────────────────────────────────────────────────────────────────────────────────────────────────────────\n",
      "      Test/Accuracy         0.8162000179290771\n",
      "        Test/Loss            0.582642674446106\n",
      "────────────────────────────────────────────────────────────────────────────────────────────────────────────────────────\n",
      "Files already downloaded and verified\n"
     ]
    },
    {
     "name": "stderr",
     "output_type": "stream",
     "text": [
      "Global seed set to 12219\n",
      "Initializing distributed: GLOBAL_RANK: 1, MEMBER: 2/2\n",
      "Missing logger folder: /home/justin_goodwin/projects/raiden/rai_toolbox/experiments/madry/multirun/2022-04-27/23-02-45/2/lightning_logs\n"
     ]
    },
    {
     "name": "stdout",
     "output_type": "stream",
     "text": [
      "Files already downloaded and verified\n",
      "[2022-04-27 23:04:06,045][rai_toolbox.mushin._utils][INFO] - Loading model checkpoint from /home/justin_goodwin/.torch/models/mitll_cifar_nat.pt\n",
      "[2022-04-27 23:04:06,236][__main__][INFO] - Rank 1: Launched subprocess using Training.test\n",
      "[2022-04-27 23:04:06,242][torch.distributed.distributed_c10d][INFO] - Added key: store_based_barrier_key:1 to store for rank: 1\n",
      "[2022-04-27 23:04:06,253][torch.distributed.distributed_c10d][INFO] - Rank 1: Completed store-based barrier for key:store_based_barrier_key:1 with 2 nodes.\n"
     ]
    },
    {
     "name": "stderr",
     "output_type": "stream",
     "text": [
      "LOCAL_RANK: 1 - CUDA_VISIBLE_DEVICES: [0,1]\n"
     ]
    },
    {
     "data": {
      "application/vnd.jupyter.widget-view+json": {
       "model_id": "50deeb34dbf04665a949de57c9dc39d3",
       "version_major": 2,
       "version_minor": 0
      },
      "text/plain": [
       "Testing: 0it [00:00, ?it/s]"
      ]
     },
     "metadata": {},
     "output_type": "display_data"
    },
    {
     "name": "stdout",
     "output_type": "stream",
     "text": [
      "────────────────────────────────────────────────────────────────────────────────────────────────────────────────────────\n",
      "       Test metric             DataLoader 0\n",
      "────────────────────────────────────────────────────────────────────────────────────────────────────────────────────────\n",
      "      Test/Accuracy         0.13439999520778656\n",
      "        Test/Loss             9.854736328125\n",
      "────────────────────────────────────────────────────────────────────────────────────────────────────────────────────────\n",
      "Files already downloaded and verified\n"
     ]
    },
    {
     "name": "stderr",
     "output_type": "stream",
     "text": [
      "Global seed set to 12219\n",
      "Initializing distributed: GLOBAL_RANK: 1, MEMBER: 2/2\n",
      "Missing logger folder: /home/justin_goodwin/projects/raiden/rai_toolbox/experiments/madry/multirun/2022-04-27/23-02-45/3/lightning_logs\n"
     ]
    },
    {
     "name": "stdout",
     "output_type": "stream",
     "text": [
      "Files already downloaded and verified\n",
      "[2022-04-27 23:04:41,620][rai_toolbox.mushin._utils][INFO] - Loading model checkpoint from /home/justin_goodwin/.torch/models/mitll_cifar_l2_1_0.pt\n",
      "[2022-04-27 23:04:41,771][__main__][INFO] - Rank 1: Launched subprocess using Training.test\n",
      "[2022-04-27 23:04:41,787][torch.distributed.distributed_c10d][INFO] - Added key: store_based_barrier_key:1 to store for rank: 1\n",
      "[2022-04-27 23:04:41,797][torch.distributed.distributed_c10d][INFO] - Rank 1: Completed store-based barrier for key:store_based_barrier_key:1 with 2 nodes.\n"
     ]
    },
    {
     "name": "stderr",
     "output_type": "stream",
     "text": [
      "LOCAL_RANK: 1 - CUDA_VISIBLE_DEVICES: [0,1]\n"
     ]
    },
    {
     "data": {
      "application/vnd.jupyter.widget-view+json": {
       "model_id": "a406d5d48cb64dd6a610714696f29e3a",
       "version_major": 2,
       "version_minor": 0
      },
      "text/plain": [
       "Testing: 0it [00:00, ?it/s]"
      ]
     },
     "metadata": {},
     "output_type": "display_data"
    },
    {
     "name": "stdout",
     "output_type": "stream",
     "text": [
      "────────────────────────────────────────────────────────────────────────────────────────────────────────────────────────\n",
      "       Test metric             DataLoader 0\n",
      "────────────────────────────────────────────────────────────────────────────────────────────────────────────────────────\n",
      "      Test/Accuracy         0.7572000026702881\n",
      "        Test/Loss           0.6963141560554504\n",
      "────────────────────────────────────────────────────────────────────────────────────────────────────────────────────────\n",
      "Files already downloaded and verified\n",
      "Files already downloaded and verified\n",
      "[2022-04-27 23:05:19,115][rai_toolbox.mushin._utils][INFO] - Loading model checkpoint from /home/justin_goodwin/.torch/models/mitll_cifar_nat.pt\n",
      "[2022-04-27 23:05:19,279][__main__][INFO] - Rank 1: Launched subprocess using Training.test\n",
      "[2022-04-27 23:05:19,286][torch.distributed.distributed_c10d][INFO] - Added key: store_based_barrier_key:1 to store for rank: 1\n",
      "[2022-04-27 23:05:19,296][torch.distributed.distributed_c10d][INFO] - Rank 1: Completed store-based barrier for key:store_based_barrier_key:1 with 2 nodes.\n"
     ]
    },
    {
     "name": "stderr",
     "output_type": "stream",
     "text": [
      "Global seed set to 12219\n",
      "Initializing distributed: GLOBAL_RANK: 1, MEMBER: 2/2\n",
      "Missing logger folder: /home/justin_goodwin/projects/raiden/rai_toolbox/experiments/madry/multirun/2022-04-27/23-02-45/4/lightning_logs\n",
      "LOCAL_RANK: 1 - CUDA_VISIBLE_DEVICES: [0,1]\n"
     ]
    },
    {
     "data": {
      "application/vnd.jupyter.widget-view+json": {
       "model_id": "c728f43b6fea4dbf84b9a77c1d295e52",
       "version_major": 2,
       "version_minor": 0
      },
      "text/plain": [
       "Testing: 0it [00:00, ?it/s]"
      ]
     },
     "metadata": {},
     "output_type": "display_data"
    },
    {
     "name": "stdout",
     "output_type": "stream",
     "text": [
      "────────────────────────────────────────────────────────────────────────────────────────────────────────────────────────\n",
      "       Test metric             DataLoader 0\n",
      "────────────────────────────────────────────────────────────────────────────────────────────────────────────────────────\n",
      "      Test/Accuracy         0.00860000029206276\n",
      "        Test/Loss           16.717164993286133\n",
      "────────────────────────────────────────────────────────────────────────────────────────────────────────────────────────\n",
      "Files already downloaded and verified\n"
     ]
    },
    {
     "name": "stderr",
     "output_type": "stream",
     "text": [
      "Global seed set to 12219\n",
      "Initializing distributed: GLOBAL_RANK: 1, MEMBER: 2/2\n",
      "Missing logger folder: /home/justin_goodwin/projects/raiden/rai_toolbox/experiments/madry/multirun/2022-04-27/23-02-45/5/lightning_logs\n"
     ]
    },
    {
     "name": "stdout",
     "output_type": "stream",
     "text": [
      "Files already downloaded and verified\n",
      "[2022-04-27 23:05:54,718][rai_toolbox.mushin._utils][INFO] - Loading model checkpoint from /home/justin_goodwin/.torch/models/mitll_cifar_l2_1_0.pt\n",
      "[2022-04-27 23:05:54,877][__main__][INFO] - Rank 1: Launched subprocess using Training.test\n",
      "[2022-04-27 23:05:54,885][torch.distributed.distributed_c10d][INFO] - Added key: store_based_barrier_key:1 to store for rank: 1\n",
      "[2022-04-27 23:05:54,895][torch.distributed.distributed_c10d][INFO] - Rank 1: Completed store-based barrier for key:store_based_barrier_key:1 with 2 nodes.\n"
     ]
    },
    {
     "name": "stderr",
     "output_type": "stream",
     "text": [
      "LOCAL_RANK: 1 - CUDA_VISIBLE_DEVICES: [0,1]\n"
     ]
    },
    {
     "data": {
      "application/vnd.jupyter.widget-view+json": {
       "model_id": "3da2065734e245ec8589a8c27a872ad0",
       "version_major": 2,
       "version_minor": 0
      },
      "text/plain": [
       "Testing: 0it [00:00, ?it/s]"
      ]
     },
     "metadata": {},
     "output_type": "display_data"
    },
    {
     "name": "stdout",
     "output_type": "stream",
     "text": [
      "────────────────────────────────────────────────────────────────────────────────────────────────────────────────────────\n",
      "       Test metric             DataLoader 0\n",
      "────────────────────────────────────────────────────────────────────────────────────────────────────────────────────────\n",
      "      Test/Accuracy          0.690500020980835\n",
      "        Test/Loss           0.8335584998130798\n",
      "────────────────────────────────────────────────────────────────────────────────────────────────────────────────────────\n",
      "Files already downloaded and verified\n"
     ]
    },
    {
     "name": "stderr",
     "output_type": "stream",
     "text": [
      "Global seed set to 12219\n",
      "Initializing distributed: GLOBAL_RANK: 1, MEMBER: 2/2\n",
      "Missing logger folder: /home/justin_goodwin/projects/raiden/rai_toolbox/experiments/madry/multirun/2022-04-27/23-02-45/6/lightning_logs\n"
     ]
    },
    {
     "name": "stdout",
     "output_type": "stream",
     "text": [
      "Files already downloaded and verified\n",
      "[2022-04-27 23:06:31,999][rai_toolbox.mushin._utils][INFO] - Loading model checkpoint from /home/justin_goodwin/.torch/models/mitll_cifar_nat.pt\n",
      "[2022-04-27 23:06:32,162][__main__][INFO] - Rank 1: Launched subprocess using Training.test\n",
      "[2022-04-27 23:06:32,168][torch.distributed.distributed_c10d][INFO] - Added key: store_based_barrier_key:1 to store for rank: 1\n",
      "[2022-04-27 23:06:32,179][torch.distributed.distributed_c10d][INFO] - Rank 1: Completed store-based barrier for key:store_based_barrier_key:1 with 2 nodes.\n"
     ]
    },
    {
     "name": "stderr",
     "output_type": "stream",
     "text": [
      "LOCAL_RANK: 1 - CUDA_VISIBLE_DEVICES: [0,1]\n"
     ]
    },
    {
     "data": {
      "application/vnd.jupyter.widget-view+json": {
       "model_id": "5b16c5b3e602444695457f61640337be",
       "version_major": 2,
       "version_minor": 0
      },
      "text/plain": [
       "Testing: 0it [00:00, ?it/s]"
      ]
     },
     "metadata": {},
     "output_type": "display_data"
    },
    {
     "name": "stdout",
     "output_type": "stream",
     "text": [
      "────────────────────────────────────────────────────────────────────────────────────────────────────────────────────────\n",
      "       Test metric             DataLoader 0\n",
      "────────────────────────────────────────────────────────────────────────────────────────────────────────────────────────\n",
      "      Test/Accuracy        9.999999747378752e-05\n",
      "        Test/Loss            21.85763168334961\n",
      "────────────────────────────────────────────────────────────────────────────────────────────────────────────────────────\n",
      "Files already downloaded and verified\n",
      "Files already downloaded and verified\n",
      "[2022-04-27 23:07:07,422][rai_toolbox.mushin._utils][INFO] - Loading model checkpoint from /home/justin_goodwin/.torch/models/mitll_cifar_l2_1_0.pt\n",
      "[2022-04-27 23:07:07,608][__main__][INFO] - Rank 1: Launched subprocess using Training.test\n",
      "[2022-04-27 23:07:07,615][torch.distributed.distributed_c10d][INFO] - Added key: store_based_barrier_key:1 to store for rank: 1\n",
      "[2022-04-27 23:07:07,625][torch.distributed.distributed_c10d][INFO] - Rank 1: Completed store-based barrier for key:store_based_barrier_key:1 with 2 nodes.\n"
     ]
    },
    {
     "name": "stderr",
     "output_type": "stream",
     "text": [
      "Global seed set to 12219\n",
      "Initializing distributed: GLOBAL_RANK: 1, MEMBER: 2/2\n",
      "Missing logger folder: /home/justin_goodwin/projects/raiden/rai_toolbox/experiments/madry/multirun/2022-04-27/23-02-45/7/lightning_logs\n",
      "LOCAL_RANK: 1 - CUDA_VISIBLE_DEVICES: [0,1]\n"
     ]
    },
    {
     "data": {
      "application/vnd.jupyter.widget-view+json": {
       "model_id": "dca85d0363ce440bbd102ccca2f2c11b",
       "version_major": 2,
       "version_minor": 0
      },
      "text/plain": [
       "Testing: 0it [00:00, ?it/s]"
      ]
     },
     "metadata": {},
     "output_type": "display_data"
    },
    {
     "name": "stdout",
     "output_type": "stream",
     "text": [
      "────────────────────────────────────────────────────────────────────────────────────────────────────────────────────────\n",
      "       Test metric             DataLoader 0\n",
      "────────────────────────────────────────────────────────────────────────────────────────────────────────────────────────\n",
      "      Test/Accuracy         0.5396999716758728\n",
      "        Test/Loss           1.2052100896835327\n",
      "────────────────────────────────────────────────────────────────────────────────────────────────────────────────────────\n",
      "Files already downloaded and verified\n",
      "Files already downloaded and verified\n",
      "[2022-04-27 23:07:44,853][rai_toolbox.mushin._utils][INFO] - Loading model checkpoint from /home/justin_goodwin/.torch/models/mitll_cifar_nat.pt\n",
      "[2022-04-27 23:07:45,064][__main__][INFO] - Rank 1: Launched subprocess using Training.test\n",
      "[2022-04-27 23:07:45,071][torch.distributed.distributed_c10d][INFO] - Added key: store_based_barrier_key:1 to store for rank: 1\n",
      "[2022-04-27 23:07:45,081][torch.distributed.distributed_c10d][INFO] - Rank 1: Completed store-based barrier for key:store_based_barrier_key:1 with 2 nodes.\n"
     ]
    },
    {
     "name": "stderr",
     "output_type": "stream",
     "text": [
      "Global seed set to 12219\n",
      "Initializing distributed: GLOBAL_RANK: 1, MEMBER: 2/2\n",
      "Missing logger folder: /home/justin_goodwin/projects/raiden/rai_toolbox/experiments/madry/multirun/2022-04-27/23-02-45/8/lightning_logs\n",
      "LOCAL_RANK: 1 - CUDA_VISIBLE_DEVICES: [0,1]\n"
     ]
    },
    {
     "data": {
      "application/vnd.jupyter.widget-view+json": {
       "model_id": "79bfcf4a482343408aba23197f1ab2db",
       "version_major": 2,
       "version_minor": 0
      },
      "text/plain": [
       "Testing: 0it [00:00, ?it/s]"
      ]
     },
     "metadata": {},
     "output_type": "display_data"
    },
    {
     "name": "stdout",
     "output_type": "stream",
     "text": [
      "────────────────────────────────────────────────────────────────────────────────────────────────────────────────────────\n",
      "       Test metric             DataLoader 0\n",
      "────────────────────────────────────────────────────────────────────────────────────────────────────────────────────────\n",
      "      Test/Accuracy                 0.0\n",
      "        Test/Loss           24.626150131225586\n",
      "────────────────────────────────────────────────────────────────────────────────────────────────────────────────────────\n",
      "Files already downloaded and verified\n",
      "Files already downloaded and verified\n",
      "[2022-04-27 23:08:20,406][rai_toolbox.mushin._utils][INFO] - Loading model checkpoint from /home/justin_goodwin/.torch/models/mitll_cifar_l2_1_0.pt\n",
      "[2022-04-27 23:08:20,585][__main__][INFO] - Rank 1: Launched subprocess using Training.test\n",
      "[2022-04-27 23:08:20,592][torch.distributed.distributed_c10d][INFO] - Added key: store_based_barrier_key:1 to store for rank: 1\n",
      "[2022-04-27 23:08:20,603][torch.distributed.distributed_c10d][INFO] - Rank 1: Completed store-based barrier for key:store_based_barrier_key:1 with 2 nodes.\n"
     ]
    },
    {
     "name": "stderr",
     "output_type": "stream",
     "text": [
      "Global seed set to 12219\n",
      "Initializing distributed: GLOBAL_RANK: 1, MEMBER: 2/2\n",
      "Missing logger folder: /home/justin_goodwin/projects/raiden/rai_toolbox/experiments/madry/multirun/2022-04-27/23-02-45/9/lightning_logs\n",
      "LOCAL_RANK: 1 - CUDA_VISIBLE_DEVICES: [0,1]\n"
     ]
    },
    {
     "data": {
      "application/vnd.jupyter.widget-view+json": {
       "model_id": "3bbc42a17aaf40039523f7910791a1a2",
       "version_major": 2,
       "version_minor": 0
      },
      "text/plain": [
       "Testing: 0it [00:00, ?it/s]"
      ]
     },
     "metadata": {},
     "output_type": "display_data"
    },
    {
     "name": "stdout",
     "output_type": "stream",
     "text": [
      "────────────────────────────────────────────────────────────────────────────────────────────────────────────────────────\n",
      "       Test metric             DataLoader 0\n",
      "────────────────────────────────────────────────────────────────────────────────────────────────────────────────────────\n",
      "      Test/Accuracy         0.22220000624656677\n",
      "        Test/Loss           2.5071723461151123\n",
      "────────────────────────────────────────────────────────────────────────────────────────────────────────────────────────\n"
     ]
    }
   ],
   "source": [
    "robustness_job = MadryLabRobustness(configs.Config)\n",
    "robustness_job.run(\n",
    "    epsilon=[0, 0.25, 0.5, 1.0, 2.0], ckpt=\"mitll_cifar_nat.pt, mitll_cifar_l2_1_0.pt\"\n",
    ")"
   ]
  },
  {
   "cell_type": "markdown",
   "id": "268a7b3c-571e-4a45-a93e-8ed43cac3eb9",
   "metadata": {},
   "source": [
    "## Plot the Results"
   ]
  },
  {
   "cell_type": "code",
   "execution_count": 5,
   "id": "5c167818-da80-4f10-b796-7afebafc2e8a",
   "metadata": {},
   "outputs": [
    {
     "data": {
      "text/plain": [
       "[[<matplotlib.lines.Line2D at 0x7f3a1807d190>],\n",
       " [<matplotlib.lines.Line2D at 0x7f3a1807d790>]]"
      ]
     },
     "execution_count": 5,
     "metadata": {},
     "output_type": "execute_result"
    },
    {
     "data": {
      "image/png": "[encoded data removed]",
      "text/plain": [
       "<Figure size 432x288 with 1 Axes>"
      ]
     },
     "metadata": {
      "needs_background": "light"
     },
     "output_type": "display_data"
    }
   ],
   "source": [
    "robustness_job.plot(\"Test/Accuracy\", group=\"ckpt\")"
   ]
  },
  {
   "cell_type": "markdown",
   "id": "d4751cfa-e644-4dca-8416-b1525e2bb960",
   "metadata": {},
   "source": [
    "## Other Outputs"
   ]
  },
  {
   "cell_type": "markdown",
   "id": "f57d88f2-760d-4ee8-8adb-b754b68608cb",
   "metadata": {},
   "source": [
    "### If you have Pandas"
   ]
  },
  {
   "cell_type": "code",
   "execution_count": 6,
   "id": "bce4ce6a-d64f-49bc-91e6-3a0d23953e75",
   "metadata": {},
   "outputs": [
    {
     "data": {
      "text/html": [
       "<div>\n",
       "<style scoped>\n",
       "    .dataframe tbody tr th:only-of-type {\n",
       "        vertical-align: middle;\n",
       "    }\n",
       "\n",
       "    .dataframe tbody tr th {\n",
       "        vertical-align: top;\n",
       "    }\n",
       "\n",
       "    .dataframe thead th {\n",
       "        text-align: right;\n",
       "    }\n",
       "</style>\n",
       "<table border=\"1\" class=\"dataframe\">\n",
       "  <thead>\n",
       "    <tr style=\"text-align: right;\">\n",
       "      <th></th>\n",
       "      <th>Test/Loss</th>\n",
       "      <th>Test/Accuracy</th>\n",
       "      <th>epsilon</th>\n",
       "      <th>ckpt</th>\n",
       "    </tr>\n",
       "  </thead>\n",
       "  <tbody>\n",
       "    <tr>\n",
       "      <th>0</th>\n",
       "      <td>0.195575</td>\n",
       "      <td>0.9525</td>\n",
       "      <td>0.00</td>\n",
       "      <td>mitll_cifar_nat.pt</td>\n",
       "    </tr>\n",
       "    <tr>\n",
       "      <th>1</th>\n",
       "      <td>0.582643</td>\n",
       "      <td>0.8162</td>\n",
       "      <td>0.00</td>\n",
       "      <td>mitll_cifar_l2_1_0.pt</td>\n",
       "    </tr>\n",
       "    <tr>\n",
       "      <th>2</th>\n",
       "      <td>9.854736</td>\n",
       "      <td>0.1344</td>\n",
       "      <td>0.25</td>\n",
       "      <td>mitll_cifar_nat.pt</td>\n",
       "    </tr>\n",
       "    <tr>\n",
       "      <th>3</th>\n",
       "      <td>0.696314</td>\n",
       "      <td>0.7572</td>\n",
       "      <td>0.25</td>\n",
       "      <td>mitll_cifar_l2_1_0.pt</td>\n",
       "    </tr>\n",
       "    <tr>\n",
       "      <th>4</th>\n",
       "      <td>16.717165</td>\n",
       "      <td>0.0086</td>\n",
       "      <td>0.50</td>\n",
       "      <td>mitll_cifar_nat.pt</td>\n",
       "    </tr>\n",
       "    <tr>\n",
       "      <th>5</th>\n",
       "      <td>0.833558</td>\n",
       "      <td>0.6905</td>\n",
       "      <td>0.50</td>\n",
       "      <td>mitll_cifar_l2_1_0.pt</td>\n",
       "    </tr>\n",
       "    <tr>\n",
       "      <th>6</th>\n",
       "      <td>21.857632</td>\n",
       "      <td>0.0001</td>\n",
       "      <td>1.00</td>\n",
       "      <td>mitll_cifar_nat.pt</td>\n",
       "    </tr>\n",
       "    <tr>\n",
       "      <th>7</th>\n",
       "      <td>1.205210</td>\n",
       "      <td>0.5397</td>\n",
       "      <td>1.00</td>\n",
       "      <td>mitll_cifar_l2_1_0.pt</td>\n",
       "    </tr>\n",
       "    <tr>\n",
       "      <th>8</th>\n",
       "      <td>24.626150</td>\n",
       "      <td>0.0000</td>\n",
       "      <td>2.00</td>\n",
       "      <td>mitll_cifar_nat.pt</td>\n",
       "    </tr>\n",
       "    <tr>\n",
       "      <th>9</th>\n",
       "      <td>2.507172</td>\n",
       "      <td>0.2222</td>\n",
       "      <td>2.00</td>\n",
       "      <td>mitll_cifar_l2_1_0.pt</td>\n",
       "    </tr>\n",
       "  </tbody>\n",
       "</table>\n",
       "</div>"
      ],
      "text/plain": [
       "   Test/Loss  Test/Accuracy  epsilon                   ckpt\n",
       "0   0.195575         0.9525     0.00     mitll_cifar_nat.pt\n",
       "1   0.582643         0.8162     0.00  mitll_cifar_l2_1_0.pt\n",
       "2   9.854736         0.1344     0.25     mitll_cifar_nat.pt\n",
       "3   0.696314         0.7572     0.25  mitll_cifar_l2_1_0.pt\n",
       "4  16.717165         0.0086     0.50     mitll_cifar_nat.pt\n",
       "5   0.833558         0.6905     0.50  mitll_cifar_l2_1_0.pt\n",
       "6  21.857632         0.0001     1.00     mitll_cifar_nat.pt\n",
       "7   1.205210         0.5397     1.00  mitll_cifar_l2_1_0.pt\n",
       "8  24.626150         0.0000     2.00     mitll_cifar_nat.pt\n",
       "9   2.507172         0.2222     2.00  mitll_cifar_l2_1_0.pt"
      ]
     },
     "execution_count": 6,
     "metadata": {},
     "output_type": "execute_result"
    }
   ],
   "source": [
    "robustness_job.to_dataframe()"
   ]
  },
  {
   "cell_type": "markdown",
   "id": "4efd3bce-e50e-4343-8df4-6dcae6643c3c",
   "metadata": {},
   "source": [
    "### If you have xarray"
   ]
  },
  {
   "cell_type": "code",
   "execution_count": 7,
   "id": "fcaad01b-12ad-45cd-a461-d1b2bccabaab",
   "metadata": {},
   "outputs": [
    {
     "data": {
      "text/html": [
       "<div><svg style=\"position: absolute; width: 0; height: 0; overflow: hidden\">\n",
       "<defs>\n",
       "<symbol id=\"icon-database\" viewBox=\"0 0 32 32\">\n",
       "<path d=\"M16 0c-8.837 0-16 2.239-16 5v4c0 2.761 7.163 5 16 5s16-2.239 16-5v-4c0-2.761-7.163-5-16-5z\"></path>\n",
       "<path d=\"M16 17c-8.837 0-16-2.239-16-5v6c0 2.761 7.163 5 16 5s16-2.239 16-5v-6c0 2.761-7.163 5-16 5z\"></path>\n",
       "<path d=\"M16 26c-8.837 0-16-2.239-16-5v6c0 2.761 7.163 5 16 5s16-2.239 16-5v-6c0 2.761-7.163 5-16 5z\"></path>\n",
       "</symbol>\n",
       "<symbol id=\"icon-file-text2\" viewBox=\"0 0 32 32\">\n",
       "<path d=\"M28.681 7.159c-0.694-0.947-1.662-2.053-2.724-3.116s-2.169-2.030-3.116-2.724c-1.612-1.182-2.393-1.319-2.841-1.319h-15.5c-1.378 0-2.5 1.121-2.5 2.5v27c0 1.378 1.122 2.5 2.5 2.5h23c1.378 0 2.5-1.122 2.5-2.5v-19.5c0-0.448-0.137-1.23-1.319-2.841zM24.543 5.457c0.959 0.959 1.712 1.825 2.268 2.543h-4.811v-4.811c0.718 0.556 1.584 1.309 2.543 2.268zM28 29.5c0 0.271-0.229 0.5-0.5 0.5h-23c-0.271 0-0.5-0.229-0.5-0.5v-27c0-0.271 0.229-0.5 0.5-0.5 0 0 15.499-0 15.5 0v7c0 0.552 0.448 1 1 1h7v19.5z\"></path>\n",
       "<path d=\"M23 26h-14c-0.552 0-1-0.448-1-1s0.448-1 1-1h14c0.552 0 1 0.448 1 1s-0.448 1-1 1z\"></path>\n",
       "<path d=\"M23 22h-14c-0.552 0-1-0.448-1-1s0.448-1 1-1h14c0.552 0 1 0.448 1 1s-0.448 1-1 1z\"></path>\n",
       "<path d=\"M23 18h-14c-0.552 0-1-0.448-1-1s0.448-1 1-1h14c0.552 0 1 0.448 1 1s-0.448 1-1 1z\"></path>\n",
       "</symbol>\n",
       "</defs>\n",
       "</svg>\n",
       "<style>/* CSS stylesheet for displaying xarray objects in jupyterlab.\n",
       " *\n",
       " */\n",
       "\n",
       ":root {\n",
       "  --xr-font-color0: var(--jp-content-font-color0, rgba(0, 0, 0, 1));\n",
       "  --xr-font-color2: var(--jp-content-font-color2, rgba(0, 0, 0, 0.54));\n",
       "  --xr-font-color3: var(--jp-content-font-color3, rgba(0, 0, 0, 0.38));\n",
       "  --xr-border-color: var(--jp-border-color2, #e0e0e0);\n",
       "  --xr-disabled-color: var(--jp-layout-color3, #bdbdbd);\n",
       "  --xr-background-color: var(--jp-layout-color0, white);\n",
       "  --xr-background-color-row-even: var(--jp-layout-color1, white);\n",
       "  --xr-background-color-row-odd: var(--jp-layout-color2, #eeeeee);\n",
       "}\n",
       "\n",
       "html[theme=dark],\n",
       "body.vscode-dark {\n",
       "  --xr-font-color0: rgba(255, 255, 255, 1);\n",
       "  --xr-font-color2: rgba(255, 255, 255, 0.54);\n",
       "  --xr-font-color3: rgba(255, 255, 255, 0.38);\n",
       "  --xr-border-color: #1F1F1F;\n",
       "  --xr-disabled-color: #515151;\n",
       "  --xr-background-color: #111111;\n",
       "  --xr-background-color-row-even: #111111;\n",
       "  --xr-background-color-row-odd: #313131;\n",
       "}\n",
       "\n",
       ".xr-wrap {\n",
       "  display: block !important;\n",
       "  min-width: 300px;\n",
       "  max-width: 700px;\n",
       "}\n",
       "\n",
       ".xr-text-repr-fallback {\n",
       "  /* fallback to plain text repr when CSS is not injected (untrusted notebook) */\n",
       "  display: none;\n",
       "}\n",
       "\n",
       ".xr-header {\n",
       "  padding-top: 6px;\n",
       "  padding-bottom: 6px;\n",
       "  margin-bottom: 4px;\n",
       "  border-bottom: solid 1px var(--xr-border-color);\n",
       "}\n",
       "\n",
       ".xr-header > div,\n",
       ".xr-header > ul {\n",
       "  display: inline;\n",
       "  margin-top: 0;\n",
       "  margin-bottom: 0;\n",
       "}\n",
       "\n",
       ".xr-obj-type,\n",
       ".xr-array-name {\n",
       "  margin-left: 2px;\n",
       "  margin-right: 10px;\n",
       "}\n",
       "\n",
       ".xr-obj-type {\n",
       "  color: var(--xr-font-color2);\n",
       "}\n",
       "\n",
       ".xr-sections {\n",
       "  padding-left: 0 !important;\n",
       "  display: grid;\n",
       "  grid-template-columns: 150px auto auto 1fr 20px 20px;\n",
       "}\n",
       "\n",
       ".xr-section-item {\n",
       "  display: contents;\n",
       "}\n",
       "\n",
       ".xr-section-item input {\n",
       "  display: none;\n",
       "}\n",
       "\n",
       ".xr-section-item input + label {\n",
       "  color: var(--xr-disabled-color);\n",
       "}\n",
       "\n",
       ".xr-section-item input:enabled + label {\n",
       "  cursor: pointer;\n",
       "  color: var(--xr-font-color2);\n",
       "}\n",
       "\n",
       ".xr-section-item input:enabled + label:hover {\n",
       "  color: var(--xr-font-color0);\n",
       "}\n",
       "\n",
       ".xr-section-summary {\n",
       "  grid-column: 1;\n",
       "  color: var(--xr-font-color2);\n",
       "  font-weight: 500;\n",
       "}\n",
       "\n",
       ".xr-section-summary > span {\n",
       "  display: inline-block;\n",
       "  padding-left: 0.5em;\n",
       "}\n",
       "\n",
       ".xr-section-summary-in:disabled + label {\n",
       "  color: var(--xr-font-color2);\n",
       "}\n",
       "\n",
       ".xr-section-summary-in + label:before {\n",
       "  display: inline-block;\n",
       "  content: '►';\n",
       "  font-size: 11px;\n",
       "  width: 15px;\n",
       "  text-align: center;\n",
       "}\n",
       "\n",
       ".xr-section-summary-in:disabled + label:before {\n",
       "  color: var(--xr-disabled-color);\n",
       "}\n",
       "\n",
       ".xr-section-summary-in:checked + label:before {\n",
       "  content: '▼';\n",
       "}\n",
       "\n",
       ".xr-section-summary-in:checked + label > span {\n",
       "  display: none;\n",
       "}\n",
       "\n",
       ".xr-section-summary,\n",
       ".xr-section-inline-details {\n",
       "  padding-top: 4px;\n",
       "  padding-bottom: 4px;\n",
       "}\n",
       "\n",
       ".xr-section-inline-details {\n",
       "  grid-column: 2 / -1;\n",
       "}\n",
       "\n",
       ".xr-section-details {\n",
       "  display: none;\n",
       "  grid-column: 1 / -1;\n",
       "  margin-bottom: 5px;\n",
       "}\n",
       "\n",
       ".xr-section-summary-in:checked ~ .xr-section-details {\n",
       "  display: contents;\n",
       "}\n",
       "\n",
       ".xr-array-wrap {\n",
       "  grid-column: 1 / -1;\n",
       "  display: grid;\n",
       "  grid-template-columns: 20px auto;\n",
       "}\n",
       "\n",
       ".xr-array-wrap > label {\n",
       "  grid-column: 1;\n",
       "  vertical-align: top;\n",
       "}\n",
       "\n",
       ".xr-preview {\n",
       "  color: var(--xr-font-color3);\n",
       "}\n",
       "\n",
       ".xr-array-preview,\n",
       ".xr-array-data {\n",
       "  padding: 0 5px !important;\n",
       "  grid-column: 2;\n",
       "}\n",
       "\n",
       ".xr-array-data,\n",
       ".xr-array-in:checked ~ .xr-array-preview {\n",
       "  display: none;\n",
       "}\n",
       "\n",
       ".xr-array-in:checked ~ .xr-array-data,\n",
       ".xr-array-preview {\n",
       "  display: inline-block;\n",
       "}\n",
       "\n",
       ".xr-dim-list {\n",
       "  display: inline-block !important;\n",
       "  list-style: none;\n",
       "  padding: 0 !important;\n",
       "  margin: 0;\n",
       "}\n",
       "\n",
       ".xr-dim-list li {\n",
       "  display: inline-block;\n",
       "  padding: 0;\n",
       "  margin: 0;\n",
       "}\n",
       "\n",
       ".xr-dim-list:before {\n",
       "  content: '(';\n",
       "}\n",
       "\n",
       ".xr-dim-list:after {\n",
       "  content: ')';\n",
       "}\n",
       "\n",
       ".xr-dim-list li:not(:last-child):after {\n",
       "  content: ',';\n",
       "  padding-right: 5px;\n",
       "}\n",
       "\n",
       ".xr-has-index {\n",
       "  font-weight: bold;\n",
       "}\n",
       "\n",
       ".xr-var-list,\n",
       ".xr-var-item {\n",
       "  display: contents;\n",
       "}\n",
       "\n",
       ".xr-var-item > div,\n",
       ".xr-var-item label,\n",
       ".xr-var-item > .xr-var-name span {\n",
       "  background-color: var(--xr-background-color-row-even);\n",
       "  margin-bottom: 0;\n",
       "}\n",
       "\n",
       ".xr-var-item > .xr-var-name:hover span {\n",
       "  padding-right: 5px;\n",
       "}\n",
       "\n",
       ".xr-var-list > li:nth-child(odd) > div,\n",
       ".xr-var-list > li:nth-child(odd) > label,\n",
       ".xr-var-list > li:nth-child(odd) > .xr-var-name span {\n",
       "  background-color: var(--xr-background-color-row-odd);\n",
       "}\n",
       "\n",
       ".xr-var-name {\n",
       "  grid-column: 1;\n",
       "}\n",
       "\n",
       ".xr-var-dims {\n",
       "  grid-column: 2;\n",
       "}\n",
       "\n",
       ".xr-var-dtype {\n",
       "  grid-column: 3;\n",
       "  text-align: right;\n",
       "  color: var(--xr-font-color2);\n",
       "}\n",
       "\n",
       ".xr-var-preview {\n",
       "  grid-column: 4;\n",
       "}\n",
       "\n",
       ".xr-var-name,\n",
       ".xr-var-dims,\n",
       ".xr-var-dtype,\n",
       ".xr-preview,\n",
       ".xr-attrs dt {\n",
       "  white-space: nowrap;\n",
       "  overflow: hidden;\n",
       "  text-overflow: ellipsis;\n",
       "  padding-right: 10px;\n",
       "}\n",
       "\n",
       ".xr-var-name:hover,\n",
       ".xr-var-dims:hover,\n",
       ".xr-var-dtype:hover,\n",
       ".xr-attrs dt:hover {\n",
       "  overflow: visible;\n",
       "  width: auto;\n",
       "  z-index: 1;\n",
       "}\n",
       "\n",
       ".xr-var-attrs,\n",
       ".xr-var-data {\n",
       "  display: none;\n",
       "  background-color: var(--xr-background-color) !important;\n",
       "  padding-bottom: 5px !important;\n",
       "}\n",
       "\n",
       ".xr-var-attrs-in:checked ~ .xr-var-attrs,\n",
       ".xr-var-data-in:checked ~ .xr-var-data {\n",
       "  display: block;\n",
       "}\n",
       "\n",
       ".xr-var-data > table {\n",
       "  float: right;\n",
       "}\n",
       "\n",
       ".xr-var-name span,\n",
       ".xr-var-data,\n",
       ".xr-attrs {\n",
       "  padding-left: 25px !important;\n",
       "}\n",
       "\n",
       ".xr-attrs,\n",
       ".xr-var-attrs,\n",
       ".xr-var-data {\n",
       "  grid-column: 1 / -1;\n",
       "}\n",
       "\n",
       "dl.xr-attrs {\n",
       "  padding: 0;\n",
       "  margin: 0;\n",
       "  display: grid;\n",
       "  grid-template-columns: 125px auto;\n",
       "}\n",
       "\n",
       ".xr-attrs dt,\n",
       ".xr-attrs dd {\n",
       "  padding: 0;\n",
       "  margin: 0;\n",
       "  float: left;\n",
       "  padding-right: 10px;\n",
       "  width: auto;\n",
       "}\n",
       "\n",
       ".xr-attrs dt {\n",
       "  font-weight: normal;\n",
       "  grid-column: 1;\n",
       "}\n",
       "\n",
       ".xr-attrs dt:hover span {\n",
       "  display: inline-block;\n",
       "  background: var(--xr-background-color);\n",
       "  padding-right: 10px;\n",
       "}\n",
       "\n",
       ".xr-attrs dd {\n",
       "  grid-column: 2;\n",
       "  white-space: pre-wrap;\n",
       "  word-break: break-all;\n",
       "}\n",
       "\n",
       ".xr-icon-database,\n",
       ".xr-icon-file-text2 {\n",
       "  display: inline-block;\n",
       "  vertical-align: middle;\n",
       "  width: 1em;\n",
       "  height: 1.5em !important;\n",
       "  stroke-width: 0;\n",
       "  stroke: currentColor;\n",
       "  fill: currentColor;\n",
       "}\n",
       "</style><pre class='xr-text-repr-fallback'>&lt;xarray.Dataset&gt;\n",
       "Dimensions:        (x: 10)\n",
       "Coordinates:\n",
       "    epsilon        (x) float64 0.0 0.0 0.25 0.25 0.5 0.5 1.0 1.0 2.0 2.0\n",
       "    ckpt           (x) &lt;U21 &#x27;mitll_cifar_nat.pt&#x27; ... &#x27;mitll_cifar_l2_1_0.pt&#x27;\n",
       "Dimensions without coordinates: x\n",
       "Data variables:\n",
       "    Test/Loss      (x) float64 0.1956 0.5826 9.855 0.6963 ... 1.205 24.63 2.507\n",
       "    Test/Accuracy  (x) float64 0.9525 0.8162 0.1344 0.7572 ... 0.5397 0.0 0.2222</pre><div class='xr-wrap' style='display:none'><div class='xr-header'><div class='xr-obj-type'>xarray.Dataset</div></div><ul class='xr-sections'><li class='xr-section-item'><input id='section-ebf76805-cf40-4b81-bade-d9afc73f5929' class='xr-section-summary-in' type='checkbox' disabled ><label for='section-ebf76805-cf40-4b81-bade-d9afc73f5929' class='xr-section-summary'  title='Expand/collapse section'>Dimensions:</label><div class='xr-section-inline-details'><ul class='xr-dim-list'><li><span>x</span>: 10</li></ul></div><div class='xr-section-details'></div></li><li class='xr-section-item'><input id='section-404ddd74-15b5-4e4b-8042-2309ca759133' class='xr-section-summary-in' type='checkbox'  checked><label for='section-404ddd74-15b5-4e4b-8042-2309ca759133' class='xr-section-summary' >Coordinates: <span>(2)</span></label><div class='xr-section-inline-details'></div><div class='xr-section-details'><ul class='xr-var-list'><li class='xr-var-item'><div class='xr-var-name'><span>epsilon</span></div><div class='xr-var-dims'>(x)</div><div class='xr-var-dtype'>float64</div><div class='xr-var-preview xr-preview'>0.0 0.0 0.25 0.25 ... 1.0 2.0 2.0</div><input id='attrs-3833ec6f-b808-4df5-8fca-430feced79b5' class='xr-var-attrs-in' type='checkbox' disabled><label for='attrs-3833ec6f-b808-4df5-8fca-430feced79b5' title='Show/Hide attributes'><svg class='icon xr-icon-file-text2'><use xlink:href='#icon-file-text2'></use></svg></label><input id='data-9ccb7d44-365a-48fe-9fae-64798489770b' class='xr-var-data-in' type='checkbox'><label for='data-9ccb7d44-365a-48fe-9fae-64798489770b' title='Show/Hide data repr'><svg class='icon xr-icon-database'><use xlink:href='#icon-database'></use></svg></label><div class='xr-var-attrs'><dl class='xr-attrs'></dl></div><div class='xr-var-data'><pre>array([0.  , 0.  , 0.25, 0.25, 0.5 , 0.5 , 1.  , 1.  , 2.  , 2.  ])</pre></div></li><li class='xr-var-item'><div class='xr-var-name'><span>ckpt</span></div><div class='xr-var-dims'>(x)</div><div class='xr-var-dtype'>&lt;U21</div><div class='xr-var-preview xr-preview'>&#x27;mitll_cifar_nat.pt&#x27; ... &#x27;mitll_...</div><input id='attrs-a581e20a-a7ff-4e2a-9894-2bcff60599e1' class='xr-var-attrs-in' type='checkbox' disabled><label for='attrs-a581e20a-a7ff-4e2a-9894-2bcff60599e1' title='Show/Hide attributes'><svg class='icon xr-icon-file-text2'><use xlink:href='#icon-file-text2'></use></svg></label><input id='data-2e2c7876-77cd-4a2a-88c7-840eadec4574' class='xr-var-data-in' type='checkbox'><label for='data-2e2c7876-77cd-4a2a-88c7-840eadec4574' title='Show/Hide data repr'><svg class='icon xr-icon-database'><use xlink:href='#icon-database'></use></svg></label><div class='xr-var-attrs'><dl class='xr-attrs'></dl></div><div class='xr-var-data'><pre>array([&#x27;mitll_cifar_nat.pt&#x27;, &#x27;mitll_cifar_l2_1_0.pt&#x27;,\n",
       "       &#x27;mitll_cifar_nat.pt&#x27;, &#x27;mitll_cifar_l2_1_0.pt&#x27;,\n",
       "       &#x27;mitll_cifar_nat.pt&#x27;, &#x27;mitll_cifar_l2_1_0.pt&#x27;,\n",
       "       &#x27;mitll_cifar_nat.pt&#x27;, &#x27;mitll_cifar_l2_1_0.pt&#x27;,\n",
       "       &#x27;mitll_cifar_nat.pt&#x27;, &#x27;mitll_cifar_l2_1_0.pt&#x27;], dtype=&#x27;&lt;U21&#x27;)</pre></div></li></ul></div></li><li class='xr-section-item'><input id='section-d014f428-3d54-4c92-b12d-5fd074a23d4d' class='xr-section-summary-in' type='checkbox'  checked><label for='section-d014f428-3d54-4c92-b12d-5fd074a23d4d' class='xr-section-summary' >Data variables: <span>(2)</span></label><div class='xr-section-inline-details'></div><div class='xr-section-details'><ul class='xr-var-list'><li class='xr-var-item'><div class='xr-var-name'><span>Test/Loss</span></div><div class='xr-var-dims'>(x)</div><div class='xr-var-dtype'>float64</div><div class='xr-var-preview xr-preview'>0.1956 0.5826 9.855 ... 24.63 2.507</div><input id='attrs-19147fcb-f954-491f-bb8f-6fbf918917a4' class='xr-var-attrs-in' type='checkbox' disabled><label for='attrs-19147fcb-f954-491f-bb8f-6fbf918917a4' title='Show/Hide attributes'><svg class='icon xr-icon-file-text2'><use xlink:href='#icon-file-text2'></use></svg></label><input id='data-dacd8edd-4775-4857-b884-4bec2f0723c5' class='xr-var-data-in' type='checkbox'><label for='data-dacd8edd-4775-4857-b884-4bec2f0723c5' title='Show/Hide data repr'><svg class='icon xr-icon-database'><use xlink:href='#icon-database'></use></svg></label><div class='xr-var-attrs'><dl class='xr-attrs'></dl></div><div class='xr-var-data'><pre>array([ 0.19557518,  0.58264267,  9.85473633,  0.69631416, 16.71716499,\n",
       "        0.8335585 , 21.85763168,  1.20521009, 24.62615013,  2.50717235])</pre></div></li><li class='xr-var-item'><div class='xr-var-name'><span>Test/Accuracy</span></div><div class='xr-var-dims'>(x)</div><div class='xr-var-dtype'>float64</div><div class='xr-var-preview xr-preview'>0.9525 0.8162 0.1344 ... 0.0 0.2222</div><input id='attrs-0e5cb163-a18f-4730-96c4-50557529bbd1' class='xr-var-attrs-in' type='checkbox' disabled><label for='attrs-0e5cb163-a18f-4730-96c4-50557529bbd1' title='Show/Hide attributes'><svg class='icon xr-icon-file-text2'><use xlink:href='#icon-file-text2'></use></svg></label><input id='data-19861cbf-e8d5-4f14-a772-f74f8c59f88c' class='xr-var-data-in' type='checkbox'><label for='data-19861cbf-e8d5-4f14-a772-f74f8c59f88c' title='Show/Hide data repr'><svg class='icon xr-icon-database'><use xlink:href='#icon-database'></use></svg></label><div class='xr-var-attrs'><dl class='xr-attrs'></dl></div><div class='xr-var-data'><pre>array([9.52499986e-01, 8.16200018e-01, 1.34399995e-01, 7.57200003e-01,\n",
       "       8.60000029e-03, 6.90500021e-01, 9.99999975e-05, 5.39699972e-01,\n",
       "       0.00000000e+00, 2.22200006e-01])</pre></div></li></ul></div></li><li class='xr-section-item'><input id='section-dcda2671-e9a7-4da8-8e8c-170af8f389e1' class='xr-section-summary-in' type='checkbox' disabled ><label for='section-dcda2671-e9a7-4da8-8e8c-170af8f389e1' class='xr-section-summary'  title='Expand/collapse section'>Attributes: <span>(0)</span></label><div class='xr-section-inline-details'></div><div class='xr-section-details'><dl class='xr-attrs'></dl></div></li></ul></div></div>"
      ],
      "text/plain": [
       "<xarray.Dataset>\n",
       "Dimensions:        (x: 10)\n",
       "Coordinates:\n",
       "    epsilon        (x) float64 0.0 0.0 0.25 0.25 0.5 0.5 1.0 1.0 2.0 2.0\n",
       "    ckpt           (x) <U21 'mitll_cifar_nat.pt' ... 'mitll_cifar_l2_1_0.pt'\n",
       "Dimensions without coordinates: x\n",
       "Data variables:\n",
       "    Test/Loss      (x) float64 0.1956 0.5826 9.855 0.6963 ... 1.205 24.63 2.507\n",
       "    Test/Accuracy  (x) float64 0.9525 0.8162 0.1344 0.7572 ... 0.5397 0.0 0.2222"
      ]
     },
     "execution_count": 7,
     "metadata": {},
     "output_type": "execute_result"
    }
   ],
   "source": [
    "robustness_job.to_xarray()"
   ]
  },
  {
   "cell_type": "code",
   "execution_count": 8,
   "id": "0c4c534c-b736-43a3-bf39-7bdcb90a1f07",
   "metadata": {},
   "outputs": [],
   "source": [
    "xdata = robustness_job.to_xarray()"
   ]
  },
  {
   "cell_type": "code",
   "execution_count": 9,
   "id": "27d0c33e-efb3-4dda-b7ca-2e9066db1d4a",
   "metadata": {},
   "outputs": [
    {
     "data": {
      "text/plain": [
       "<matplotlib.legend.Legend at 0x7f3a1016dbe0>"
      ]
     },
     "execution_count": 9,
     "metadata": {},
     "output_type": "execute_result"
    },
    {
     "data": {
      "image/png": "[encoded data removed]",
      "text/plain": [
       "<Figure size 432x288 with 1 Axes>"
      ]
     },
     "metadata": {
      "needs_background": "light"
     },
     "output_type": "display_data"
    }
   ],
   "source": [
    "import matplotlib.pyplot as plt\n",
    "\n",
    "xdata = robustness_job.to_xarray()\n",
    "fig, ax = plt.subplots()\n",
    "for name, g in xdata.groupby(\"ckpt\"):\n",
    "    g[\"Test/Accuracy\"].plot.line(x=\"epsilon\", ax=ax, label=name)\n",
    "plt.legend()"
   ]
  },
  {
   "cell_type": "code",
   "execution_count": 10,
   "id": "71d2e340-164a-4340-8606-6171fffabfdb",
   "metadata": {},
   "outputs": [
    {
     "data": {
      "text/plain": [
       "[<matplotlib.lines.Line2D at 0x7f3a100faf10>]"
      ]
     },
     "execution_count": 10,
     "metadata": {},
     "output_type": "execute_result"
    },
    {
     "data": {
      "image/png": "[encoded data removed]",
      "text/plain": [
       "<Figure size 432x288 with 1 Axes>"
      ]
     },
     "metadata": {
      "needs_background": "light"
     },
     "output_type": "display_data"
    }
   ],
   "source": [
    "xdata[\"Test/Accuracy\"].plot.line(x=\"epsilon\")"
   ]
  },
  {
   "cell_type": "code",
   "execution_count": null,
   "id": "b6c0ad60-dd71-46e8-910b-f8b0c1dea896",
   "metadata": {},
   "outputs": [],
   "source": []
  }
 ],
 "metadata": {
  "kernelspec": {
   "display_name": "Python [conda env:.conda-raiden]",
   "language": "python",
   "name": "conda-env-.conda-raiden-py"
  },
  "language_info": {
   "codemirror_mode": {
    "name": "ipython",
    "version": 3
   },
   "file_extension": ".py",
   "mimetype": "text/x-python",
   "name": "python",
   "nbconvert_exporter": "python",
   "pygments_lexer": "ipython3",
   "version": "3.8.12"
  }
 },
 "nbformat": 4,
 "nbformat_minor": 5
}
