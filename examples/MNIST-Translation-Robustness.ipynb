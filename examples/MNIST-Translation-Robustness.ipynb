{
 "cells": [
  {
   "cell_type": "markdown",
   "id": "73eedec2-7295-459f-a16b-4191398abbcf",
   "metadata": {},
   "source": [
    "# Robustness to Image Translation\n",
    "\n",
    "This notebook will demonstrate:\n",
    " - Setting up PyTorch training and testing experiments with hydra-zen and rai-toolbox\n",
    " - Configuring and running repeatable and scalable experiments with [hydra-zen](https://github.com/mit-ll-responsible-ai/hydra-zen)\n",
    " - Experimenting with robustness to image translations on MNIST\n"
   ]
  },
  {
   "cell_type": "markdown",
   "id": "3d510ee0-d4c8-47fb-bb50-449869bb03a5",
   "metadata": {},
   "source": [
    "## Base Imports"
   ]
  },
  {
   "cell_type": "code",
   "execution_count": 2,
   "id": "5c4841d2-201b-438f-8b52-83e956151d44",
   "metadata": {},
   "outputs": [],
   "source": [
    "%matplotlib inline\n",
    "\n",
    "import random\n",
    "from pathlib import Path\n",
    "\n",
    "import matplotlib.pyplot as plt\n",
    "import numpy as np\n",
    "import torch\n",
    "from torch import Tensor, nn\n",
    "from torch.utils.data import DataLoader\n",
    "from torchvision import datasets, transforms\n",
    "from tqdm.auto import tqdm"
   ]
  },
  {
   "cell_type": "code",
   "execution_count": 3,
   "id": "be2ee167-5ec7-4c14-b2cb-057c750317ad",
   "metadata": {},
   "outputs": [],
   "source": [
    "import xarray as xr\n",
    "from hydra import compose, initialize\n",
    "from hydra.core.config_store import ConfigStore"
   ]
  },
  {
   "cell_type": "markdown",
   "id": "86f30714-fba8-410c-ad62-5a4f2bf2d896",
   "metadata": {},
   "source": [
    "### Imports from MITLL packages"
   ]
  },
  {
   "cell_type": "code",
   "execution_count": 4,
   "id": "a9af70d0-b862-4445-a4fc-6cfcc8d60964",
   "metadata": {},
   "outputs": [],
   "source": [
    "from hydra_zen import MISSING, builds, instantiate, launch, make_config\n",
    "from rai_toolbox.mushin.workflows import RobustnessCurve"
   ]
  },
  {
   "cell_type": "markdown",
   "id": "f371c7d9-487e-4107-9d7d-de0da1c98916",
   "metadata": {},
   "source": [
    "## Training and Testing Functions"
   ]
  },
  {
   "cell_type": "markdown",
   "id": "546f649d-4c6d-47e2-b5c5-e70035911361",
   "metadata": {},
   "source": [
    "### Setting Random Seed\n",
    "\n",
    "This functions will allows us to set the random seed so we can repeat our experiments and get the same results."
   ]
  },
  {
   "cell_type": "code",
   "execution_count": 5,
   "id": "41b00633-4f70-4eb2-a51a-76071b54bbef",
   "metadata": {},
   "outputs": [],
   "source": [
    "def set_seed(random_seed) -> None:\n",
    "    np.random.seed(random_seed)\n",
    "    random.seed(random_seed)\n",
    "    torch.manual_seed(random_seed)\n",
    "    torch.cuda.manual_seed(random_seed)"
   ]
  },
  {
   "cell_type": "markdown",
   "id": "d294da30-bd92-427e-90e1-6332ef1b5499",
   "metadata": {},
   "source": [
    "### Experiment Functions"
   ]
  },
  {
   "cell_type": "markdown",
   "id": "3979c4f6-cc53-458c-ae1b-422047aa47f5",
   "metadata": {},
   "source": [
    "#### Models\n",
    "\n",
    "We will be testing a Fully Connected (FC) neural network and Convolutional Neural Network (CNN)."
   ]
  },
  {
   "cell_type": "code",
   "execution_count": 6,
   "id": "2e2a55a8-9168-4785-8c47-f05d15043f80",
   "metadata": {},
   "outputs": [],
   "source": [
    "class ConvModel(nn.Module):\n",
    "    def __init__(self):\n",
    "        super().__init__()\n",
    "        self.model = nn.Sequential(\n",
    "            nn.Conv2d(1, 32, 5, padding=\"same\"),\n",
    "            nn.BatchNorm2d(32),\n",
    "            nn.ReLU(),\n",
    "            nn.MaxPool2d(3),\n",
    "            nn.Conv2d(32, 32, 3, padding=\"same\"),\n",
    "            nn.BatchNorm2d(32),\n",
    "            nn.ReLU(),\n",
    "            nn.MaxPool2d(3),\n",
    "            nn.Conv2d(32, 32, 3, padding=\"same\"),\n",
    "            nn.BatchNorm2d(32),\n",
    "            nn.ReLU(),\n",
    "            nn.Conv2d(32, 10, 3),\n",
    "            nn.Flatten(1),\n",
    "        )\n",
    "\n",
    "    def forward(self, x):\n",
    "        return self.model(x)\n",
    "\n",
    "\n",
    "class LinearModel(nn.Module):\n",
    "    def __init__(self):\n",
    "        super().__init__()\n",
    "        self.model = nn.Sequential(\n",
    "            nn.Flatten(1),\n",
    "            nn.Linear(28 * 28, 256),\n",
    "            nn.ReLU(),\n",
    "            nn.Linear(256, 128),\n",
    "            nn.ReLU(),\n",
    "            nn.Linear(128, 64),\n",
    "            nn.ReLU(),\n",
    "            nn.Linear(64, 10),\n",
    "        )\n",
    "\n",
    "    def forward(self, x):\n",
    "        return self.model(x)"
   ]
  },
  {
   "cell_type": "markdown",
   "id": "bda4f018-c7ba-4959-be74-c708e051024d",
   "metadata": {},
   "source": [
    "### Tanslation Perturbation\n",
    "\n",
    "We will use `torchvision.transforms.RandomAffine` to randomly translate the image in both dimensions of the image.  We define the perturbation equally in both height and width using a single parameter $\\epsilon$. This choice of perturbations was made for simplicity and can be updated to support perturbations in each dimension seperately."
   ]
  },
  {
   "cell_type": "code",
   "execution_count": 7,
   "id": "c2ca604d-da49-45c2-80f5-f4e15185896a",
   "metadata": {},
   "outputs": [],
   "source": [
    "def translate_perturbation(data: Tensor, epsilon) -> Tensor:\n",
    "    xform = transforms.RandomAffine(degrees=0.0, translate=(epsilon, epsilon))\n",
    "    return xform(data)"
   ]
  },
  {
   "cell_type": "markdown",
   "id": "0aa2364f-a407-46b5-84d7-a0567dfa0e11",
   "metadata": {},
   "source": [
    "### Training and Testing\n",
    "\n",
    "We provide functions for training and testing of models.  Both functions support perturbing the data: for training this is data augmentation, for testing this is for evaluating sensitivity to perturbations."
   ]
  },
  {
   "cell_type": "code",
   "execution_count": 8,
   "id": "a8bc36c4-f20f-4f18-97b2-e08cdee35316",
   "metadata": {},
   "outputs": [],
   "source": [
    "def train_model(\n",
    "    model,\n",
    "    train_dataset,\n",
    "    epsilon=0.0,\n",
    "    num_epochs=10,\n",
    "    batch_size=100,\n",
    "    num_workers=4,\n",
    "    device=\"cpu\",\n",
    "    learning_rate=0.1,\n",
    "):\n",
    "    dl = DataLoader(\n",
    "        train_dataset, batch_size=batch_size, num_workers=num_workers, shuffle=True,\n",
    "    )\n",
    "\n",
    "    nn_model = model[\"nn\"]\n",
    "    nn_model = nn_model.to(device)\n",
    "    criterion = nn.CrossEntropyLoss()\n",
    "    optim = torch.optim.SGD(nn_model.parameters(), lr=learning_rate)\n",
    "    for i in tqdm(range(num_epochs)):\n",
    "        nn_model.train()\n",
    "        for data, target in dl:\n",
    "            data = data.to(device)\n",
    "            if epsilon > 0:\n",
    "                data = translate_perturbation(data, epsilon)\n",
    "\n",
    "            target = target.to(device)\n",
    "            logit = nn_model(data)\n",
    "            loss = criterion(logit, target)\n",
    "\n",
    "            optim.zero_grad()\n",
    "            loss.backward()\n",
    "            optim.step()\n",
    "\n",
    "    torch.save(nn_model.state_dict(), \"model.ckpt\")\n",
    "\n",
    "\n",
    "def test_model(\n",
    "    model, test_dataset, epsilon=0.0, batch_size=100, num_workers=4, device=\"cpu\",\n",
    "):\n",
    "    assert model[\"ckpt\"] is not None\n",
    "    nn_model = model[\"nn\"]\n",
    "    nn_model.load_state_dict(torch.load(str(model[\"ckpt\"])))\n",
    "    nn_model = nn_model.to(device)\n",
    "\n",
    "    test_dl = DataLoader(\n",
    "        test_dataset, batch_size=batch_size, num_workers=num_workers, shuffle=True,\n",
    "    )\n",
    "\n",
    "    preds = []\n",
    "    with torch.no_grad():\n",
    "        nn_model.eval()\n",
    "        for tdata, ttarget in test_dl:\n",
    "            tdata = tdata.to(device)\n",
    "            ttarget = ttarget.to(device)\n",
    "\n",
    "            if epsilon > 0:\n",
    "                tdata = translate_perturbation(tdata, epsilon)\n",
    "\n",
    "            tlogit = nn_model(tdata)\n",
    "\n",
    "            # Save if prediction is correct or not for each sample\n",
    "            preds.extend((tlogit.argmax(1) == ttarget).float().cpu().numpy())\n",
    "\n",
    "    acc = sum(preds) / len(preds)\n",
    "    return dict(Accuracy=acc)"
   ]
  },
  {
   "cell_type": "markdown",
   "id": "997b994a-1484-4c51-8090-7601eff0320f",
   "metadata": {},
   "source": [
    "### Plotting\n",
    "\n",
    "Just a helper function for plotting some results below."
   ]
  },
  {
   "cell_type": "code",
   "execution_count": 9,
   "id": "54af24e6-89f7-42fb-b830-14bdfb498889",
   "metadata": {},
   "outputs": [],
   "source": [
    "def bar_chart(cnn_tests, fc_tests, aug_cnn_tests=None, aug_fc_tests=None):\n",
    "    fig, ax = plt.subplots()\n",
    "\n",
    "    cnn_no_translate = cnn_tests[0].return_value[\"Accuracy\"]\n",
    "    fc_no_translate = fc_tests[0].return_value[\"Accuracy\"]\n",
    "\n",
    "    cnn_translate = cnn_tests[1].return_value[\"Accuracy\"]\n",
    "    fc_translate = fc_tests[1].return_value[\"Accuracy\"]\n",
    "\n",
    "    if aug_cnn_tests is None:\n",
    "        ax.bar(\n",
    "            [0 - 0.25 / 2, 1 - 0.25 / 2],\n",
    "            [fc_no_translate * 100, fc_translate * 100],\n",
    "            width=0.25,\n",
    "            label=\"FC\",\n",
    "        )\n",
    "        ax.bar(\n",
    "            [0 + 0.25 / 2, 1 + 0.25 / 2],\n",
    "            [cnn_no_translate * 100, cnn_translate * 100],\n",
    "            width=0.25,\n",
    "            label=\"CNN\",\n",
    "        )\n",
    "        ax.set_xticks([0, 1])\n",
    "        ax.set_xticklabels([\"Original Test Data\", \"Translated Test Data\"])\n",
    "\n",
    "    else:\n",
    "        aug_cnn_no_translate = aug_cnn_tests[0].return_value[\"Accuracy\"]\n",
    "        aug_fc_no_translate = aug_fc_tests[0].return_value[\"Accuracy\"]\n",
    "\n",
    "        aug_cnn_translate = aug_cnn_tests[1].return_value[\"Accuracy\"]\n",
    "        aug_fc_translate = aug_fc_tests[1].return_value[\"Accuracy\"]\n",
    "\n",
    "        ax.bar(\n",
    "            [0 - 0.25 / 2, 1 - 0.25 / 2, 2 - 0.25 / 2],\n",
    "            [fc_no_translate * 100, fc_translate * 100, aug_fc_translate * 100],\n",
    "            width=0.25,\n",
    "            label=\"FC\",\n",
    "        )\n",
    "        ax.bar(\n",
    "            [0 + 0.25 / 2, 1 + 0.25 / 2, 2 + 0.25 / 2],\n",
    "            [cnn_no_translate * 100, cnn_translate * 100, aug_cnn_translate * 100],\n",
    "            width=0.25,\n",
    "            label=\"CNN\",\n",
    "        )\n",
    "\n",
    "        ax.set_xticks([0, 1, 2])\n",
    "        ax.set_xticklabels(\n",
    "            [\n",
    "                \"Original Test Data\",\n",
    "                \"Translated Test Data\",\n",
    "                \"Translated Test Data \\n with Augmentations\",\n",
    "            ],\n",
    "            rotation=30,\n",
    "        )\n",
    "\n",
    "    ax.set_ylabel(\"% Accuracy on Test Set\")\n",
    "    ax.legend()"
   ]
  },
  {
   "cell_type": "markdown",
   "id": "e4ae356e-8cd1-48d4-93fa-911bbdbf6483",
   "metadata": {},
   "source": [
    "## hydra-zen Configurations\n",
    "\n",
    "In this section, we use hydra-zen (https://github.com/mit-ll-responsible-ai/hydra-zen) to create configurations for the datasets, models, and training that will be used in the experiments in this notebook.\n",
    "\n",
    "In a nutshell, hydra-zen is a Python library that simplifies the process of writing code (research-grade or production-grade) that is:\n",
    "\n",
    "  - **Configurable**: you can configure all aspects of your code from a single interface (the command line or a single Python function).\n",
    "  - **Repeatable**: each run of your code will be self-documenting; the full configuration of your software is saved alongside your results.\n",
    "  - **Scalable**: launch multiple runs of your software, be it on your local machine or across multiple nodes on a cluster.\n",
    "\n",
    "hydra-zen builds off--and is fully compatible with--Hydra (https://hydra.cc/), a framework for elegantly configuring complex applications."
   ]
  },
  {
   "cell_type": "markdown",
   "id": "18b6d782-6580-4a53-ad09-7bd9938140cf",
   "metadata": {},
   "source": [
    "### Dataset\n",
    "\n",
    "We use the standard PyTorch location for datasets in `HOME/.torch/data`. We also use the standard training and test splits for MNIST as provided by `torchvision.datasets.MNIST`."
   ]
  },
  {
   "cell_type": "code",
   "execution_count": 10,
   "id": "eae48a3a-6ac9-4da3-a5b9-8a31b48d8126",
   "metadata": {},
   "outputs": [
    {
     "data": {
      "text/plain": [
       "<matplotlib.image.AxesImage at 0x7f6d55fa8280>"
      ]
     },
     "execution_count": 10,
     "metadata": {},
     "output_type": "execute_result"
    },
    {
     "data": {
      "image/png": "[encoded data removed]",
      "text/plain": [
       "<Figure size 432x288 with 2 Axes>"
      ]
     },
     "metadata": {},
     "output_type": "display_data"
    }
   ],
   "source": [
    "DATA_DIR = Path.home() / \".torch\" / \"data\"\n",
    "ToTensor = builds(transforms.ToTensor)\n",
    "Dataset = builds(datasets.MNIST, root=DATA_DIR, train=True, transform=ToTensor)\n",
    "TestDataset = builds(datasets.MNIST, root=DATA_DIR, train=False, transform=ToTensor)\n",
    "\n",
    "\n",
    "# Test\n",
    "dataset = instantiate(Dataset)\n",
    "X, Y = dataset[0]\n",
    "Xt = translate_perturbation(X, 0.3)\n",
    "\n",
    "fig, ax = plt.subplots(ncols=2, subplot_kw=dict(xticks=[], yticks=[]))\n",
    "ax[0].imshow(X[0])\n",
    "\n",
    "ax[1].imshow(Xt[0])"
   ]
  },
  {
   "cell_type": "markdown",
   "id": "414bfbc8-c812-4eee-95b2-58187d620946",
   "metadata": {},
   "source": [
    "### Models"
   ]
  },
  {
   "cell_type": "code",
   "execution_count": 11,
   "id": "480d0e35-9e05-4b87-b66f-cd6ca361fb02",
   "metadata": {},
   "outputs": [],
   "source": [
    "_ConvModelCfg = builds(ConvModel)\n",
    "_LinearModelCfg = builds(LinearModel)\n",
    "\n",
    "ConvModelCfg = make_config(ckpt=None, nn=_ConvModelCfg)\n",
    "\n",
    "LinearModelCfg = make_config(ckpt=None, nn=_LinearModelCfg)\n",
    "\n",
    "# Test\n",
    "dataset = instantiate(Dataset)\n",
    "cnn = instantiate(ConvModelCfg)\n",
    "fc = instantiate(LinearModelCfg)\n",
    "\n",
    "X, Y = dataset[0]\n",
    "assert cnn.nn(X[None]).shape == (1, 10)\n",
    "assert fc.nn(X[None]).shape == (1, 10)"
   ]
  },
  {
   "cell_type": "markdown",
   "id": "0c44c9c3-277f-41c3-9b55-fa113c7d2267",
   "metadata": {},
   "source": [
    "### Training and Testing Functions"
   ]
  },
  {
   "cell_type": "code",
   "execution_count": 12,
   "id": "bf86cf4a-a672-4deb-9c81-09805bd94074",
   "metadata": {},
   "outputs": [],
   "source": [
    "Trainer = builds(\n",
    "    train_model,\n",
    "    populate_full_signature=True,\n",
    "    train_dataset=Dataset,\n",
    "    epsilon=\"${epsilon}\",\n",
    "    zen_partial=True,\n",
    ")\n",
    "\n",
    "Tester = builds(\n",
    "    test_model,\n",
    "    test_dataset=TestDataset,\n",
    "    epsilon=\"${epsilon}\",\n",
    "    populate_full_signature=True,\n",
    "    zen_partial=True,\n",
    ")"
   ]
  },
  {
   "cell_type": "markdown",
   "id": "48736397-a917-40fd-b6a5-060e4651f596",
   "metadata": {},
   "source": [
    "### Make Swappable Configurations\n",
    "\n",
    "We use Hydra's `ConfigStore` API to store configurations so that we can swap specific configurations from the command line.  Here we store the the two model configs so that we can easily swap training and testing with the CNN or the FC model."
   ]
  },
  {
   "cell_type": "code",
   "execution_count": 13,
   "id": "e953c620-d43a-47cb-a679-af47477b923d",
   "metadata": {},
   "outputs": [],
   "source": [
    "cs = ConfigStore.instance()\n",
    "cs.store(name=\"cnn\", group=\"model\", node=ConvModelCfg)\n",
    "cs.store(name=\"fc\", group=\"model\", node=LinearModelCfg)"
   ]
  },
  {
   "cell_type": "markdown",
   "id": "672040c9-63a3-4e21-a74c-cc61d0c56c23",
   "metadata": {},
   "source": [
    "### Main Config\n",
    "\n",
    "This is the main configuration for running experiments. The `defaults` parameters defines the configurations we plan to swap while providing a default value.  Here the default value is to train with the fully connected network, \"fc\", as defined in the `ConfigStore` above."
   ]
  },
  {
   "cell_type": "code",
   "execution_count": 14,
   "id": "1b1a9b66-e8bd-45d6-a3a4-b5c925cc4205",
   "metadata": {},
   "outputs": [],
   "source": [
    "Config = make_config(\n",
    "    defaults=[\"_self_\", {\"model\": \"fc\"}],\n",
    "    epsilon=0.0,\n",
    "    model=MISSING,\n",
    "    trainer=Trainer,\n",
    "    tester=Tester,\n",
    ")\n",
    "\n",
    "# store the main config in the ConfigStore\n",
    "cs.store(name=\"notebook_config\", node=Config)"
   ]
  },
  {
   "cell_type": "markdown",
   "id": "91b4c033-71ff-4215-a64c-da38324d28da",
   "metadata": {},
   "source": [
    "## Train Models\n",
    "\n",
    "Here we define a training task for the CNN and FC models using a single GPU.  We take advantage of Hydra's `multirun` capability to automatically launch jobs for a given list of configuration overrides, e.g. `model=cnn,fc`.  The output is a class containing configurations of the each job and the return value provided by the task function below."
   ]
  },
  {
   "cell_type": "code",
   "execution_count": 15,
   "id": "e71b6232-c42c-4c94-9f13-fb79197a3c35",
   "metadata": {},
   "outputs": [],
   "source": [
    "def train_task_fn(cfg):\n",
    "    # important to set seed BEFORE instantiating any objects\n",
    "    set_seed(42)\n",
    "\n",
    "    # recursively instantiates all configurations\n",
    "    obj = instantiate(cfg)\n",
    "    return obj.trainer(obj.model)"
   ]
  },
  {
   "cell_type": "code",
   "execution_count": 16,
   "id": "fa037066-39bc-43ab-b118-b15003910eca",
   "metadata": {},
   "outputs": [
    {
     "name": "stdout",
     "output_type": "stream",
     "text": [
      "[2022-04-28 14:13:04,246][HYDRA] Launching 2 jobs locally\n",
      "[2022-04-28 14:13:04,246][HYDRA] \t#0 : model=cnn trainer.device=cuda\n"
     ]
    },
    {
     "data": {
      "application/vnd.jupyter.widget-view+json": {
       "model_id": "2f134a3dbf194277b679f1a6859c11e8",
       "version_major": 2,
       "version_minor": 0
      },
      "text/plain": [
       "  0%|          | 0/10 [00:00<?, ?it/s]"
      ]
     },
     "metadata": {},
     "output_type": "display_data"
    },
    {
     "name": "stdout",
     "output_type": "stream",
     "text": [
      "[2022-04-28 14:13:27,256][HYDRA] \t#1 : model=fc trainer.device=cuda\n"
     ]
    },
    {
     "data": {
      "application/vnd.jupyter.widget-view+json": {
       "model_id": "26eba5222ae546b3b066445fef5bf770",
       "version_major": 2,
       "version_minor": 0
      },
      "text/plain": [
       "  0%|          | 0/10 [00:00<?, ?it/s]"
      ]
     },
     "metadata": {},
     "output_type": "display_data"
    }
   ],
   "source": [
    "(training_jobs,) = launch(\n",
    "    Config,\n",
    "    train_task_fn,\n",
    "    overrides=[\"model=cnn,fc\", \"trainer.device=cuda\"],\n",
    "    multirun=True,\n",
    ")"
   ]
  },
  {
   "cell_type": "markdown",
   "id": "b0636408-1b09-4242-9dfc-527ae6bc5615",
   "metadata": {},
   "source": [
    "Now that we have trained models lets create new configs that contain the model checkpoints so we can easily use them in our robustness experiments below."
   ]
  },
  {
   "cell_type": "code",
   "execution_count": 17,
   "id": "de6b5e19-0f6b-4465-adf7-e917201303c4",
   "metadata": {},
   "outputs": [],
   "source": [
    "TrainedConvModelCfg = make_config(\n",
    "    ckpt=Path(training_jobs[0].working_dir).absolute() / \"model.ckpt\",\n",
    "    nn=_ConvModelCfg,\n",
    "    hydra_convert=\"all\",\n",
    ")\n",
    "TrainedLinearModelCfg = make_config(\n",
    "    ckpt=Path(training_jobs[1].working_dir).absolute() / \"model.ckpt\",\n",
    "    nn=_LinearModelCfg,\n",
    "    hydra_convert=\"all\",\n",
    ")\n",
    "\n",
    "cs.store(name=\"trained_cnn\", group=\"model\", node=TrainedConvModelCfg)\n",
    "cs.store(name=\"trained_fc\", group=\"model\", node=TrainedLinearModelCfg)"
   ]
  },
  {
   "cell_type": "markdown",
   "id": "8676172c-b232-4e0b-ae49-9e139f6fdbc4",
   "metadata": {},
   "source": [
    "## Test Models\n",
    "\n",
    "Define the testing task and evalulate the models for varying levels of translation of the image."
   ]
  },
  {
   "cell_type": "code",
   "execution_count": 18,
   "id": "917524b8-5649-47c6-9070-60a3b9f6bb70",
   "metadata": {},
   "outputs": [],
   "source": [
    "def testing_task_fn(cfg):\n",
    "    set_seed(42)\n",
    "    obj = instantiate(cfg)\n",
    "    return obj.tester(obj.model)"
   ]
  },
  {
   "cell_type": "code",
   "execution_count": 19,
   "id": "535f00aa-6974-4e7a-b06d-19855736ca1b",
   "metadata": {},
   "outputs": [
    {
     "name": "stdout",
     "output_type": "stream",
     "text": [
      "[2022-04-28 14:13:42,678][HYDRA] Launching 2 jobs locally\n",
      "[2022-04-28 14:13:42,679][HYDRA] \t#0 : model=trained_cnn epsilon=0\n",
      "[2022-04-28 14:13:43,498][HYDRA] \t#1 : model=trained_cnn epsilon=0.2\n",
      "[2022-04-28 14:13:44,766][HYDRA] Launching 2 jobs locally\n",
      "[2022-04-28 14:13:44,767][HYDRA] \t#0 : model=trained_fc epsilon=0\n",
      "[2022-04-28 14:13:45,588][HYDRA] \t#1 : model=trained_fc epsilon=0.2\n"
     ]
    },
    {
     "data": {
      "image/png": "[encoded data removed]",
      "text/plain": [
       "<Figure size 432x288 with 1 Axes>"
      ]
     },
     "metadata": {
      "needs_background": "light"
     },
     "output_type": "display_data"
    }
   ],
   "source": [
    "(cnn_tests,) = launch(\n",
    "    Config,\n",
    "    testing_task_fn,\n",
    "    overrides=[\"model=trained_cnn\", \"epsilon=0,0.2\"],\n",
    "    multirun=True,\n",
    ")\n",
    "\n",
    "(fc_tests,) = launch(\n",
    "    Config,\n",
    "    testing_task_fn,\n",
    "    overrides=[\"model=trained_fc\", \"epsilon=0,0.2\"],\n",
    "    multirun=True,\n",
    ")\n",
    "\n",
    "bar_chart(cnn_tests, fc_tests)"
   ]
  },
  {
   "cell_type": "markdown",
   "id": "8b473743-23b7-4c94-aa06-28828c63a815",
   "metadata": {},
   "source": [
    "Here we introduce a specialized task, `rai_toolbox.mushin.workflows.RobustnessCurve`. This task allows us to launch jobs to create robustness curves, provide a [xarray.Dataset](https://docs.xarray.dev/en/stable/index.html) of the metrics, and a method to `plot` the curve."
   ]
  },
  {
   "cell_type": "code",
   "execution_count": 20,
   "id": "2f17d636-891e-452a-8989-a141c196efd3",
   "metadata": {},
   "outputs": [],
   "source": [
    "class TranslationRobustness(RobustnessCurve):\n",
    "    @staticmethod\n",
    "    def evaluation_task(model, tester) -> torch.Tensor:\n",
    "        set_seed(42)\n",
    "        return tester(model)"
   ]
  },
  {
   "cell_type": "markdown",
   "id": "8f0ab1aa-2d5a-43dd-bec3-4cbfb1766d22",
   "metadata": {},
   "source": [
    "First lets demonstrate executing this function on a single model to see how to initiate the task, execute `run`, and `plot` the results."
   ]
  },
  {
   "cell_type": "code",
   "execution_count": 21,
   "id": "81729575-0c69-4c6c-a35c-144b1b811640",
   "metadata": {},
   "outputs": [
    {
     "name": "stdout",
     "output_type": "stream",
     "text": [
      "[2022-04-28 14:13:47,635][HYDRA] Launching 10 jobs locally\n",
      "[2022-04-28 14:13:47,636][HYDRA] \t#0 : epsilon=0.0 model=trained_cnn\n",
      "[2022-04-28 14:13:48,407][HYDRA] \t#1 : epsilon=0.1 model=trained_cnn\n",
      "[2022-04-28 14:13:49,353][HYDRA] \t#2 : epsilon=0.2 model=trained_cnn\n",
      "[2022-04-28 14:13:50,278][HYDRA] \t#3 : epsilon=0.3 model=trained_cnn\n",
      "[2022-04-28 14:13:51,220][HYDRA] \t#4 : epsilon=0.4 model=trained_cnn\n",
      "[2022-04-28 14:13:52,165][HYDRA] \t#5 : epsilon=0.5 model=trained_cnn\n",
      "[2022-04-28 14:13:53,048][HYDRA] \t#6 : epsilon=0.6 model=trained_cnn\n",
      "[2022-04-28 14:13:53,977][HYDRA] \t#7 : epsilon=0.7000000000000001 model=trained_cnn\n",
      "[2022-04-28 14:13:54,833][HYDRA] \t#8 : epsilon=0.8 model=trained_cnn\n",
      "[2022-04-28 14:13:55,718][HYDRA] \t#9 : epsilon=0.9 model=trained_cnn\n"
     ]
    }
   ],
   "source": [
    "task = TranslationRobustness(Config)\n",
    "task.run(epsilon=\"range(0, 1, 0.1)\", model=\"trained_cnn\")"
   ]
  },
  {
   "cell_type": "code",
   "execution_count": 22,
   "id": "83a13144-8191-48fb-b8f8-3d38a62197dd",
   "metadata": {},
   "outputs": [
    {
     "data": {
      "text/plain": [
       "[<matplotlib.lines.Line2D at 0x7f6d52df6700>]"
      ]
     },
     "execution_count": 22,
     "metadata": {},
     "output_type": "execute_result"
    },
    {
     "data": {
      "image/png": "[encoded data removed]",
      "text/plain": [
       "<Figure size 432x288 with 1 Axes>"
      ]
     },
     "metadata": {
      "needs_background": "light"
     },
     "output_type": "display_data"
    }
   ],
   "source": [
    "fig, ax = plt.subplots()\n",
    "task.plot(\"Accuracy\", ax=ax)"
   ]
  },
  {
   "cell_type": "markdown",
   "id": "2b2675d5-148f-40ad-bfb1-9ab14c3d1047",
   "metadata": {},
   "source": [
    "We can also convert the task data to an [xarray.Dataset](https://docs.xarray.dev/en/stable/index.html).  This will be useful when we produce results across multiple experiments."
   ]
  },
  {
   "cell_type": "markdown",
   "id": "4f8a1edb-f86a-42d9-b6ba-fcc47e7dc623",
   "metadata": {},
   "source": [
    "Now, instead of executing the task per model, we can take advantage of `multirun` to get the curve metrics for each of our trained models.  Here our task function returns a `xarray.Dataset`."
   ]
  },
  {
   "cell_type": "code",
   "execution_count": 23,
   "id": "5aa5d919-fa46-43da-a453-81d834268120",
   "metadata": {},
   "outputs": [
    {
     "name": "stdout",
     "output_type": "stream",
     "text": [
      "[2022-04-28 14:13:58,336][HYDRA] Launching 20 jobs locally\n",
      "[2022-04-28 14:13:58,336][HYDRA] \t#0 : epsilon=0.0 model=trained_fc\n",
      "[2022-04-28 14:13:59,195][HYDRA] \t#1 : epsilon=0.0 model=trained_cnn\n",
      "[2022-04-28 14:13:59,978][HYDRA] \t#2 : epsilon=0.1 model=trained_fc\n",
      "[2022-04-28 14:14:00,672][HYDRA] \t#3 : epsilon=0.1 model=trained_cnn\n",
      "[2022-04-28 14:14:01,643][HYDRA] \t#4 : epsilon=0.2 model=trained_fc\n",
      "[2022-04-28 14:14:02,358][HYDRA] \t#5 : epsilon=0.2 model=trained_cnn\n",
      "[2022-04-28 14:14:03,260][HYDRA] \t#6 : epsilon=0.3 model=trained_fc\n",
      "[2022-04-28 14:14:03,984][HYDRA] \t#7 : epsilon=0.3 model=trained_cnn\n",
      "[2022-04-28 14:14:04,830][HYDRA] \t#8 : epsilon=0.4 model=trained_fc\n",
      "[2022-04-28 14:14:05,552][HYDRA] \t#9 : epsilon=0.4 model=trained_cnn\n",
      "[2022-04-28 14:14:06,483][HYDRA] \t#10 : epsilon=0.5 model=trained_fc\n",
      "[2022-04-28 14:14:07,227][HYDRA] \t#11 : epsilon=0.5 model=trained_cnn\n",
      "[2022-04-28 14:14:08,165][HYDRA] \t#12 : epsilon=0.6 model=trained_fc\n",
      "[2022-04-28 14:14:08,866][HYDRA] \t#13 : epsilon=0.6 model=trained_cnn\n",
      "[2022-04-28 14:14:09,733][HYDRA] \t#14 : epsilon=0.7000000000000001 model=trained_fc\n",
      "[2022-04-28 14:14:10,489][HYDRA] \t#15 : epsilon=0.7000000000000001 model=trained_cnn\n",
      "[2022-04-28 14:14:11,434][HYDRA] \t#16 : epsilon=0.8 model=trained_fc\n",
      "[2022-04-28 14:14:12,230][HYDRA] \t#17 : epsilon=0.8 model=trained_cnn\n",
      "[2022-04-28 14:14:13,107][HYDRA] \t#18 : epsilon=0.9 model=trained_fc\n",
      "[2022-04-28 14:14:13,829][HYDRA] \t#19 : epsilon=0.9 model=trained_cnn\n"
     ]
    },
    {
     "data": {
      "text/plain": [
       "[[<matplotlib.lines.Line2D at 0x7f6d5247ad30>],\n",
       " [<matplotlib.lines.Line2D at 0x7f6d5247a670>]]"
      ]
     },
     "execution_count": 23,
     "metadata": {},
     "output_type": "execute_result"
    },
    {
     "data": {
      "image/png": "[encoded data removed]",
      "text/plain": [
       "<Figure size 432x288 with 1 Axes>"
      ]
     },
     "metadata": {
      "needs_background": "light"
     },
     "output_type": "display_data"
    }
   ],
   "source": [
    "task = TranslationRobustness(Config)\n",
    "task.run(epsilon=\"range(0,1,0.1)\", model=\"trained_fc,trained_cnn\")\n",
    "\n",
    "fig, ax = plt.subplots()\n",
    "task.plot(\"Accuracy\", ax=ax, group=\"model\")"
   ]
  },
  {
   "cell_type": "code",
   "execution_count": 24,
   "id": "1e503b22-e97c-4ac9-885e-edbd3e8938aa",
   "metadata": {},
   "outputs": [
    {
     "data": {
      "text/plain": [
       "<matplotlib.legend.Legend at 0x7f6d526f1070>"
      ]
     },
     "execution_count": 24,
     "metadata": {},
     "output_type": "execute_result"
    },
    {
     "data": {
      "image/png": "[encoded data removed]",
      "text/plain": [
       "<Figure size 432x288 with 1 Axes>"
      ]
     },
     "metadata": {
      "needs_background": "light"
     },
     "output_type": "display_data"
    }
   ],
   "source": [
    "xdata = task.to_xarray()\n",
    "fig, ax = plt.subplots()\n",
    "for name, g in xdata.groupby(\"model\"):\n",
    "    for k in g.data_vars:\n",
    "        g[k].plot.line(x=\"epsilon\", ax=ax, label=name)\n",
    "plt.legend()"
   ]
  },
  {
   "cell_type": "markdown",
   "id": "a295717f-8912-4407-8d1f-706b5bdaed95",
   "metadata": {},
   "source": [
    "Take-Aways:\n",
    "\n",
    "- Domain Knowledge: CNNs model translation equivariance into the model, an inductive bias based on domain knowledge.\n",
    "- Robustness: CNNs are more robust to unseen translations than a linear network.\n",
    "- Complexity: CNNs are less complex (less parameters) than linear networks.\n",
    "- Sample Efficient: CNNs acheive top performance metrics with less data."
   ]
  },
  {
   "cell_type": "markdown",
   "id": "220b4cb2-19ef-40b9-9978-515bbf4c8256",
   "metadata": {},
   "source": [
    "## Data Augmentations\n",
    "\n",
    "While we showed that the convolution property of translation equivariance leads to more robust models, we still saw a drop in performance. What if we also augment the dataset with some random translation and train both the CNN and FC models. Here we train with an random translation parameter $\\epsilon = 0.2$"
   ]
  },
  {
   "cell_type": "code",
   "execution_count": 25,
   "id": "e5ade594-c34f-40c5-b444-372091d1d182",
   "metadata": {},
   "outputs": [
    {
     "name": "stdout",
     "output_type": "stream",
     "text": [
      "[2022-04-28 14:14:16,298][HYDRA] Launching 2 jobs locally\n",
      "[2022-04-28 14:14:16,299][HYDRA] \t#0 : model=cnn trainer.device=cuda epsilon=0.2\n"
     ]
    },
    {
     "data": {
      "application/vnd.jupyter.widget-view+json": {
       "model_id": "0af505b6ea3f4c47854435a8c82092d8",
       "version_major": 2,
       "version_minor": 0
      },
      "text/plain": [
       "  0%|          | 0/10 [00:00<?, ?it/s]"
      ]
     },
     "metadata": {},
     "output_type": "display_data"
    },
    {
     "name": "stdout",
     "output_type": "stream",
     "text": [
      "[2022-04-28 14:14:40,165][HYDRA] \t#1 : model=fc trainer.device=cuda epsilon=0.2\n"
     ]
    },
    {
     "data": {
      "application/vnd.jupyter.widget-view+json": {
       "model_id": "67f49a6bffa04a869d170f8137705e6f",
       "version_major": 2,
       "version_minor": 0
      },
      "text/plain": [
       "  0%|          | 0/10 [00:00<?, ?it/s]"
      ]
     },
     "metadata": {},
     "output_type": "display_data"
    }
   ],
   "source": [
    "(aug_training_jobs,) = launch(\n",
    "    Config,\n",
    "    train_task_fn,\n",
    "    overrides=[\"model=cnn,fc\", \"trainer.device=cuda\", \"epsilon=0.2\"],\n",
    "    multirun=True,\n",
    ")"
   ]
  },
  {
   "cell_type": "markdown",
   "id": "75cbaeac-e63b-4ebf-848b-68aef594262c",
   "metadata": {},
   "source": [
    "As we did above, create new configs with the checkpoint stored for experimentation."
   ]
  },
  {
   "cell_type": "code",
   "execution_count": 26,
   "id": "955c37e3-b895-4a50-8f9e-f1bc2b68eca1",
   "metadata": {},
   "outputs": [],
   "source": [
    "AugTrainedConvModelCfg = make_config(\n",
    "    ckpt=Path(aug_training_jobs[0].working_dir).absolute() / \"model.ckpt\",\n",
    "    nn=_ConvModelCfg,\n",
    "    hydra_convert=\"all\",\n",
    ")\n",
    "AugTrainedLinearModelCfg = make_config(\n",
    "    ckpt=Path(aug_training_jobs[1].working_dir).absolute() / \"model.ckpt\",\n",
    "    nn=_LinearModelCfg,\n",
    "    hydra_convert=\"all\",\n",
    ")\n",
    "\n",
    "cs.store(name=\"aug_trained_cnn\", group=\"model\", node=AugTrainedConvModelCfg)\n",
    "cs.store(name=\"aug_trained_fc\", group=\"model\", node=AugTrainedLinearModelCfg)"
   ]
  },
  {
   "cell_type": "markdown",
   "id": "cd609d01-e8a1-4a0d-a82e-4bee0c7fb7a3",
   "metadata": {},
   "source": [
    "First lets update the bar chart for an easy comparison."
   ]
  },
  {
   "cell_type": "code",
   "execution_count": 27,
   "id": "d61f59bf-2ad5-4d6d-b66f-66f048a033fc",
   "metadata": {},
   "outputs": [
    {
     "name": "stdout",
     "output_type": "stream",
     "text": [
      "[2022-04-28 14:14:59,271][HYDRA] Launching 2 jobs locally\n",
      "[2022-04-28 14:14:59,272][HYDRA] \t#0 : model=aug_trained_cnn epsilon=0\n",
      "[2022-04-28 14:15:00,196][HYDRA] \t#1 : model=aug_trained_cnn epsilon=0.2\n",
      "[2022-04-28 14:15:01,559][HYDRA] Launching 2 jobs locally\n",
      "[2022-04-28 14:15:01,560][HYDRA] \t#0 : model=aug_trained_fc epsilon=0\n",
      "[2022-04-28 14:15:02,338][HYDRA] \t#1 : model=aug_trained_fc epsilon=0.2\n"
     ]
    },
    {
     "data": {
      "image/png": "[encoded data removed]",
      "text/plain": [
       "<Figure size 432x288 with 1 Axes>"
      ]
     },
     "metadata": {
      "needs_background": "light"
     },
     "output_type": "display_data"
    }
   ],
   "source": [
    "(aug_cnn_tests,) = launch(\n",
    "    Config,\n",
    "    testing_task_fn,\n",
    "    overrides=[\"model=aug_trained_cnn\", \"epsilon=0,0.2\",],\n",
    "    multirun=True,\n",
    ")\n",
    "\n",
    "(aug_fc_tests,) = launch(\n",
    "    Config,\n",
    "    testing_task_fn,\n",
    "    overrides=[\"model=aug_trained_fc\", \"epsilon=0,0.2\",],\n",
    "    multirun=True,\n",
    ")\n",
    "\n",
    "bar_chart(cnn_tests, fc_tests, aug_cnn_tests, aug_fc_tests)"
   ]
  },
  {
   "cell_type": "markdown",
   "id": "3a9a9607-b42f-4132-bbc4-6aff238643ff",
   "metadata": {},
   "source": [
    "Now generate the robustness curves for the new models."
   ]
  },
  {
   "cell_type": "code",
   "execution_count": 28,
   "id": "1fb155bc-9ba1-487d-be74-9b981236125e",
   "metadata": {},
   "outputs": [
    {
     "name": "stdout",
     "output_type": "stream",
     "text": [
      "[2022-04-28 14:15:04,844][HYDRA] Launching 20 jobs locally\n",
      "[2022-04-28 14:15:04,844][HYDRA] \t#0 : epsilon=0.0 model=aug_trained_fc\n",
      "[2022-04-28 14:15:05,574][HYDRA] \t#1 : epsilon=0.0 model=aug_trained_cnn\n",
      "[2022-04-28 14:15:06,411][HYDRA] \t#2 : epsilon=0.1 model=aug_trained_fc\n",
      "[2022-04-28 14:15:07,187][HYDRA] \t#3 : epsilon=0.1 model=aug_trained_cnn\n",
      "[2022-04-28 14:15:08,196][HYDRA] \t#4 : epsilon=0.2 model=aug_trained_fc\n",
      "[2022-04-28 14:15:08,923][HYDRA] \t#5 : epsilon=0.2 model=aug_trained_cnn\n",
      "[2022-04-28 14:15:09,885][HYDRA] \t#6 : epsilon=0.3 model=aug_trained_fc\n",
      "[2022-04-28 14:15:10,648][HYDRA] \t#7 : epsilon=0.3 model=aug_trained_cnn\n",
      "[2022-04-28 14:15:11,730][HYDRA] \t#8 : epsilon=0.4 model=aug_trained_fc\n",
      "[2022-04-28 14:15:12,542][HYDRA] \t#9 : epsilon=0.4 model=aug_trained_cnn\n",
      "[2022-04-28 14:15:13,415][HYDRA] \t#10 : epsilon=0.5 model=aug_trained_fc\n",
      "[2022-04-28 14:15:14,188][HYDRA] \t#11 : epsilon=0.5 model=aug_trained_cnn\n",
      "[2022-04-28 14:15:15,190][HYDRA] \t#12 : epsilon=0.6 model=aug_trained_fc\n",
      "[2022-04-28 14:15:15,895][HYDRA] \t#13 : epsilon=0.6 model=aug_trained_cnn\n",
      "[2022-04-28 14:15:16,836][HYDRA] \t#14 : epsilon=0.7000000000000001 model=aug_trained_fc\n",
      "[2022-04-28 14:15:17,588][HYDRA] \t#15 : epsilon=0.7000000000000001 model=aug_trained_cnn\n",
      "[2022-04-28 14:15:18,525][HYDRA] \t#16 : epsilon=0.8 model=aug_trained_fc\n",
      "[2022-04-28 14:15:19,301][HYDRA] \t#17 : epsilon=0.8 model=aug_trained_cnn\n",
      "[2022-04-28 14:15:20,230][HYDRA] \t#18 : epsilon=0.9 model=aug_trained_fc\n",
      "[2022-04-28 14:15:20,970][HYDRA] \t#19 : epsilon=0.9 model=aug_trained_cnn\n"
     ]
    },
    {
     "data": {
      "text/plain": [
       "[[<matplotlib.lines.Line2D at 0x7f6d52741d00>],\n",
       " [<matplotlib.lines.Line2D at 0x7f6d5289c0a0>]]"
      ]
     },
     "execution_count": 28,
     "metadata": {},
     "output_type": "execute_result"
    },
    {
     "data": {
      "image/png": "[encoded data removed]",
      "text/plain": [
       "<Figure size 432x288 with 1 Axes>"
      ]
     },
     "metadata": {
      "needs_background": "light"
     },
     "output_type": "display_data"
    }
   ],
   "source": [
    "task_aug = TranslationRobustness(Config)\n",
    "task_aug.run(epsilon=\"range(0,1,0.1)\", model=\"aug_trained_fc,aug_trained_cnn\")\n",
    "\n",
    "fig, ax = plt.subplots()\n",
    "task_aug.plot(\"Accuracy\", ax=ax, group=\"model\")"
   ]
  },
  {
   "cell_type": "code",
   "execution_count": 29,
   "id": "d2c51a00-9c6a-4ead-9d5e-039e9d590108",
   "metadata": {},
   "outputs": [
    {
     "data": {
      "text/html": [
       "<div><svg style=\"position: absolute; width: 0; height: 0; overflow: hidden\">\n",
       "<defs>\n",
       "<symbol id=\"icon-database\" viewBox=\"0 0 32 32\">\n",
       "<path d=\"M16 0c-8.837 0-16 2.239-16 5v4c0 2.761 7.163 5 16 5s16-2.239 16-5v-4c0-2.761-7.163-5-16-5z\"></path>\n",
       "<path d=\"M16 17c-8.837 0-16-2.239-16-5v6c0 2.761 7.163 5 16 5s16-2.239 16-5v-6c0 2.761-7.163 5-16 5z\"></path>\n",
       "<path d=\"M16 26c-8.837 0-16-2.239-16-5v6c0 2.761 7.163 5 16 5s16-2.239 16-5v-6c0 2.761-7.163 5-16 5z\"></path>\n",
       "</symbol>\n",
       "<symbol id=\"icon-file-text2\" viewBox=\"0 0 32 32\">\n",
       "<path d=\"M28.681 7.159c-0.694-0.947-1.662-2.053-2.724-3.116s-2.169-2.030-3.116-2.724c-1.612-1.182-2.393-1.319-2.841-1.319h-15.5c-1.378 0-2.5 1.121-2.5 2.5v27c0 1.378 1.122 2.5 2.5 2.5h23c1.378 0 2.5-1.122 2.5-2.5v-19.5c0-0.448-0.137-1.23-1.319-2.841zM24.543 5.457c0.959 0.959 1.712 1.825 2.268 2.543h-4.811v-4.811c0.718 0.556 1.584 1.309 2.543 2.268zM28 29.5c0 0.271-0.229 0.5-0.5 0.5h-23c-0.271 0-0.5-0.229-0.5-0.5v-27c0-0.271 0.229-0.5 0.5-0.5 0 0 15.499-0 15.5 0v7c0 0.552 0.448 1 1 1h7v19.5z\"></path>\n",
       "<path d=\"M23 26h-14c-0.552 0-1-0.448-1-1s0.448-1 1-1h14c0.552 0 1 0.448 1 1s-0.448 1-1 1z\"></path>\n",
       "<path d=\"M23 22h-14c-0.552 0-1-0.448-1-1s0.448-1 1-1h14c0.552 0 1 0.448 1 1s-0.448 1-1 1z\"></path>\n",
       "<path d=\"M23 18h-14c-0.552 0-1-0.448-1-1s0.448-1 1-1h14c0.552 0 1 0.448 1 1s-0.448 1-1 1z\"></path>\n",
       "</symbol>\n",
       "</defs>\n",
       "</svg>\n",
       "<style>/* CSS stylesheet for displaying xarray objects in jupyterlab.\n",
       " *\n",
       " */\n",
       "\n",
       ":root {\n",
       "  --xr-font-color0: var(--jp-content-font-color0, rgba(0, 0, 0, 1));\n",
       "  --xr-font-color2: var(--jp-content-font-color2, rgba(0, 0, 0, 0.54));\n",
       "  --xr-font-color3: var(--jp-content-font-color3, rgba(0, 0, 0, 0.38));\n",
       "  --xr-border-color: var(--jp-border-color2, #e0e0e0);\n",
       "  --xr-disabled-color: var(--jp-layout-color3, #bdbdbd);\n",
       "  --xr-background-color: var(--jp-layout-color0, white);\n",
       "  --xr-background-color-row-even: var(--jp-layout-color1, white);\n",
       "  --xr-background-color-row-odd: var(--jp-layout-color2, #eeeeee);\n",
       "}\n",
       "\n",
       "html[theme=dark],\n",
       "body.vscode-dark {\n",
       "  --xr-font-color0: rgba(255, 255, 255, 1);\n",
       "  --xr-font-color2: rgba(255, 255, 255, 0.54);\n",
       "  --xr-font-color3: rgba(255, 255, 255, 0.38);\n",
       "  --xr-border-color: #1F1F1F;\n",
       "  --xr-disabled-color: #515151;\n",
       "  --xr-background-color: #111111;\n",
       "  --xr-background-color-row-even: #111111;\n",
       "  --xr-background-color-row-odd: #313131;\n",
       "}\n",
       "\n",
       ".xr-wrap {\n",
       "  display: block !important;\n",
       "  min-width: 300px;\n",
       "  max-width: 700px;\n",
       "}\n",
       "\n",
       ".xr-text-repr-fallback {\n",
       "  /* fallback to plain text repr when CSS is not injected (untrusted notebook) */\n",
       "  display: none;\n",
       "}\n",
       "\n",
       ".xr-header {\n",
       "  padding-top: 6px;\n",
       "  padding-bottom: 6px;\n",
       "  margin-bottom: 4px;\n",
       "  border-bottom: solid 1px var(--xr-border-color);\n",
       "}\n",
       "\n",
       ".xr-header > div,\n",
       ".xr-header > ul {\n",
       "  display: inline;\n",
       "  margin-top: 0;\n",
       "  margin-bottom: 0;\n",
       "}\n",
       "\n",
       ".xr-obj-type,\n",
       ".xr-array-name {\n",
       "  margin-left: 2px;\n",
       "  margin-right: 10px;\n",
       "}\n",
       "\n",
       ".xr-obj-type {\n",
       "  color: var(--xr-font-color2);\n",
       "}\n",
       "\n",
       ".xr-sections {\n",
       "  padding-left: 0 !important;\n",
       "  display: grid;\n",
       "  grid-template-columns: 150px auto auto 1fr 20px 20px;\n",
       "}\n",
       "\n",
       ".xr-section-item {\n",
       "  display: contents;\n",
       "}\n",
       "\n",
       ".xr-section-item input {\n",
       "  display: none;\n",
       "}\n",
       "\n",
       ".xr-section-item input + label {\n",
       "  color: var(--xr-disabled-color);\n",
       "}\n",
       "\n",
       ".xr-section-item input:enabled + label {\n",
       "  cursor: pointer;\n",
       "  color: var(--xr-font-color2);\n",
       "}\n",
       "\n",
       ".xr-section-item input:enabled + label:hover {\n",
       "  color: var(--xr-font-color0);\n",
       "}\n",
       "\n",
       ".xr-section-summary {\n",
       "  grid-column: 1;\n",
       "  color: var(--xr-font-color2);\n",
       "  font-weight: 500;\n",
       "}\n",
       "\n",
       ".xr-section-summary > span {\n",
       "  display: inline-block;\n",
       "  padding-left: 0.5em;\n",
       "}\n",
       "\n",
       ".xr-section-summary-in:disabled + label {\n",
       "  color: var(--xr-font-color2);\n",
       "}\n",
       "\n",
       ".xr-section-summary-in + label:before {\n",
       "  display: inline-block;\n",
       "  content: '►';\n",
       "  font-size: 11px;\n",
       "  width: 15px;\n",
       "  text-align: center;\n",
       "}\n",
       "\n",
       ".xr-section-summary-in:disabled + label:before {\n",
       "  color: var(--xr-disabled-color);\n",
       "}\n",
       "\n",
       ".xr-section-summary-in:checked + label:before {\n",
       "  content: '▼';\n",
       "}\n",
       "\n",
       ".xr-section-summary-in:checked + label > span {\n",
       "  display: none;\n",
       "}\n",
       "\n",
       ".xr-section-summary,\n",
       ".xr-section-inline-details {\n",
       "  padding-top: 4px;\n",
       "  padding-bottom: 4px;\n",
       "}\n",
       "\n",
       ".xr-section-inline-details {\n",
       "  grid-column: 2 / -1;\n",
       "}\n",
       "\n",
       ".xr-section-details {\n",
       "  display: none;\n",
       "  grid-column: 1 / -1;\n",
       "  margin-bottom: 5px;\n",
       "}\n",
       "\n",
       ".xr-section-summary-in:checked ~ .xr-section-details {\n",
       "  display: contents;\n",
       "}\n",
       "\n",
       ".xr-array-wrap {\n",
       "  grid-column: 1 / -1;\n",
       "  display: grid;\n",
       "  grid-template-columns: 20px auto;\n",
       "}\n",
       "\n",
       ".xr-array-wrap > label {\n",
       "  grid-column: 1;\n",
       "  vertical-align: top;\n",
       "}\n",
       "\n",
       ".xr-preview {\n",
       "  color: var(--xr-font-color3);\n",
       "}\n",
       "\n",
       ".xr-array-preview,\n",
       ".xr-array-data {\n",
       "  padding: 0 5px !important;\n",
       "  grid-column: 2;\n",
       "}\n",
       "\n",
       ".xr-array-data,\n",
       ".xr-array-in:checked ~ .xr-array-preview {\n",
       "  display: none;\n",
       "}\n",
       "\n",
       ".xr-array-in:checked ~ .xr-array-data,\n",
       ".xr-array-preview {\n",
       "  display: inline-block;\n",
       "}\n",
       "\n",
       ".xr-dim-list {\n",
       "  display: inline-block !important;\n",
       "  list-style: none;\n",
       "  padding: 0 !important;\n",
       "  margin: 0;\n",
       "}\n",
       "\n",
       ".xr-dim-list li {\n",
       "  display: inline-block;\n",
       "  padding: 0;\n",
       "  margin: 0;\n",
       "}\n",
       "\n",
       ".xr-dim-list:before {\n",
       "  content: '(';\n",
       "}\n",
       "\n",
       ".xr-dim-list:after {\n",
       "  content: ')';\n",
       "}\n",
       "\n",
       ".xr-dim-list li:not(:last-child):after {\n",
       "  content: ',';\n",
       "  padding-right: 5px;\n",
       "}\n",
       "\n",
       ".xr-has-index {\n",
       "  font-weight: bold;\n",
       "}\n",
       "\n",
       ".xr-var-list,\n",
       ".xr-var-item {\n",
       "  display: contents;\n",
       "}\n",
       "\n",
       ".xr-var-item > div,\n",
       ".xr-var-item label,\n",
       ".xr-var-item > .xr-var-name span {\n",
       "  background-color: var(--xr-background-color-row-even);\n",
       "  margin-bottom: 0;\n",
       "}\n",
       "\n",
       ".xr-var-item > .xr-var-name:hover span {\n",
       "  padding-right: 5px;\n",
       "}\n",
       "\n",
       ".xr-var-list > li:nth-child(odd) > div,\n",
       ".xr-var-list > li:nth-child(odd) > label,\n",
       ".xr-var-list > li:nth-child(odd) > .xr-var-name span {\n",
       "  background-color: var(--xr-background-color-row-odd);\n",
       "}\n",
       "\n",
       ".xr-var-name {\n",
       "  grid-column: 1;\n",
       "}\n",
       "\n",
       ".xr-var-dims {\n",
       "  grid-column: 2;\n",
       "}\n",
       "\n",
       ".xr-var-dtype {\n",
       "  grid-column: 3;\n",
       "  text-align: right;\n",
       "  color: var(--xr-font-color2);\n",
       "}\n",
       "\n",
       ".xr-var-preview {\n",
       "  grid-column: 4;\n",
       "}\n",
       "\n",
       ".xr-var-name,\n",
       ".xr-var-dims,\n",
       ".xr-var-dtype,\n",
       ".xr-preview,\n",
       ".xr-attrs dt {\n",
       "  white-space: nowrap;\n",
       "  overflow: hidden;\n",
       "  text-overflow: ellipsis;\n",
       "  padding-right: 10px;\n",
       "}\n",
       "\n",
       ".xr-var-name:hover,\n",
       ".xr-var-dims:hover,\n",
       ".xr-var-dtype:hover,\n",
       ".xr-attrs dt:hover {\n",
       "  overflow: visible;\n",
       "  width: auto;\n",
       "  z-index: 1;\n",
       "}\n",
       "\n",
       ".xr-var-attrs,\n",
       ".xr-var-data {\n",
       "  display: none;\n",
       "  background-color: var(--xr-background-color) !important;\n",
       "  padding-bottom: 5px !important;\n",
       "}\n",
       "\n",
       ".xr-var-attrs-in:checked ~ .xr-var-attrs,\n",
       ".xr-var-data-in:checked ~ .xr-var-data {\n",
       "  display: block;\n",
       "}\n",
       "\n",
       ".xr-var-data > table {\n",
       "  float: right;\n",
       "}\n",
       "\n",
       ".xr-var-name span,\n",
       ".xr-var-data,\n",
       ".xr-attrs {\n",
       "  padding-left: 25px !important;\n",
       "}\n",
       "\n",
       ".xr-attrs,\n",
       ".xr-var-attrs,\n",
       ".xr-var-data {\n",
       "  grid-column: 1 / -1;\n",
       "}\n",
       "\n",
       "dl.xr-attrs {\n",
       "  padding: 0;\n",
       "  margin: 0;\n",
       "  display: grid;\n",
       "  grid-template-columns: 125px auto;\n",
       "}\n",
       "\n",
       ".xr-attrs dt,\n",
       ".xr-attrs dd {\n",
       "  padding: 0;\n",
       "  margin: 0;\n",
       "  float: left;\n",
       "  padding-right: 10px;\n",
       "  width: auto;\n",
       "}\n",
       "\n",
       ".xr-attrs dt {\n",
       "  font-weight: normal;\n",
       "  grid-column: 1;\n",
       "}\n",
       "\n",
       ".xr-attrs dt:hover span {\n",
       "  display: inline-block;\n",
       "  background: var(--xr-background-color);\n",
       "  padding-right: 10px;\n",
       "}\n",
       "\n",
       ".xr-attrs dd {\n",
       "  grid-column: 2;\n",
       "  white-space: pre-wrap;\n",
       "  word-break: break-all;\n",
       "}\n",
       "\n",
       ".xr-icon-database,\n",
       ".xr-icon-file-text2 {\n",
       "  display: inline-block;\n",
       "  vertical-align: middle;\n",
       "  width: 1em;\n",
       "  height: 1.5em !important;\n",
       "  stroke-width: 0;\n",
       "  stroke: currentColor;\n",
       "  fill: currentColor;\n",
       "}\n",
       "</style><pre class='xr-text-repr-fallback'>&lt;xarray.Dataset&gt;\n",
       "Dimensions:   (x: 40)\n",
       "Coordinates:\n",
       "    epsilon   (x) float64 0.0 0.0 0.1 0.1 0.2 0.2 ... 0.7 0.7 0.8 0.8 0.9 0.9\n",
       "    model     (x) &lt;U15 &#x27;trained_fc&#x27; &#x27;trained_cnn&#x27; ... &#x27;aug_trained_cnn&#x27;\n",
       "Dimensions without coordinates: x\n",
       "Data variables:\n",
       "    Accuracy  (x) float64 0.9799 0.9915 0.7617 0.9645 ... 0.2971 0.1692 0.2467</pre><div class='xr-wrap' style='display:none'><div class='xr-header'><div class='xr-obj-type'>xarray.Dataset</div></div><ul class='xr-sections'><li class='xr-section-item'><input id='section-262598bb-8769-4bc8-8be9-3aa7ab331db1' class='xr-section-summary-in' type='checkbox' disabled ><label for='section-262598bb-8769-4bc8-8be9-3aa7ab331db1' class='xr-section-summary'  title='Expand/collapse section'>Dimensions:</label><div class='xr-section-inline-details'><ul class='xr-dim-list'><li><span>x</span>: 40</li></ul></div><div class='xr-section-details'></div></li><li class='xr-section-item'><input id='section-aa2cfc58-a173-44d3-8bc7-fc9ff9f682da' class='xr-section-summary-in' type='checkbox'  checked><label for='section-aa2cfc58-a173-44d3-8bc7-fc9ff9f682da' class='xr-section-summary' >Coordinates: <span>(2)</span></label><div class='xr-section-inline-details'></div><div class='xr-section-details'><ul class='xr-var-list'><li class='xr-var-item'><div class='xr-var-name'><span>epsilon</span></div><div class='xr-var-dims'>(x)</div><div class='xr-var-dtype'>float64</div><div class='xr-var-preview xr-preview'>0.0 0.0 0.1 0.1 ... 0.8 0.8 0.9 0.9</div><input id='attrs-da3367b4-0a1c-40de-b95b-113e1caf2d58' class='xr-var-attrs-in' type='checkbox' disabled><label for='attrs-da3367b4-0a1c-40de-b95b-113e1caf2d58' title='Show/Hide attributes'><svg class='icon xr-icon-file-text2'><use xlink:href='#icon-file-text2'></use></svg></label><input id='data-2c5ea83b-e0a3-4adc-8a5e-21ead1b8bd0a' class='xr-var-data-in' type='checkbox'><label for='data-2c5ea83b-e0a3-4adc-8a5e-21ead1b8bd0a' title='Show/Hide data repr'><svg class='icon xr-icon-database'><use xlink:href='#icon-database'></use></svg></label><div class='xr-var-attrs'><dl class='xr-attrs'></dl></div><div class='xr-var-data'><pre>array([0. , 0. , 0.1, 0.1, 0.2, 0.2, 0.3, 0.3, 0.4, 0.4, 0.5, 0.5, 0.6,\n",
       "       0.6, 0.7, 0.7, 0.8, 0.8, 0.9, 0.9, 0. , 0. , 0.1, 0.1, 0.2, 0.2,\n",
       "       0.3, 0.3, 0.4, 0.4, 0.5, 0.5, 0.6, 0.6, 0.7, 0.7, 0.8, 0.8, 0.9,\n",
       "       0.9])</pre></div></li><li class='xr-var-item'><div class='xr-var-name'><span>model</span></div><div class='xr-var-dims'>(x)</div><div class='xr-var-dtype'>&lt;U15</div><div class='xr-var-preview xr-preview'>&#x27;trained_fc&#x27; ... &#x27;aug_trained_cnn&#x27;</div><input id='attrs-3cc01806-e131-4bc5-9c0c-6019412c8186' class='xr-var-attrs-in' type='checkbox' disabled><label for='attrs-3cc01806-e131-4bc5-9c0c-6019412c8186' title='Show/Hide attributes'><svg class='icon xr-icon-file-text2'><use xlink:href='#icon-file-text2'></use></svg></label><input id='data-9b7d2657-ee90-4bbd-8eea-22320f7832cb' class='xr-var-data-in' type='checkbox'><label for='data-9b7d2657-ee90-4bbd-8eea-22320f7832cb' title='Show/Hide data repr'><svg class='icon xr-icon-database'><use xlink:href='#icon-database'></use></svg></label><div class='xr-var-attrs'><dl class='xr-attrs'></dl></div><div class='xr-var-data'><pre>array([&#x27;trained_fc&#x27;, &#x27;trained_cnn&#x27;, &#x27;trained_fc&#x27;, &#x27;trained_cnn&#x27;,\n",
       "       &#x27;trained_fc&#x27;, &#x27;trained_cnn&#x27;, &#x27;trained_fc&#x27;, &#x27;trained_cnn&#x27;,\n",
       "       &#x27;trained_fc&#x27;, &#x27;trained_cnn&#x27;, &#x27;trained_fc&#x27;, &#x27;trained_cnn&#x27;,\n",
       "       &#x27;trained_fc&#x27;, &#x27;trained_cnn&#x27;, &#x27;trained_fc&#x27;, &#x27;trained_cnn&#x27;,\n",
       "       &#x27;trained_fc&#x27;, &#x27;trained_cnn&#x27;, &#x27;trained_fc&#x27;, &#x27;trained_cnn&#x27;,\n",
       "       &#x27;aug_trained_fc&#x27;, &#x27;aug_trained_cnn&#x27;, &#x27;aug_trained_fc&#x27;,\n",
       "       &#x27;aug_trained_cnn&#x27;, &#x27;aug_trained_fc&#x27;, &#x27;aug_trained_cnn&#x27;,\n",
       "       &#x27;aug_trained_fc&#x27;, &#x27;aug_trained_cnn&#x27;, &#x27;aug_trained_fc&#x27;,\n",
       "       &#x27;aug_trained_cnn&#x27;, &#x27;aug_trained_fc&#x27;, &#x27;aug_trained_cnn&#x27;,\n",
       "       &#x27;aug_trained_fc&#x27;, &#x27;aug_trained_cnn&#x27;, &#x27;aug_trained_fc&#x27;,\n",
       "       &#x27;aug_trained_cnn&#x27;, &#x27;aug_trained_fc&#x27;, &#x27;aug_trained_cnn&#x27;,\n",
       "       &#x27;aug_trained_fc&#x27;, &#x27;aug_trained_cnn&#x27;], dtype=&#x27;&lt;U15&#x27;)</pre></div></li></ul></div></li><li class='xr-section-item'><input id='section-ec467457-7502-4e50-a3e1-b8067108436d' class='xr-section-summary-in' type='checkbox'  checked><label for='section-ec467457-7502-4e50-a3e1-b8067108436d' class='xr-section-summary' >Data variables: <span>(1)</span></label><div class='xr-section-inline-details'></div><div class='xr-section-details'><ul class='xr-var-list'><li class='xr-var-item'><div class='xr-var-name'><span>Accuracy</span></div><div class='xr-var-dims'>(x)</div><div class='xr-var-dtype'>float64</div><div class='xr-var-preview xr-preview'>0.9799 0.9915 ... 0.1692 0.2467</div><input id='attrs-608cb140-78e0-404e-8cbd-a38e380de65b' class='xr-var-attrs-in' type='checkbox' disabled><label for='attrs-608cb140-78e0-404e-8cbd-a38e380de65b' title='Show/Hide attributes'><svg class='icon xr-icon-file-text2'><use xlink:href='#icon-file-text2'></use></svg></label><input id='data-48b9fa58-764a-40cb-96ea-38aa573666eb' class='xr-var-data-in' type='checkbox'><label for='data-48b9fa58-764a-40cb-96ea-38aa573666eb' title='Show/Hide data repr'><svg class='icon xr-icon-database'><use xlink:href='#icon-database'></use></svg></label><div class='xr-var-attrs'><dl class='xr-attrs'></dl></div><div class='xr-var-data'><pre>array([0.9799, 0.9915, 0.7617, 0.9645, 0.3668, 0.7569, 0.1997, 0.5046,\n",
       "       0.143 , 0.3489, 0.1304, 0.2781, 0.121 , 0.2304, 0.1123, 0.2014,\n",
       "       0.1055, 0.1837, 0.1007, 0.1628, 0.9579, 0.986 , 0.9565, 0.9885,\n",
       "       0.9473, 0.9864, 0.8205, 0.9474, 0.5409, 0.7687, 0.3864, 0.5697,\n",
       "       0.2925, 0.4382, 0.2327, 0.3603, 0.1969, 0.2971, 0.1692, 0.2467])</pre></div></li></ul></div></li><li class='xr-section-item'><input id='section-44a9ea1b-5c20-41f6-9b7b-4e997edffb7e' class='xr-section-summary-in' type='checkbox' disabled ><label for='section-44a9ea1b-5c20-41f6-9b7b-4e997edffb7e' class='xr-section-summary'  title='Expand/collapse section'>Attributes: <span>(0)</span></label><div class='xr-section-inline-details'></div><div class='xr-section-details'><dl class='xr-attrs'></dl></div></li></ul></div></div>"
      ],
      "text/plain": [
       "<xarray.Dataset>\n",
       "Dimensions:   (x: 40)\n",
       "Coordinates:\n",
       "    epsilon   (x) float64 0.0 0.0 0.1 0.1 0.2 0.2 ... 0.7 0.7 0.8 0.8 0.9 0.9\n",
       "    model     (x) <U15 'trained_fc' 'trained_cnn' ... 'aug_trained_cnn'\n",
       "Dimensions without coordinates: x\n",
       "Data variables:\n",
       "    Accuracy  (x) float64 0.9799 0.9915 0.7617 0.9645 ... 0.2971 0.1692 0.2467"
      ]
     },
     "execution_count": 29,
     "metadata": {},
     "output_type": "execute_result"
    }
   ],
   "source": [
    "xdata = task.to_xarray(dim=\"x\")\n",
    "aug_xdata = task_aug.to_xarray(dim=\"x\")\n",
    "all_xdata = xr.concat((xdata, aug_xdata), dim=\"x\")\n",
    "all_xdata"
   ]
  },
  {
   "cell_type": "code",
   "execution_count": 30,
   "id": "d12beccc-f6ad-4300-8fea-0cbe3e1ae4af",
   "metadata": {},
   "outputs": [
    {
     "data": {
      "text/plain": [
       "<matplotlib.legend.Legend at 0x7f6d5036ec70>"
      ]
     },
     "execution_count": 30,
     "metadata": {},
     "output_type": "execute_result"
    },
    {
     "data": {
      "image/png": "[encoded data removed]",
      "text/plain": [
       "<Figure size 432x288 with 1 Axes>"
      ]
     },
     "metadata": {
      "needs_background": "light"
     },
     "output_type": "display_data"
    }
   ],
   "source": [
    "fig, ax = plt.subplots()\n",
    "for name, g in all_xdata.groupby(\"model\"):\n",
    "    for k in g.data_vars:\n",
    "        g[k].plot.line(x=\"epsilon\", ax=ax, label=name)\n",
    "plt.legend()"
   ]
  },
  {
   "cell_type": "code",
   "execution_count": null,
   "id": "2faaa388-b1bd-4da1-b4a8-eb5e56600bb0",
   "metadata": {},
   "outputs": [],
   "source": []
  }
 ],
 "metadata": {
  "kernelspec": {
   "display_name": "Python [conda env:.conda-raiden]",
   "language": "python",
   "name": "conda-env-.conda-raiden-py"
  },
  "language_info": {
   "codemirror_mode": {
    "name": "ipython",
    "version": 3
   },
   "file_extension": ".py",
   "mimetype": "text/x-python",
   "name": "python",
   "nbconvert_exporter": "python",
   "pygments_lexer": "ipython3",
   "version": "3.8.12"
  }
 },
 "nbformat": 4,
 "nbformat_minor": 5
}
