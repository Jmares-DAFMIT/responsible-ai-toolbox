{
 "cells": [
  {
   "cell_type": "markdown",
   "id": "73eedec2-7295-459f-a16b-4191398abbcf",
   "metadata": {},
   "source": [
    "# Robustness to Image Translation\n",
    "\n",
    "This notebook will demonstrate:\n",
    " - Setting up PyTorch training and testing experiments with hydra-zen and rai-toolbox\n",
    " - Configuring and running repeatable and scalable experiments with [hydra-zen](https://github.com/mit-ll-responsible-ai/hydra-zen)\n",
    " - Experimenting with robustness to image translations on MNIST\n"
   ]
  },
  {
   "cell_type": "markdown",
   "id": "3d510ee0-d4c8-47fb-bb50-449869bb03a5",
   "metadata": {},
   "source": [
    "## Base Imports"
   ]
  },
  {
   "cell_type": "code",
   "execution_count": 1,
   "id": "5c4841d2-201b-438f-8b52-83e956151d44",
   "metadata": {},
   "outputs": [],
   "source": [
    "%matplotlib inline\n",
    "\n",
    "import random\n",
    "from pathlib import Path\n",
    "\n",
    "import matplotlib.pyplot as plt\n",
    "import numpy as np\n",
    "import torch\n",
    "from torch import Tensor, nn\n",
    "from torch.utils.data import DataLoader\n",
    "from torchvision import datasets, transforms\n",
    "from tqdm.auto import tqdm"
   ]
  },
  {
   "cell_type": "code",
   "execution_count": 2,
   "id": "be2ee167-5ec7-4c14-b2cb-057c750317ad",
   "metadata": {},
   "outputs": [],
   "source": [
    "import xarray as xr\n",
    "from hydra import compose, initialize\n",
    "from hydra.core.config_store import ConfigStore"
   ]
  },
  {
   "cell_type": "markdown",
   "id": "86f30714-fba8-410c-ad62-5a4f2bf2d896",
   "metadata": {},
   "source": [
    "### Imports from MITLL packages"
   ]
  },
  {
   "cell_type": "code",
   "execution_count": 3,
   "id": "a9af70d0-b862-4445-a4fc-6cfcc8d60964",
   "metadata": {},
   "outputs": [],
   "source": [
    "from hydra_zen import MISSING, builds, instantiate, launch, make_config\n",
    "from rai_toolbox.mushin.workflows import RobustnessCurve"
   ]
  },
  {
   "cell_type": "markdown",
   "id": "f371c7d9-487e-4107-9d7d-de0da1c98916",
   "metadata": {},
   "source": [
    "## Training and Testing Functions"
   ]
  },
  {
   "cell_type": "markdown",
   "id": "546f649d-4c6d-47e2-b5c5-e70035911361",
   "metadata": {},
   "source": [
    "### Setting Random Seed\n",
    "\n",
    "This functions will allows us to set the random seed so we can repeat our experiments and get the same results."
   ]
  },
  {
   "cell_type": "code",
   "execution_count": 4,
   "id": "41b00633-4f70-4eb2-a51a-76071b54bbef",
   "metadata": {},
   "outputs": [],
   "source": [
    "def set_seed(random_seed) -> None:\n",
    "    np.random.seed(random_seed)\n",
    "    random.seed(random_seed)\n",
    "    torch.manual_seed(random_seed)\n",
    "    torch.cuda.manual_seed(random_seed)"
   ]
  },
  {
   "cell_type": "markdown",
   "id": "d294da30-bd92-427e-90e1-6332ef1b5499",
   "metadata": {},
   "source": [
    "### Experiment Functions"
   ]
  },
  {
   "cell_type": "markdown",
   "id": "3979c4f6-cc53-458c-ae1b-422047aa47f5",
   "metadata": {},
   "source": [
    "#### Models\n",
    "\n",
    "We will be testing a Fully Connected (FC) neural network and Convolutional Neural Network (CNN)."
   ]
  },
  {
   "cell_type": "code",
   "execution_count": 5,
   "id": "2e2a55a8-9168-4785-8c47-f05d15043f80",
   "metadata": {},
   "outputs": [],
   "source": [
    "class ConvModel(nn.Module):\n",
    "    def __init__(self):\n",
    "        super().__init__()\n",
    "        self.model = nn.Sequential(\n",
    "            nn.Conv2d(1, 32, 5, padding=\"same\"),\n",
    "            nn.BatchNorm2d(32),\n",
    "            nn.ReLU(),\n",
    "            nn.MaxPool2d(3),\n",
    "            nn.Conv2d(32, 32, 3, padding=\"same\"),\n",
    "            nn.BatchNorm2d(32),\n",
    "            nn.ReLU(),\n",
    "            nn.MaxPool2d(3),\n",
    "            nn.Conv2d(32, 32, 3, padding=\"same\"),\n",
    "            nn.BatchNorm2d(32),\n",
    "            nn.ReLU(),\n",
    "            nn.Conv2d(32, 10, 3),\n",
    "            nn.Flatten(1),\n",
    "        )\n",
    "\n",
    "    def forward(self, x):\n",
    "        return self.model(x)\n",
    "\n",
    "\n",
    "class LinearModel(nn.Module):\n",
    "    def __init__(self):\n",
    "        super().__init__()\n",
    "        self.model = nn.Sequential(\n",
    "            nn.Flatten(1),\n",
    "            nn.Linear(28 * 28, 256),\n",
    "            nn.ReLU(),\n",
    "            nn.Linear(256, 128),\n",
    "            nn.ReLU(),\n",
    "            nn.Linear(128, 64),\n",
    "            nn.ReLU(),\n",
    "            nn.Linear(64, 10),\n",
    "        )\n",
    "\n",
    "    def forward(self, x):\n",
    "        return self.model(x)"
   ]
  },
  {
   "cell_type": "markdown",
   "id": "bda4f018-c7ba-4959-be74-c708e051024d",
   "metadata": {},
   "source": [
    "### Tanslation Perturbation\n",
    "\n",
    "We will use `torchvision.transforms.RandomAffine` to randomly translate the image in both dimensions of the image.  We define the perturbation equally in both height and width using a single parameter $\\epsilon$. This choice of perturbations was made for simplicity and can be updated to support perturbations in each dimension seperately."
   ]
  },
  {
   "cell_type": "code",
   "execution_count": 6,
   "id": "c2ca604d-da49-45c2-80f5-f4e15185896a",
   "metadata": {},
   "outputs": [],
   "source": [
    "def translate_perturbation(data: Tensor, epsilon) -> Tensor:\n",
    "    xform = transforms.RandomAffine(degrees=0.0, translate=(epsilon, epsilon))\n",
    "    return xform(data)"
   ]
  },
  {
   "cell_type": "markdown",
   "id": "0aa2364f-a407-46b5-84d7-a0567dfa0e11",
   "metadata": {},
   "source": [
    "### Training and Testing\n",
    "\n",
    "We provide functions for training and testing of models.  Both functions support perturbing the data: for training this is data augmentation, for testing this is for evaluating sensitivity to perturbations."
   ]
  },
  {
   "cell_type": "code",
   "execution_count": 7,
   "id": "a8bc36c4-f20f-4f18-97b2-e08cdee35316",
   "metadata": {},
   "outputs": [],
   "source": [
    "def train_model(\n",
    "    model,\n",
    "    train_dataset,\n",
    "    epsilon=0.0,\n",
    "    num_epochs=10,\n",
    "    batch_size=100,\n",
    "    num_workers=4,\n",
    "    device=\"cpu\",\n",
    "    learning_rate=0.1,\n",
    "):\n",
    "    dl = DataLoader(\n",
    "        train_dataset, batch_size=batch_size, num_workers=num_workers, shuffle=True,\n",
    "    )\n",
    "\n",
    "    nn_model = model[\"nn\"]\n",
    "    nn_model = nn_model.to(device)\n",
    "    criterion = nn.CrossEntropyLoss()\n",
    "    optim = torch.optim.SGD(nn_model.parameters(), lr=learning_rate)\n",
    "    for i in tqdm(range(num_epochs)):\n",
    "        nn_model.train()\n",
    "        for data, target in dl:\n",
    "            data = data.to(device)\n",
    "            if epsilon > 0:\n",
    "                data = translate_perturbation(data, epsilon)\n",
    "\n",
    "            target = target.to(device)\n",
    "            logit = nn_model(data)\n",
    "            loss = criterion(logit, target)\n",
    "\n",
    "            optim.zero_grad()\n",
    "            loss.backward()\n",
    "            optim.step()\n",
    "\n",
    "    torch.save(nn_model.state_dict(), \"model.ckpt\")\n",
    "\n",
    "\n",
    "def test_model(\n",
    "    model, test_dataset, epsilon=0.0, batch_size=100, num_workers=4, device=\"cpu\",\n",
    "):\n",
    "    assert model[\"ckpt\"] is not None\n",
    "    nn_model = model[\"nn\"]\n",
    "    nn_model.load_state_dict(torch.load(str(model[\"ckpt\"])))\n",
    "    nn_model = nn_model.to(device)\n",
    "\n",
    "    test_dl = DataLoader(\n",
    "        test_dataset, batch_size=batch_size, num_workers=num_workers, shuffle=True,\n",
    "    )\n",
    "\n",
    "    preds = []\n",
    "    with torch.no_grad():\n",
    "        nn_model.eval()\n",
    "        for tdata, ttarget in test_dl:\n",
    "            tdata = tdata.to(device)\n",
    "            ttarget = ttarget.to(device)\n",
    "\n",
    "            if epsilon > 0:\n",
    "                tdata = translate_perturbation(tdata, epsilon)\n",
    "\n",
    "            tlogit = nn_model(tdata)\n",
    "\n",
    "            # Save if prediction is correct or not for each sample\n",
    "            preds.extend((tlogit.argmax(1) == ttarget).float().cpu().numpy())\n",
    "\n",
    "    return sum(preds) / len(preds)"
   ]
  },
  {
   "cell_type": "markdown",
   "id": "997b994a-1484-4c51-8090-7601eff0320f",
   "metadata": {},
   "source": [
    "### Plotting\n",
    "\n",
    "Just a helper function for plotting some results below."
   ]
  },
  {
   "cell_type": "code",
   "execution_count": 8,
   "id": "54af24e6-89f7-42fb-b830-14bdfb498889",
   "metadata": {},
   "outputs": [],
   "source": [
    "def bar_chart(cnn_tests, fc_tests, aug_cnn_tests=None, aug_fc_tests=None):\n",
    "    fig, ax = plt.subplots()\n",
    "\n",
    "    cnn_no_translate = cnn_tests[0].return_value\n",
    "    fc_no_translate = fc_tests[0].return_value\n",
    "\n",
    "    cnn_translate = cnn_tests[1].return_value\n",
    "    fc_translate = fc_tests[1].return_value\n",
    "\n",
    "    if aug_cnn_tests is None:\n",
    "        ax.bar(\n",
    "            [0 - 0.25 / 2, 1 - 0.25 / 2],\n",
    "            [fc_no_translate * 100, fc_translate * 100],\n",
    "            width=0.25,\n",
    "            label=\"FC\",\n",
    "        )\n",
    "        ax.bar(\n",
    "            [0 + 0.25 / 2, 1 + 0.25 / 2],\n",
    "            [cnn_no_translate * 100, cnn_translate * 100],\n",
    "            width=0.25,\n",
    "            label=\"CNN\",\n",
    "        )\n",
    "        ax.set_xticks([0, 1])\n",
    "        ax.set_xticklabels([\"Original Test Data\", \"Translated Test Data\"])\n",
    "\n",
    "    else:\n",
    "        aug_cnn_no_translate = aug_cnn_tests[0].return_value\n",
    "        aug_fc_no_translate = aug_fc_tests[0].return_value\n",
    "\n",
    "        aug_cnn_translate = aug_cnn_tests[1].return_value\n",
    "        aug_fc_translate = aug_fc_tests[1].return_value\n",
    "\n",
    "        ax.bar(\n",
    "            [0 - 0.25 / 2, 1 - 0.25 / 2, 2 - 0.25 / 2],\n",
    "            [fc_no_translate * 100, fc_translate * 100, aug_fc_translate * 100],\n",
    "            width=0.25,\n",
    "            label=\"FC\",\n",
    "        )\n",
    "        ax.bar(\n",
    "            [0 + 0.25 / 2, 1 + 0.25 / 2, 2 + 0.25 / 2],\n",
    "            [cnn_no_translate * 100, cnn_translate * 100, aug_cnn_translate * 100],\n",
    "            width=0.25,\n",
    "            label=\"CNN\",\n",
    "        )\n",
    "\n",
    "        ax.set_xticks([0, 1, 2])\n",
    "        ax.set_xticklabels(\n",
    "            [\n",
    "                \"Original Test Data\",\n",
    "                \"Translated Test Data\",\n",
    "                \"Translated Test Data \\n with Augmentations\",\n",
    "            ],\n",
    "            rotation=30,\n",
    "        )\n",
    "\n",
    "    ax.set_ylabel(\"% Accuracy on Test Set\")\n",
    "    ax.legend()"
   ]
  },
  {
   "cell_type": "markdown",
   "id": "e4ae356e-8cd1-48d4-93fa-911bbdbf6483",
   "metadata": {},
   "source": [
    "## hydra-zen Configurations\n",
    "\n",
    "In this section, we use hydra-zen (https://github.com/mit-ll-responsible-ai/hydra-zen) to create configurations for the datasets, models, and training that will be used in the experiments in this notebook.\n",
    "\n",
    "In a nutshell, hydra-zen is a Python library that simplifies the process of writing code (research-grade or production-grade) that is:\n",
    "\n",
    "  - **Configurable**: you can configure all aspects of your code from a single interface (the command line or a single Python function).\n",
    "  - **Repeatable**: each run of your code will be self-documenting; the full configuration of your software is saved alongside your results.\n",
    "  - **Scalable**: launch multiple runs of your software, be it on your local machine or across multiple nodes on a cluster.\n",
    "\n",
    "hydra-zen builds off--and is fully compatible with--Hydra (https://hydra.cc/), a framework for elegantly configuring complex applications."
   ]
  },
  {
   "cell_type": "markdown",
   "id": "18b6d782-6580-4a53-ad09-7bd9938140cf",
   "metadata": {},
   "source": [
    "### Dataset\n",
    "\n",
    "We use the standard PyTorch location for datasets in `HOME/.torch/data`. We also use the standard training and test splits for MNIST as provided by `torchvision.datasets.MNIST`."
   ]
  },
  {
   "cell_type": "code",
   "execution_count": 9,
   "id": "eae48a3a-6ac9-4da3-a5b9-8a31b48d8126",
   "metadata": {},
   "outputs": [
    {
     "data": {
      "text/plain": [
       "<matplotlib.image.AxesImage at 0x7f3899370340>"
      ]
     },
     "execution_count": 9,
     "metadata": {},
     "output_type": "execute_result"
    },
    {
     "data": {
      "image/png": "[encoded data removed]",
      "text/plain": [
       "<Figure size 432x288 with 2 Axes>"
      ]
     },
     "metadata": {},
     "output_type": "display_data"
    }
   ],
   "source": [
    "DATA_DIR = Path.home() / \".torch\" / \"data\"\n",
    "ToTensor = builds(transforms.ToTensor)\n",
    "Dataset = builds(datasets.MNIST, root=DATA_DIR, train=True, transform=ToTensor)\n",
    "TestDataset = builds(datasets.MNIST, root=DATA_DIR, train=False, transform=ToTensor)\n",
    "\n",
    "\n",
    "# Test\n",
    "dataset = instantiate(Dataset)\n",
    "X, Y = dataset[0]\n",
    "Xt = translate_perturbation(X, 0.3)\n",
    "\n",
    "fig, ax = plt.subplots(ncols=2, subplot_kw=dict(xticks=[], yticks=[]))\n",
    "ax[0].imshow(X[0])\n",
    "\n",
    "ax[1].imshow(Xt[0])"
   ]
  },
  {
   "cell_type": "markdown",
   "id": "414bfbc8-c812-4eee-95b2-58187d620946",
   "metadata": {},
   "source": [
    "### Models"
   ]
  },
  {
   "cell_type": "code",
   "execution_count": 10,
   "id": "480d0e35-9e05-4b87-b66f-cd6ca361fb02",
   "metadata": {},
   "outputs": [],
   "source": [
    "_ConvModelCfg = builds(ConvModel)\n",
    "_LinearModelCfg = builds(LinearModel)\n",
    "\n",
    "ConvModelCfg = make_config(ckpt=None, nn=_ConvModelCfg)\n",
    "\n",
    "LinearModelCfg = make_config(ckpt=None, nn=_LinearModelCfg)\n",
    "\n",
    "# Test\n",
    "dataset = instantiate(Dataset)\n",
    "cnn = instantiate(ConvModelCfg)\n",
    "fc = instantiate(LinearModelCfg)\n",
    "\n",
    "X, Y = dataset[0]\n",
    "assert cnn.nn(X[None]).shape == (1, 10)\n",
    "assert fc.nn(X[None]).shape == (1, 10)"
   ]
  },
  {
   "cell_type": "markdown",
   "id": "0c44c9c3-277f-41c3-9b55-fa113c7d2267",
   "metadata": {},
   "source": [
    "### Training and Testing Functions"
   ]
  },
  {
   "cell_type": "code",
   "execution_count": 11,
   "id": "bf86cf4a-a672-4deb-9c81-09805bd94074",
   "metadata": {},
   "outputs": [],
   "source": [
    "Trainer = builds(\n",
    "    train_model,\n",
    "    populate_full_signature=True,\n",
    "    train_dataset=Dataset,\n",
    "    epsilon=\"${epsilon}\",\n",
    "    zen_partial=True,\n",
    ")\n",
    "\n",
    "Tester = builds(\n",
    "    test_model,\n",
    "    test_dataset=TestDataset,\n",
    "    epsilon=\"${epsilon}\",\n",
    "    populate_full_signature=True,\n",
    "    zen_partial=True,\n",
    ")"
   ]
  },
  {
   "cell_type": "markdown",
   "id": "48736397-a917-40fd-b6a5-060e4651f596",
   "metadata": {},
   "source": [
    "### Make Swappable Configurations\n",
    "\n",
    "We use Hydra's `ConfigStore` API to store configurations so that we can swap specific configurations from the command line.  Here we store the the two model configs so that we can easily swap training and testing with the CNN or the FC model."
   ]
  },
  {
   "cell_type": "code",
   "execution_count": 12,
   "id": "e953c620-d43a-47cb-a679-af47477b923d",
   "metadata": {},
   "outputs": [],
   "source": [
    "cs = ConfigStore.instance()\n",
    "cs.store(name=\"cnn\", group=\"model\", node=ConvModelCfg)\n",
    "cs.store(name=\"fc\", group=\"model\", node=LinearModelCfg)"
   ]
  },
  {
   "cell_type": "markdown",
   "id": "672040c9-63a3-4e21-a74c-cc61d0c56c23",
   "metadata": {},
   "source": [
    "### Main Config\n",
    "\n",
    "This is the main configuration for running experiments. The `defaults` parameters defines the configurations we plan to swap while providing a default value.  Here the default value is to train with the fully connected network, \"fc\", as defined in the `ConfigStore` above."
   ]
  },
  {
   "cell_type": "code",
   "execution_count": 13,
   "id": "1b1a9b66-e8bd-45d6-a3a4-b5c925cc4205",
   "metadata": {},
   "outputs": [],
   "source": [
    "Config = make_config(\n",
    "    defaults=[\"_self_\", {\"model\": \"fc\"}],\n",
    "    epsilon=0.0,\n",
    "    model=MISSING,\n",
    "    trainer=Trainer,\n",
    "    tester=Tester,\n",
    ")\n",
    "\n",
    "# store the main config in the ConfigStore\n",
    "cs.store(name=\"notebook_config\", node=Config)"
   ]
  },
  {
   "cell_type": "markdown",
   "id": "91b4c033-71ff-4215-a64c-da38324d28da",
   "metadata": {},
   "source": [
    "## Train Models\n",
    "\n",
    "Here we define a training task for the CNN and FC models using a single GPU.  We take advantage of Hydra's `multirun` capability to automatically launch jobs for a given list of configuration overrides, e.g. `model=cnn,fc`.  The output is a class containing configurations of the each job and the return value provided by the task function below."
   ]
  },
  {
   "cell_type": "code",
   "execution_count": 14,
   "id": "e71b6232-c42c-4c94-9f13-fb79197a3c35",
   "metadata": {},
   "outputs": [],
   "source": [
    "def train_task_fn(cfg):\n",
    "    # important to set seed BEFORE instantiating any objects\n",
    "    set_seed(42)\n",
    "\n",
    "    # recursively instantiates all configurations\n",
    "    obj = instantiate(cfg)\n",
    "    return obj.trainer(obj.model)"
   ]
  },
  {
   "cell_type": "code",
   "execution_count": 15,
   "id": "fa037066-39bc-43ab-b118-b15003910eca",
   "metadata": {},
   "outputs": [
    {
     "name": "stdout",
     "output_type": "stream",
     "text": [
      "[2022-04-12 22:19:02,394][HYDRA] Launching 2 jobs locally\n",
      "[2022-04-12 22:19:02,394][HYDRA] \t#0 : model=cnn trainer.device=cuda\n"
     ]
    },
    {
     "data": {
      "application/vnd.jupyter.widget-view+json": {
       "model_id": "c8e7f0ec1b25485f953ecf7a0d3277cf",
       "version_major": 2,
       "version_minor": 0
      },
      "text/plain": [
       "  0%|          | 0/10 [00:00<?, ?it/s]"
      ]
     },
     "metadata": {},
     "output_type": "display_data"
    },
    {
     "name": "stdout",
     "output_type": "stream",
     "text": [
      "[2022-04-12 22:19:51,749][HYDRA] \t#1 : model=fc trainer.device=cuda\n"
     ]
    },
    {
     "data": {
      "application/vnd.jupyter.widget-view+json": {
       "model_id": "c094389dd37a479496790ba5c477fdc3",
       "version_major": 2,
       "version_minor": 0
      },
      "text/plain": [
       "  0%|          | 0/10 [00:00<?, ?it/s]"
      ]
     },
     "metadata": {},
     "output_type": "display_data"
    }
   ],
   "source": [
    "(training_jobs,) = launch(\n",
    "    Config,\n",
    "    train_task_fn,\n",
    "    overrides=[\"model=cnn,fc\", \"trainer.device=cuda\"],\n",
    "    multirun=True,\n",
    ")"
   ]
  },
  {
   "cell_type": "markdown",
   "id": "b0636408-1b09-4242-9dfc-527ae6bc5615",
   "metadata": {},
   "source": [
    "Now that we have trained models lets create new configs that contain the model checkpoints so we can easily use them in our robustness experiments below."
   ]
  },
  {
   "cell_type": "code",
   "execution_count": 16,
   "id": "de6b5e19-0f6b-4465-adf7-e917201303c4",
   "metadata": {},
   "outputs": [],
   "source": [
    "TrainedConvModelCfg = make_config(\n",
    "    ckpt=Path(training_jobs[0].working_dir).absolute() / \"model.ckpt\",\n",
    "    nn=_ConvModelCfg,\n",
    "    hydra_convert=\"all\",\n",
    ")\n",
    "TrainedLinearModelCfg = make_config(\n",
    "    ckpt=Path(training_jobs[1].working_dir).absolute() / \"model.ckpt\",\n",
    "    nn=_LinearModelCfg,\n",
    "    hydra_convert=\"all\",\n",
    ")\n",
    "\n",
    "cs.store(name=\"trained_cnn\", group=\"model\", node=TrainedConvModelCfg)\n",
    "cs.store(name=\"trained_fc\", group=\"model\", node=TrainedLinearModelCfg)"
   ]
  },
  {
   "cell_type": "markdown",
   "id": "8676172c-b232-4e0b-ae49-9e139f6fdbc4",
   "metadata": {},
   "source": [
    "## Test Models\n",
    "\n",
    "Define the testing task and evalulate the models for varying levels of translation of the image."
   ]
  },
  {
   "cell_type": "code",
   "execution_count": 17,
   "id": "917524b8-5649-47c6-9070-60a3b9f6bb70",
   "metadata": {},
   "outputs": [],
   "source": [
    "def testing_task_fn(cfg):\n",
    "    set_seed(42)\n",
    "    obj = instantiate(cfg)\n",
    "    return obj.tester(obj.model)"
   ]
  },
  {
   "cell_type": "code",
   "execution_count": 18,
   "id": "535f00aa-6974-4e7a-b06d-19855736ca1b",
   "metadata": {},
   "outputs": [
    {
     "name": "stdout",
     "output_type": "stream",
     "text": [
      "[2022-04-12 22:20:24,799][HYDRA] Launching 2 jobs locally\n",
      "[2022-04-12 22:20:24,799][HYDRA] \t#0 : model=trained_cnn epsilon=0\n",
      "[2022-04-12 22:20:25,935][HYDRA] \t#1 : model=trained_cnn epsilon=0.2\n",
      "[2022-04-12 22:20:27,380][HYDRA] Launching 2 jobs locally\n",
      "[2022-04-12 22:20:27,380][HYDRA] \t#0 : model=trained_fc epsilon=0\n",
      "[2022-04-12 22:20:28,284][HYDRA] \t#1 : model=trained_fc epsilon=0.2\n"
     ]
    },
    {
     "data": {
      "image/png": "[encoded data removed]",
      "text/plain": [
       "<Figure size 432x288 with 1 Axes>"
      ]
     },
     "metadata": {
      "needs_background": "light"
     },
     "output_type": "display_data"
    }
   ],
   "source": [
    "(cnn_tests,) = launch(\n",
    "    Config,\n",
    "    testing_task_fn,\n",
    "    overrides=[\"model=trained_cnn\", \"epsilon=0,0.2\"],\n",
    "    multirun=True,\n",
    ")\n",
    "\n",
    "(fc_tests,) = launch(\n",
    "    Config,\n",
    "    testing_task_fn,\n",
    "    overrides=[\"model=trained_fc\", \"epsilon=0,0.2\"],\n",
    "    multirun=True,\n",
    ")\n",
    "\n",
    "bar_chart(cnn_tests, fc_tests)"
   ]
  },
  {
   "cell_type": "markdown",
   "id": "8b473743-23b7-4c94-aa06-28828c63a815",
   "metadata": {},
   "source": [
    "Here we introduce a specialized task, `rai_toolbox.mushin._tasks.RobustnessCurve`. This task allows us to launch jobs to create robustness curves, provide a [xarray.DataArray](https://docs.xarray.dev/en/stable/index.html) of the metrics, and a method to `plot` the curve."
   ]
  },
  {
   "cell_type": "code",
   "execution_count": 19,
   "id": "2f17d636-891e-452a-8989-a141c196efd3",
   "metadata": {},
   "outputs": [],
   "source": [
    "class TranslationRobustness(RobustnessCurve):\n",
    "    @staticmethod\n",
    "    def evaluation_task(model, tester) -> torch.Tensor:\n",
    "        set_seed(42)\n",
    "        return tester(model)"
   ]
  },
  {
   "cell_type": "markdown",
   "id": "8f0ab1aa-2d5a-43dd-bec3-4cbfb1766d22",
   "metadata": {},
   "source": [
    "First lets demonstrate executing this function on a single model to see how to initiate the task, execute `run`, and `plot` the results."
   ]
  },
  {
   "cell_type": "code",
   "execution_count": 20,
   "id": "83a13144-8191-48fb-b8f8-3d38a62197dd",
   "metadata": {},
   "outputs": [
    {
     "name": "stdout",
     "output_type": "stream",
     "text": [
      "[2022-04-12 22:20:30,966][HYDRA] Launching 10 jobs locally\n",
      "[2022-04-12 22:20:30,966][HYDRA] \t#0 : epsilon=0.0\n",
      "[2022-04-12 22:20:31,945][HYDRA] \t#1 : epsilon=0.1\n",
      "[2022-04-12 22:20:32,885][HYDRA] \t#2 : epsilon=0.2\n",
      "[2022-04-12 22:20:33,835][HYDRA] \t#3 : epsilon=0.3\n",
      "[2022-04-12 22:20:34,870][HYDRA] \t#4 : epsilon=0.4\n",
      "[2022-04-12 22:20:35,868][HYDRA] \t#5 : epsilon=0.5\n",
      "[2022-04-12 22:20:36,925][HYDRA] \t#6 : epsilon=0.6\n",
      "[2022-04-12 22:20:37,884][HYDRA] \t#7 : epsilon=0.7000000000000001\n",
      "[2022-04-12 22:20:38,925][HYDRA] \t#8 : epsilon=0.8\n",
      "[2022-04-12 22:20:39,890][HYDRA] \t#9 : epsilon=0.9\n"
     ]
    },
    {
     "data": {
      "text/plain": [
       "<matplotlib.legend.Legend at 0x7f3896585430>"
      ]
     },
     "execution_count": 20,
     "metadata": {},
     "output_type": "execute_result"
    },
    {
     "data": {
      "image/png": "[encoded data removed]",
      "text/plain": [
       "<Figure size 432x288 with 1 Axes>"
      ]
     },
     "metadata": {
      "needs_background": "light"
     },
     "output_type": "display_data"
    }
   ],
   "source": [
    "with initialize(config_path=None):\n",
    "    cfg = compose(\"notebook_config\", overrides=[\"model=trained_cnn\"])\n",
    "\n",
    "task = TranslationRobustness(cfg)\n",
    "task.run(job_epsilons=\"range(0,1,0.1)\", sweepdir=\"outputs/curve_cnn\")\n",
    "task.plot(save_fig=False, label=\"CNN\")\n",
    "plt.legend()"
   ]
  },
  {
   "cell_type": "markdown",
   "id": "2b2675d5-148f-40ad-bfb1-9ab14c3d1047",
   "metadata": {},
   "source": [
    "We can also convert the task data to an [xarray.DataArray](https://docs.xarray.dev/en/stable/index.html).  This will be useful when we produce results across multiple experiments."
   ]
  },
  {
   "cell_type": "code",
   "execution_count": 21,
   "id": "a35f61ef-5959-4b55-a774-f96116d51814",
   "metadata": {},
   "outputs": [
    {
     "data": {
      "text/html": [
       "<div>\n",
       "<style scoped>\n",
       "    .dataframe tbody tr th:only-of-type {\n",
       "        vertical-align: middle;\n",
       "    }\n",
       "\n",
       "    .dataframe tbody tr th {\n",
       "        vertical-align: top;\n",
       "    }\n",
       "\n",
       "    .dataframe thead th {\n",
       "        text-align: right;\n",
       "    }\n",
       "</style>\n",
       "<table border=\"1\" class=\"dataframe\">\n",
       "  <thead>\n",
       "    <tr style=\"text-align: right;\">\n",
       "      <th></th>\n",
       "      <th>accuracy</th>\n",
       "    </tr>\n",
       "    <tr>\n",
       "      <th>epsilon</th>\n",
       "      <th></th>\n",
       "    </tr>\n",
       "  </thead>\n",
       "  <tbody>\n",
       "    <tr>\n",
       "      <th>0.0</th>\n",
       "      <td>0.9906</td>\n",
       "    </tr>\n",
       "    <tr>\n",
       "      <th>0.1</th>\n",
       "      <td>0.9609</td>\n",
       "    </tr>\n",
       "    <tr>\n",
       "      <th>0.2</th>\n",
       "      <td>0.7454</td>\n",
       "    </tr>\n",
       "    <tr>\n",
       "      <th>0.3</th>\n",
       "      <td>0.4905</td>\n",
       "    </tr>\n",
       "    <tr>\n",
       "      <th>0.4</th>\n",
       "      <td>0.3320</td>\n",
       "    </tr>\n",
       "    <tr>\n",
       "      <th>0.5</th>\n",
       "      <td>0.2683</td>\n",
       "    </tr>\n",
       "    <tr>\n",
       "      <th>0.6</th>\n",
       "      <td>0.2250</td>\n",
       "    </tr>\n",
       "    <tr>\n",
       "      <th>0.7</th>\n",
       "      <td>0.1949</td>\n",
       "    </tr>\n",
       "    <tr>\n",
       "      <th>0.8</th>\n",
       "      <td>0.1774</td>\n",
       "    </tr>\n",
       "    <tr>\n",
       "      <th>0.9</th>\n",
       "      <td>0.1585</td>\n",
       "    </tr>\n",
       "  </tbody>\n",
       "</table>\n",
       "</div>"
      ],
      "text/plain": [
       "         accuracy\n",
       "epsilon          \n",
       "0.0        0.9906\n",
       "0.1        0.9609\n",
       "0.2        0.7454\n",
       "0.3        0.4905\n",
       "0.4        0.3320\n",
       "0.5        0.2683\n",
       "0.6        0.2250\n",
       "0.7        0.1949\n",
       "0.8        0.1774\n",
       "0.9        0.1585"
      ]
     },
     "execution_count": 21,
     "metadata": {},
     "output_type": "execute_result"
    }
   ],
   "source": [
    "xdata = task.to_xarray()\n",
    "xdata.to_dataframe()"
   ]
  },
  {
   "cell_type": "code",
   "execution_count": 22,
   "id": "0eb2a03d-8a34-401a-8cce-7f8f4bb82419",
   "metadata": {},
   "outputs": [
    {
     "data": {
      "text/plain": [
       "<matplotlib.legend.Legend at 0x7f38900b4610>"
      ]
     },
     "execution_count": 22,
     "metadata": {},
     "output_type": "execute_result"
    },
    {
     "data": {
      "image/png": "[encoded data removed]",
      "text/plain": [
       "<Figure size 432x288 with 1 Axes>"
      ]
     },
     "metadata": {
      "needs_background": "light"
     },
     "output_type": "display_data"
    }
   ],
   "source": [
    "xdata.plot(label=\"CNN\")\n",
    "plt.legend()"
   ]
  },
  {
   "cell_type": "markdown",
   "id": "4f8a1edb-f86a-42d9-b6ba-fcc47e7dc623",
   "metadata": {},
   "source": [
    "Now, instead of executing the task per model, we can take advantage of `multirun` to get the curve metrics for each of our trained models.  Here our task function returns a `xarray.DataArray`."
   ]
  },
  {
   "cell_type": "code",
   "execution_count": 23,
   "id": "5aa5d919-fa46-43da-a453-81d834268120",
   "metadata": {},
   "outputs": [
    {
     "name": "stdout",
     "output_type": "stream",
     "text": [
      "[2022-04-12 22:20:41,513][HYDRA] Launching 2 jobs locally\n",
      "[2022-04-12 22:20:41,513][HYDRA] \t#0 : model=trained_fc +job_epsilon='range(0,1,0.1)'\n",
      "[2022-04-12 22:20:42,330][HYDRA] Launching 10 jobs locally\n",
      "[2022-04-12 22:20:42,330][HYDRA] \t#0 : epsilon=0.0\n",
      "[2022-04-12 22:20:43,068][HYDRA] \t#1 : epsilon=0.1\n",
      "[2022-04-12 22:20:43,772][HYDRA] \t#2 : epsilon=0.2\n",
      "[2022-04-12 22:20:44,546][HYDRA] \t#3 : epsilon=0.3\n",
      "[2022-04-12 22:20:45,651][HYDRA] \t#4 : epsilon=0.4\n",
      "[2022-04-12 22:20:46,481][HYDRA] \t#5 : epsilon=0.5\n",
      "[2022-04-12 22:20:47,210][HYDRA] \t#6 : epsilon=0.6\n",
      "[2022-04-12 22:20:48,022][HYDRA] \t#7 : epsilon=0.7000000000000001\n",
      "[2022-04-12 22:20:48,825][HYDRA] \t#8 : epsilon=0.8\n",
      "[2022-04-12 22:20:49,694][HYDRA] \t#9 : epsilon=0.9\n",
      "Finished Job\n",
      "\n",
      "[2022-04-12 22:20:50,524][HYDRA] \t#1 : model=trained_cnn +job_epsilon='range(0,1,0.1)'\n",
      "[2022-04-12 22:20:51,334][HYDRA] Launching 10 jobs locally\n",
      "[2022-04-12 22:20:51,334][HYDRA] \t#0 : epsilon=0.0\n",
      "[2022-04-12 22:20:52,183][HYDRA] \t#1 : epsilon=0.1\n",
      "[2022-04-12 22:20:53,179][HYDRA] \t#2 : epsilon=0.2\n",
      "[2022-04-12 22:20:54,141][HYDRA] \t#3 : epsilon=0.3\n",
      "[2022-04-12 22:20:55,188][HYDRA] \t#4 : epsilon=0.4\n",
      "[2022-04-12 22:20:56,232][HYDRA] \t#5 : epsilon=0.5\n",
      "[2022-04-12 22:20:57,197][HYDRA] \t#6 : epsilon=0.6\n",
      "[2022-04-12 22:20:58,293][HYDRA] \t#7 : epsilon=0.7000000000000001\n",
      "[2022-04-12 22:20:59,272][HYDRA] \t#8 : epsilon=0.8\n",
      "[2022-04-12 22:21:00,275][HYDRA] \t#9 : epsilon=0.9\n",
      "Finished Job\n",
      "\n"
     ]
    }
   ],
   "source": [
    "def curve_task_fn(cfg):\n",
    "    task = TranslationRobustness(cfg)\n",
    "    task.run(job_epsilons=cfg.job_epsilon)\n",
    "    print(\"Finished Job\")\n",
    "    print(\"\")\n",
    "    return task.to_xarray()\n",
    "\n",
    "\n",
    "(curve_jobs,) = launch(\n",
    "    Config,\n",
    "    curve_task_fn,\n",
    "    overrides=[\"model=trained_fc,trained_cnn\", \"+job_epsilon='range(0,1,0.1)'\",],\n",
    "    multirun=True,\n",
    ")"
   ]
  },
  {
   "cell_type": "markdown",
   "id": "2f7a8032-2723-470d-8d2e-a432ab71364c",
   "metadata": {},
   "source": [
    "We `concat` the outputs into a new `xarray.DataArray` and plot the results."
   ]
  },
  {
   "cell_type": "code",
   "execution_count": 24,
   "id": "5854a772-a12d-4d13-a5ad-4cc9975d7b50",
   "metadata": {},
   "outputs": [
    {
     "data": {
      "text/plain": [
       "[<matplotlib.lines.Line2D at 0x7f38959acc70>,\n",
       " <matplotlib.lines.Line2D at 0x7f38959aca90>]"
      ]
     },
     "execution_count": 24,
     "metadata": {},
     "output_type": "execute_result"
    },
    {
     "data": {
      "image/png": "[encoded data removed]",
      "text/plain": [
       "<Figure size 432x288 with 1 Axes>"
      ]
     },
     "metadata": {
      "needs_background": "light"
     },
     "output_type": "display_data"
    }
   ],
   "source": [
    "exp_inds = [\"cnn\", \"dnn\"]\n",
    "exp_coord = xr.DataArray([\"fc\", \"cnn\"], name=\"model\", dims=[\"model\"], coords=[exp_inds])\n",
    "xdata = xr.concat(([c.return_value for c in curve_jobs]), exp_coord)\n",
    "xdata.plot.line(x=\"epsilon\")"
   ]
  },
  {
   "cell_type": "markdown",
   "id": "a295717f-8912-4407-8d1f-706b5bdaed95",
   "metadata": {},
   "source": [
    "Take-Aways:\n",
    "\n",
    "- Domain Knowledge: CNNs model translation equivariance into the model, an inductive bias based on domain knowledge.\n",
    "- Robustness: CNNs are more robust to unseen translations than a linear network.\n",
    "- Complexity: CNNs are less complex (less parameters) than linear networks.\n",
    "- Sample Efficient: CNNs acheive top performance metrics with less data."
   ]
  },
  {
   "cell_type": "markdown",
   "id": "220b4cb2-19ef-40b9-9978-515bbf4c8256",
   "metadata": {},
   "source": [
    "## Data Augmentations\n",
    "\n",
    "While we showed that the convolution property of translation equivariance leads to more robust models, we still saw a drop in performance. What if we also augment the dataset with some random translation and train both the CNN and FC models. Here we train with an random translation parameter $\\epsilon = 0.2$"
   ]
  },
  {
   "cell_type": "code",
   "execution_count": 25,
   "id": "e5ade594-c34f-40c5-b444-372091d1d182",
   "metadata": {},
   "outputs": [
    {
     "name": "stdout",
     "output_type": "stream",
     "text": [
      "[2022-04-12 22:21:01,817][HYDRA] Launching 2 jobs locally\n",
      "[2022-04-12 22:21:01,817][HYDRA] \t#0 : model=cnn trainer.device=cuda epsilon=0.2\n"
     ]
    },
    {
     "data": {
      "application/vnd.jupyter.widget-view+json": {
       "model_id": "d39d8b21d4d94acdbdc19c8cb09cc392",
       "version_major": 2,
       "version_minor": 0
      },
      "text/plain": [
       "  0%|          | 0/10 [00:00<?, ?it/s]"
      ]
     },
     "metadata": {},
     "output_type": "display_data"
    },
    {
     "name": "stdout",
     "output_type": "stream",
     "text": [
      "[2022-04-12 22:22:38,337][HYDRA] \t#1 : model=fc trainer.device=cuda epsilon=0.2\n"
     ]
    },
    {
     "data": {
      "application/vnd.jupyter.widget-view+json": {
       "model_id": "219d271dcec44db698fd018beae73321",
       "version_major": 2,
       "version_minor": 0
      },
      "text/plain": [
       "  0%|          | 0/10 [00:00<?, ?it/s]"
      ]
     },
     "metadata": {},
     "output_type": "display_data"
    }
   ],
   "source": [
    "(aug_training_jobs,) = launch(\n",
    "    Config,\n",
    "    train_task_fn,\n",
    "    overrides=[\"model=cnn,fc\", \"trainer.device=cuda\", \"epsilon=0.2\"],\n",
    "    multirun=True,\n",
    ")"
   ]
  },
  {
   "cell_type": "markdown",
   "id": "75cbaeac-e63b-4ebf-848b-68aef594262c",
   "metadata": {},
   "source": [
    "As we did above, create new configs with the checkpoint stored for experimentation."
   ]
  },
  {
   "cell_type": "code",
   "execution_count": 26,
   "id": "955c37e3-b895-4a50-8f9e-f1bc2b68eca1",
   "metadata": {},
   "outputs": [],
   "source": [
    "AugTrainedConvModelCfg = make_config(\n",
    "    ckpt=Path(aug_training_jobs[0].working_dir).absolute() / \"model.ckpt\",\n",
    "    nn=_ConvModelCfg,\n",
    "    hydra_convert=\"all\",\n",
    ")\n",
    "AugTrainedLinearModelCfg = make_config(\n",
    "    ckpt=Path(aug_training_jobs[1].working_dir).absolute() / \"model.ckpt\",\n",
    "    nn=_LinearModelCfg,\n",
    "    hydra_convert=\"all\",\n",
    ")\n",
    "\n",
    "cs.store(name=\"aug_trained_cnn\", group=\"model\", node=AugTrainedConvModelCfg)\n",
    "cs.store(name=\"aug_trained_fc\", group=\"model\", node=AugTrainedLinearModelCfg)"
   ]
  },
  {
   "cell_type": "markdown",
   "id": "cd609d01-e8a1-4a0d-a82e-4bee0c7fb7a3",
   "metadata": {},
   "source": [
    "First lets update the bar chart for an easy comparison."
   ]
  },
  {
   "cell_type": "code",
   "execution_count": 27,
   "id": "d61f59bf-2ad5-4d6d-b66f-66f048a033fc",
   "metadata": {},
   "outputs": [
    {
     "name": "stdout",
     "output_type": "stream",
     "text": [
      "[2022-04-12 22:24:15,752][HYDRA] Launching 2 jobs locally\n",
      "[2022-04-12 22:24:15,752][HYDRA] \t#0 : model=aug_trained_cnn epsilon=0\n",
      "[2022-04-12 22:24:16,792][HYDRA] \t#1 : model=aug_trained_cnn epsilon=0.2\n",
      "[2022-04-12 22:24:18,143][HYDRA] Launching 2 jobs locally\n",
      "[2022-04-12 22:24:18,144][HYDRA] \t#0 : model=aug_trained_fc epsilon=0\n",
      "[2022-04-12 22:24:19,078][HYDRA] \t#1 : model=aug_trained_fc epsilon=0.2\n"
     ]
    },
    {
     "data": {
      "image/png": "[encoded data removed]",
      "text/plain": [
       "<Figure size 432x288 with 1 Axes>"
      ]
     },
     "metadata": {
      "needs_background": "light"
     },
     "output_type": "display_data"
    }
   ],
   "source": [
    "(aug_cnn_tests,) = launch(\n",
    "    Config,\n",
    "    testing_task_fn,\n",
    "    overrides=[\"model=aug_trained_cnn\", \"epsilon=0,0.2\",],\n",
    "    multirun=True,\n",
    ")\n",
    "\n",
    "(aug_fc_tests,) = launch(\n",
    "    Config,\n",
    "    testing_task_fn,\n",
    "    overrides=[\"model=aug_trained_fc\", \"epsilon=0,0.2\",],\n",
    "    multirun=True,\n",
    ")\n",
    "\n",
    "bar_chart(cnn_tests, fc_tests, aug_cnn_tests, aug_fc_tests)"
   ]
  },
  {
   "cell_type": "markdown",
   "id": "3a9a9607-b42f-4132-bbc4-6aff238643ff",
   "metadata": {},
   "source": [
    "Now generate the robustness curves for the new models."
   ]
  },
  {
   "cell_type": "code",
   "execution_count": 28,
   "id": "1fb155bc-9ba1-487d-be74-9b981236125e",
   "metadata": {},
   "outputs": [
    {
     "name": "stdout",
     "output_type": "stream",
     "text": [
      "[2022-04-12 22:24:20,453][HYDRA] Launching 2 jobs locally\n",
      "[2022-04-12 22:24:20,454][HYDRA] \t#0 : model=aug_trained_fc +job_epsilon='range(0,1,0.1)'\n",
      "[2022-04-12 22:24:21,266][HYDRA] Launching 10 jobs locally\n",
      "[2022-04-12 22:24:21,267][HYDRA] \t#0 : epsilon=0.0\n",
      "[2022-04-12 22:24:22,051][HYDRA] \t#1 : epsilon=0.1\n",
      "[2022-04-12 22:24:22,829][HYDRA] \t#2 : epsilon=0.2\n",
      "[2022-04-12 22:24:23,589][HYDRA] \t#3 : epsilon=0.3\n",
      "[2022-04-12 22:24:24,427][HYDRA] \t#4 : epsilon=0.4\n",
      "[2022-04-12 22:24:25,219][HYDRA] \t#5 : epsilon=0.5\n",
      "[2022-04-12 22:24:26,031][HYDRA] \t#6 : epsilon=0.6\n",
      "[2022-04-12 22:24:26,824][HYDRA] \t#7 : epsilon=0.7000000000000001\n",
      "[2022-04-12 22:24:27,675][HYDRA] \t#8 : epsilon=0.8\n",
      "[2022-04-12 22:24:28,605][HYDRA] \t#9 : epsilon=0.9\n",
      "Finished Job\n",
      "\n",
      "[2022-04-12 22:24:29,414][HYDRA] \t#1 : model=aug_trained_cnn +job_epsilon='range(0,1,0.1)'\n",
      "[2022-04-12 22:24:30,260][HYDRA] Launching 10 jobs locally\n",
      "[2022-04-12 22:24:30,260][HYDRA] \t#0 : epsilon=0.0\n",
      "[2022-04-12 22:24:31,131][HYDRA] \t#1 : epsilon=0.1\n",
      "[2022-04-12 22:24:32,196][HYDRA] \t#2 : epsilon=0.2\n",
      "[2022-04-12 22:24:33,180][HYDRA] \t#3 : epsilon=0.3\n",
      "[2022-04-12 22:24:34,283][HYDRA] \t#4 : epsilon=0.4\n",
      "[2022-04-12 22:24:35,256][HYDRA] \t#5 : epsilon=0.5\n",
      "[2022-04-12 22:24:36,305][HYDRA] \t#6 : epsilon=0.6\n",
      "[2022-04-12 22:24:37,454][HYDRA] \t#7 : epsilon=0.7000000000000001\n",
      "[2022-04-12 22:24:38,462][HYDRA] \t#8 : epsilon=0.8\n",
      "[2022-04-12 22:24:39,465][HYDRA] \t#9 : epsilon=0.9\n",
      "Finished Job\n",
      "\n"
     ]
    }
   ],
   "source": [
    "(aug_curve_jobs,) = launch(\n",
    "    Config,\n",
    "    curve_task_fn,\n",
    "    overrides=[\n",
    "        \"model=aug_trained_fc,aug_trained_cnn\",\n",
    "        \"+job_epsilon='range(0,1,0.1)'\",\n",
    "    ],\n",
    "    config_name=\"robustness_curve\",\n",
    "    multirun=True,\n",
    ")"
   ]
  },
  {
   "cell_type": "code",
   "execution_count": 29,
   "id": "d2c51a00-9c6a-4ead-9d5e-039e9d590108",
   "metadata": {},
   "outputs": [
    {
     "data": {
      "text/html": [
       "<div>\n",
       "<style scoped>\n",
       "    .dataframe tbody tr th:only-of-type {\n",
       "        vertical-align: middle;\n",
       "    }\n",
       "\n",
       "    .dataframe tbody tr th {\n",
       "        vertical-align: top;\n",
       "    }\n",
       "\n",
       "    .dataframe thead th {\n",
       "        text-align: right;\n",
       "    }\n",
       "</style>\n",
       "<table border=\"1\" class=\"dataframe\">\n",
       "  <thead>\n",
       "    <tr style=\"text-align: right;\">\n",
       "      <th></th>\n",
       "      <th></th>\n",
       "      <th>accuracy</th>\n",
       "    </tr>\n",
       "    <tr>\n",
       "      <th>model</th>\n",
       "      <th>epsilon</th>\n",
       "      <th></th>\n",
       "    </tr>\n",
       "  </thead>\n",
       "  <tbody>\n",
       "    <tr>\n",
       "      <th rowspan=\"10\" valign=\"top\">fc</th>\n",
       "      <th>0.0</th>\n",
       "      <td>0.9799</td>\n",
       "    </tr>\n",
       "    <tr>\n",
       "      <th>0.1</th>\n",
       "      <td>0.7617</td>\n",
       "    </tr>\n",
       "    <tr>\n",
       "      <th>0.2</th>\n",
       "      <td>0.3668</td>\n",
       "    </tr>\n",
       "    <tr>\n",
       "      <th>0.3</th>\n",
       "      <td>0.1997</td>\n",
       "    </tr>\n",
       "    <tr>\n",
       "      <th>0.4</th>\n",
       "      <td>0.1430</td>\n",
       "    </tr>\n",
       "    <tr>\n",
       "      <th>0.5</th>\n",
       "      <td>0.1304</td>\n",
       "    </tr>\n",
       "    <tr>\n",
       "      <th>0.6</th>\n",
       "      <td>0.1210</td>\n",
       "    </tr>\n",
       "    <tr>\n",
       "      <th>0.7</th>\n",
       "      <td>0.1123</td>\n",
       "    </tr>\n",
       "    <tr>\n",
       "      <th>0.8</th>\n",
       "      <td>0.1055</td>\n",
       "    </tr>\n",
       "    <tr>\n",
       "      <th>0.9</th>\n",
       "      <td>0.1007</td>\n",
       "    </tr>\n",
       "    <tr>\n",
       "      <th rowspan=\"10\" valign=\"top\">cnn</th>\n",
       "      <th>0.0</th>\n",
       "      <td>0.9906</td>\n",
       "    </tr>\n",
       "    <tr>\n",
       "      <th>0.1</th>\n",
       "      <td>0.9609</td>\n",
       "    </tr>\n",
       "    <tr>\n",
       "      <th>0.2</th>\n",
       "      <td>0.7454</td>\n",
       "    </tr>\n",
       "    <tr>\n",
       "      <th>0.3</th>\n",
       "      <td>0.4905</td>\n",
       "    </tr>\n",
       "    <tr>\n",
       "      <th>0.4</th>\n",
       "      <td>0.3320</td>\n",
       "    </tr>\n",
       "    <tr>\n",
       "      <th>0.5</th>\n",
       "      <td>0.2683</td>\n",
       "    </tr>\n",
       "    <tr>\n",
       "      <th>0.6</th>\n",
       "      <td>0.2250</td>\n",
       "    </tr>\n",
       "    <tr>\n",
       "      <th>0.7</th>\n",
       "      <td>0.1949</td>\n",
       "    </tr>\n",
       "    <tr>\n",
       "      <th>0.8</th>\n",
       "      <td>0.1774</td>\n",
       "    </tr>\n",
       "    <tr>\n",
       "      <th>0.9</th>\n",
       "      <td>0.1585</td>\n",
       "    </tr>\n",
       "    <tr>\n",
       "      <th rowspan=\"10\" valign=\"top\">aug fc</th>\n",
       "      <th>0.0</th>\n",
       "      <td>0.9579</td>\n",
       "    </tr>\n",
       "    <tr>\n",
       "      <th>0.1</th>\n",
       "      <td>0.9565</td>\n",
       "    </tr>\n",
       "    <tr>\n",
       "      <th>0.2</th>\n",
       "      <td>0.9473</td>\n",
       "    </tr>\n",
       "    <tr>\n",
       "      <th>0.3</th>\n",
       "      <td>0.8205</td>\n",
       "    </tr>\n",
       "    <tr>\n",
       "      <th>0.4</th>\n",
       "      <td>0.5409</td>\n",
       "    </tr>\n",
       "    <tr>\n",
       "      <th>0.5</th>\n",
       "      <td>0.3864</td>\n",
       "    </tr>\n",
       "    <tr>\n",
       "      <th>0.6</th>\n",
       "      <td>0.2925</td>\n",
       "    </tr>\n",
       "    <tr>\n",
       "      <th>0.7</th>\n",
       "      <td>0.2327</td>\n",
       "    </tr>\n",
       "    <tr>\n",
       "      <th>0.8</th>\n",
       "      <td>0.1969</td>\n",
       "    </tr>\n",
       "    <tr>\n",
       "      <th>0.9</th>\n",
       "      <td>0.1692</td>\n",
       "    </tr>\n",
       "    <tr>\n",
       "      <th rowspan=\"10\" valign=\"top\">aug cnn</th>\n",
       "      <th>0.0</th>\n",
       "      <td>0.9851</td>\n",
       "    </tr>\n",
       "    <tr>\n",
       "      <th>0.1</th>\n",
       "      <td>0.9866</td>\n",
       "    </tr>\n",
       "    <tr>\n",
       "      <th>0.2</th>\n",
       "      <td>0.9870</td>\n",
       "    </tr>\n",
       "    <tr>\n",
       "      <th>0.3</th>\n",
       "      <td>0.9441</td>\n",
       "    </tr>\n",
       "    <tr>\n",
       "      <th>0.4</th>\n",
       "      <td>0.7683</td>\n",
       "    </tr>\n",
       "    <tr>\n",
       "      <th>0.5</th>\n",
       "      <td>0.5722</td>\n",
       "    </tr>\n",
       "    <tr>\n",
       "      <th>0.6</th>\n",
       "      <td>0.4440</td>\n",
       "    </tr>\n",
       "    <tr>\n",
       "      <th>0.7</th>\n",
       "      <td>0.3617</td>\n",
       "    </tr>\n",
       "    <tr>\n",
       "      <th>0.8</th>\n",
       "      <td>0.3009</td>\n",
       "    </tr>\n",
       "    <tr>\n",
       "      <th>0.9</th>\n",
       "      <td>0.2486</td>\n",
       "    </tr>\n",
       "  </tbody>\n",
       "</table>\n",
       "</div>"
      ],
      "text/plain": [
       "                 accuracy\n",
       "model   epsilon          \n",
       "fc      0.0        0.9799\n",
       "        0.1        0.7617\n",
       "        0.2        0.3668\n",
       "        0.3        0.1997\n",
       "        0.4        0.1430\n",
       "        0.5        0.1304\n",
       "        0.6        0.1210\n",
       "        0.7        0.1123\n",
       "        0.8        0.1055\n",
       "        0.9        0.1007\n",
       "cnn     0.0        0.9906\n",
       "        0.1        0.9609\n",
       "        0.2        0.7454\n",
       "        0.3        0.4905\n",
       "        0.4        0.3320\n",
       "        0.5        0.2683\n",
       "        0.6        0.2250\n",
       "        0.7        0.1949\n",
       "        0.8        0.1774\n",
       "        0.9        0.1585\n",
       "aug fc  0.0        0.9579\n",
       "        0.1        0.9565\n",
       "        0.2        0.9473\n",
       "        0.3        0.8205\n",
       "        0.4        0.5409\n",
       "        0.5        0.3864\n",
       "        0.6        0.2925\n",
       "        0.7        0.2327\n",
       "        0.8        0.1969\n",
       "        0.9        0.1692\n",
       "aug cnn 0.0        0.9851\n",
       "        0.1        0.9866\n",
       "        0.2        0.9870\n",
       "        0.3        0.9441\n",
       "        0.4        0.7683\n",
       "        0.5        0.5722\n",
       "        0.6        0.4440\n",
       "        0.7        0.3617\n",
       "        0.8        0.3009\n",
       "        0.9        0.2486"
      ]
     },
     "execution_count": 29,
     "metadata": {},
     "output_type": "execute_result"
    }
   ],
   "source": [
    "exp_coord = xr.DataArray(\n",
    "    [\"aug fc\", \"aug cnn\"], name=\"model\", dims=[\"model\"], coords=[exp_inds]\n",
    ")\n",
    "aug_xdata = xr.concat(([c.return_value for c in aug_curve_jobs]), exp_coord)\n",
    "all_xdata = xr.concat((xdata, aug_xdata), dim=\"model\")\n",
    "all_xdata.to_dataframe()"
   ]
  },
  {
   "cell_type": "code",
   "execution_count": 30,
   "id": "d12beccc-f6ad-4300-8fea-0cbe3e1ae4af",
   "metadata": {},
   "outputs": [
    {
     "data": {
      "text/plain": [
       "[<matplotlib.lines.Line2D at 0x7f38958bc850>,\n",
       " <matplotlib.lines.Line2D at 0x7f38958bc7c0>,\n",
       " <matplotlib.lines.Line2D at 0x7f389558ec40>,\n",
       " <matplotlib.lines.Line2D at 0x7f3895762190>]"
      ]
     },
     "execution_count": 30,
     "metadata": {},
     "output_type": "execute_result"
    },
    {
     "data": {
      "image/png": "[encoded data removed]",
      "text/plain": [
       "<Figure size 432x288 with 1 Axes>"
      ]
     },
     "metadata": {
      "needs_background": "light"
     },
     "output_type": "display_data"
    }
   ],
   "source": [
    "all_xdata.plot.line(x=\"epsilon\")"
   ]
  },
  {
   "cell_type": "code",
   "execution_count": null,
   "id": "5b38c691-34d2-466e-8365-1e1e8fa28205",
   "metadata": {},
   "outputs": [],
   "source": []
  }
 ],
 "metadata": {
  "kernelspec": {
   "display_name": "raiden",
   "language": "python",
   "name": "raiden"
  },
  "language_info": {
   "codemirror_mode": {
    "name": "ipython",
    "version": 3
   },
   "file_extension": ".py",
   "mimetype": "text/x-python",
   "name": "python",
   "nbconvert_exporter": "python",
   "pygments_lexer": "ipython3",
   "version": "3.8.12"
  }
 },
 "nbformat": 4,
 "nbformat_minor": 5
}
